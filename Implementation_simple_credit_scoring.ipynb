{
  "nbformat": 4,
  "nbformat_minor": 0,
  "metadata": {
    "colab": {
      "name": "Implementation simple credit scoring.ipynb",
      "provenance": [],
      "authorship_tag": "ABX9TyNHMpKlAEj+pWt2kmjVpk79"
    },
    "kernelspec": {
      "name": "python3",
      "display_name": "Python 3"
    }
  },
  "cells": [
    {
      "cell_type": "code",
      "metadata": {
        "id": "YdSTXWcgbmk8",
        "colab_type": "code",
        "colab": {}
      },
      "source": [
        "import numpy as np \n",
        "import pandas as pd "
      ],
      "execution_count": 0,
      "outputs": []
    },
    {
      "cell_type": "code",
      "metadata": {
        "id": "exHAW5fbbrXD",
        "colab_type": "code",
        "colab": {}
      },
      "source": [
        "dataset = {'Dochód':['niski','średni','średni','średni','średni','wysoki','niski','wysoki','średni','niski'],\n",
        "       'Wiek':[25, 36, 36, 25 ,28, 28, 25, 25, 36 ,36],\n",
        "       'Wiarygodność':['niska','średnia','wysoka','niska','średnia','wysoka','niska','wysoka','średnia','średnia'],\n",
        "       'Pożyczka':['Nie','Tak','Tak','Nie','Tak','Tak','Nie','Tak','Tak','Nie']}"
      ],
      "execution_count": 0,
      "outputs": []
    },
    {
      "cell_type": "code",
      "metadata": {
        "id": "RuAvt4SAcmEU",
        "colab_type": "code",
        "outputId": "f8dbed6f-58a8-4c62-8564-27ac2b0709d1",
        "colab": {
          "base_uri": "https://localhost:8080/",
          "height": 538
        }
      },
      "source": [
        "dataset"
      ],
      "execution_count": 3,
      "outputs": [
        {
          "output_type": "execute_result",
          "data": {
            "text/plain": [
              "{'Dochód': ['niski',\n",
              "  'średni',\n",
              "  'średni',\n",
              "  'średni',\n",
              "  'średni',\n",
              "  'wysoki',\n",
              "  'niski',\n",
              "  'wysoki',\n",
              "  'średni',\n",
              "  'niski'],\n",
              " 'Pożyczka': ['Nie',\n",
              "  'Tak',\n",
              "  'Tak',\n",
              "  'Nie',\n",
              "  'Tak',\n",
              "  'Tak',\n",
              "  'Nie',\n",
              "  'Tak',\n",
              "  'Tak',\n",
              "  'Nie'],\n",
              " 'Wiarygodność': ['niska',\n",
              "  'średnia',\n",
              "  'wysoka',\n",
              "  'niska',\n",
              "  'średnia',\n",
              "  'wysoka',\n",
              "  'niska',\n",
              "  'wysoka',\n",
              "  'średnia',\n",
              "  'średnia'],\n",
              " 'Wiek': [25, 36, 36, 25, 28, 28, 25, 25, 36, 36]}"
            ]
          },
          "metadata": {
            "tags": []
          },
          "execution_count": 3
        }
      ]
    },
    {
      "cell_type": "code",
      "metadata": {
        "id": "O-34sBTQcnmq",
        "colab_type": "code",
        "outputId": "006eb793-fb80-479b-9e76-998b7333c365",
        "colab": {
          "base_uri": "https://localhost:8080/",
          "height": 343
        }
      },
      "source": [
        "df = pd.DataFrame(dataset)\n",
        "df"
      ],
      "execution_count": 4,
      "outputs": [
        {
          "output_type": "execute_result",
          "data": {
            "text/html": [
              "<div>\n",
              "<style scoped>\n",
              "    .dataframe tbody tr th:only-of-type {\n",
              "        vertical-align: middle;\n",
              "    }\n",
              "\n",
              "    .dataframe tbody tr th {\n",
              "        vertical-align: top;\n",
              "    }\n",
              "\n",
              "    .dataframe thead th {\n",
              "        text-align: right;\n",
              "    }\n",
              "</style>\n",
              "<table border=\"1\" class=\"dataframe\">\n",
              "  <thead>\n",
              "    <tr style=\"text-align: right;\">\n",
              "      <th></th>\n",
              "      <th>Dochód</th>\n",
              "      <th>Wiek</th>\n",
              "      <th>Wiarygodność</th>\n",
              "      <th>Pożyczka</th>\n",
              "    </tr>\n",
              "  </thead>\n",
              "  <tbody>\n",
              "    <tr>\n",
              "      <th>0</th>\n",
              "      <td>niski</td>\n",
              "      <td>25</td>\n",
              "      <td>niska</td>\n",
              "      <td>Nie</td>\n",
              "    </tr>\n",
              "    <tr>\n",
              "      <th>1</th>\n",
              "      <td>średni</td>\n",
              "      <td>36</td>\n",
              "      <td>średnia</td>\n",
              "      <td>Tak</td>\n",
              "    </tr>\n",
              "    <tr>\n",
              "      <th>2</th>\n",
              "      <td>średni</td>\n",
              "      <td>36</td>\n",
              "      <td>wysoka</td>\n",
              "      <td>Tak</td>\n",
              "    </tr>\n",
              "    <tr>\n",
              "      <th>3</th>\n",
              "      <td>średni</td>\n",
              "      <td>25</td>\n",
              "      <td>niska</td>\n",
              "      <td>Nie</td>\n",
              "    </tr>\n",
              "    <tr>\n",
              "      <th>4</th>\n",
              "      <td>średni</td>\n",
              "      <td>28</td>\n",
              "      <td>średnia</td>\n",
              "      <td>Tak</td>\n",
              "    </tr>\n",
              "    <tr>\n",
              "      <th>5</th>\n",
              "      <td>wysoki</td>\n",
              "      <td>28</td>\n",
              "      <td>wysoka</td>\n",
              "      <td>Tak</td>\n",
              "    </tr>\n",
              "    <tr>\n",
              "      <th>6</th>\n",
              "      <td>niski</td>\n",
              "      <td>25</td>\n",
              "      <td>niska</td>\n",
              "      <td>Nie</td>\n",
              "    </tr>\n",
              "    <tr>\n",
              "      <th>7</th>\n",
              "      <td>wysoki</td>\n",
              "      <td>25</td>\n",
              "      <td>wysoka</td>\n",
              "      <td>Tak</td>\n",
              "    </tr>\n",
              "    <tr>\n",
              "      <th>8</th>\n",
              "      <td>średni</td>\n",
              "      <td>36</td>\n",
              "      <td>średnia</td>\n",
              "      <td>Tak</td>\n",
              "    </tr>\n",
              "    <tr>\n",
              "      <th>9</th>\n",
              "      <td>niski</td>\n",
              "      <td>36</td>\n",
              "      <td>średnia</td>\n",
              "      <td>Nie</td>\n",
              "    </tr>\n",
              "  </tbody>\n",
              "</table>\n",
              "</div>"
            ],
            "text/plain": [
              "   Dochód  Wiek Wiarygodność Pożyczka\n",
              "0   niski    25        niska      Nie\n",
              "1  średni    36      średnia      Tak\n",
              "2  średni    36       wysoka      Tak\n",
              "3  średni    25        niska      Nie\n",
              "4  średni    28      średnia      Tak\n",
              "5  wysoki    28       wysoka      Tak\n",
              "6   niski    25        niska      Nie\n",
              "7  wysoki    25       wysoka      Tak\n",
              "8  średni    36      średnia      Tak\n",
              "9   niski    36      średnia      Nie"
            ]
          },
          "metadata": {
            "tags": []
          },
          "execution_count": 4
        }
      ]
    },
    {
      "cell_type": "markdown",
      "metadata": {
        "id": "N7Wu92hMl7Xu",
        "colab_type": "text"
      },
      "source": [
        "Funkcja kosztu - entropia - łagodne wprowadzenie "
      ]
    },
    {
      "cell_type": "code",
      "metadata": {
        "id": "FyhcLG9emIGf",
        "colab_type": "code",
        "colab": {}
      },
      "source": [
        "entropy_node = 0\n",
        "values = df['Pożyczka'].unique()\n",
        "for value in values:\n",
        "    fraction = df.Pożyczka.value_counts()[value]/len(df.Pożyczka)\n",
        "    entropy_node += -fraction * np.log2(fraction)\n"
      ],
      "execution_count": 0,
      "outputs": []
    },
    {
      "cell_type": "code",
      "metadata": {
        "id": "Aey6-dQbnLri",
        "colab_type": "code",
        "outputId": "8c00d213-f3e1-4147-c0b4-eb3b80fd5f96",
        "colab": {
          "base_uri": "https://localhost:8080/",
          "height": 34
        }
      },
      "source": [
        "entropy_node"
      ],
      "execution_count": 6,
      "outputs": [
        {
          "output_type": "execute_result",
          "data": {
            "text/plain": [
              "0.9709505944546686"
            ]
          },
          "metadata": {
            "tags": []
          },
          "execution_count": 6
        }
      ]
    },
    {
      "cell_type": "code",
      "metadata": {
        "id": "wCqeJLZomezd",
        "colab_type": "code",
        "colab": {}
      },
      "source": [
        "attribute = 'Wiarygodność'\n",
        "target_variables = df.Pożyczka.unique()\n",
        "variables = df[attribute].unique()"
      ],
      "execution_count": 0,
      "outputs": []
    },
    {
      "cell_type": "code",
      "metadata": {
        "id": "rUYwSYy_DeXa",
        "colab_type": "code",
        "colab": {
          "base_uri": "https://localhost:8080/",
          "height": 34
        },
        "outputId": "496480e3-5555-44fa-d2b1-e716dee4fca1"
      },
      "source": [
        "print(variables)"
      ],
      "execution_count": 10,
      "outputs": [
        {
          "output_type": "stream",
          "text": [
            "['niska' 'średnia' 'wysoka']\n"
          ],
          "name": "stdout"
        }
      ]
    },
    {
      "cell_type": "code",
      "metadata": {
        "id": "p3nD-CTeDndZ",
        "colab_type": "code",
        "colab": {}
      },
      "source": [
        ""
      ],
      "execution_count": 0,
      "outputs": []
    }
  ]
}