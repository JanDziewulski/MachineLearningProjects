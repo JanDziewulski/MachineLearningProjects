{
  "nbformat": 4,
  "nbformat_minor": 0,
  "metadata": {
    "colab": {
      "name": "Linear_regression_practical_car_dataset.ipynb",
      "provenance": [],
      "collapsed_sections": [],
      "mount_file_id": "16B6Mt-SPpvcw23QtL-zS9daTwnVhwOVb",
      "authorship_tag": "ABX9TyMm7LxpfwYJOEpucDol8AGa",
      "include_colab_link": true
    },
    "kernelspec": {
      "name": "python3",
      "display_name": "Python 3"
    }
  },
  "cells": [
    {
      "cell_type": "markdown",
      "metadata": {
        "id": "view-in-github",
        "colab_type": "text"
      },
      "source": [
        "<a href=\"https://colab.research.google.com/github/JanDziewulski/MachineLearningProjects/blob/master/Linear_regression_practical_car_dataset.ipynb\" target=\"_parent\"><img src=\"https://colab.research.google.com/assets/colab-badge.svg\" alt=\"Open In Colab\"/></a>"
      ]
    },
    {
      "cell_type": "code",
      "metadata": {
        "id": "G_i2MeemuHQf",
        "colab_type": "code",
        "colab": {}
      },
      "source": [
        "import numpy as np\n",
        "import pandas as pd \n",
        "import statsmodels.api as sm\n",
        "import matplotlib.pyplot as plt\n",
        "import seaborn as sns \n",
        "sns.set()\n",
        "from sklearn.linear_model import LinearRegression\n",
        "import plotly.figure_factory as ff"
      ],
      "execution_count": 90,
      "outputs": []
    },
    {
      "cell_type": "code",
      "metadata": {
        "id": "NrsxxWzRu7PL",
        "colab_type": "code",
        "colab": {}
      },
      "source": [
        "raw_data = pd.read_csv('/content/drive/My Drive/Colab Notebooks/DS_case_study/data/1.04. Real-life example.csv')"
      ],
      "execution_count": 91,
      "outputs": []
    },
    {
      "cell_type": "code",
      "metadata": {
        "id": "t_3K-QiFvTO1",
        "colab_type": "code",
        "colab": {}
      },
      "source": [
        "df = raw_data.copy()"
      ],
      "execution_count": 92,
      "outputs": []
    },
    {
      "cell_type": "code",
      "metadata": {
        "id": "S9-6R4Olv1fh",
        "colab_type": "code",
        "colab": {
          "base_uri": "https://localhost:8080/",
          "height": 246
        },
        "outputId": "41f3295e-7f2c-46ff-d791-0f3f9b745cee"
      },
      "source": [
        "df.head()"
      ],
      "execution_count": 93,
      "outputs": [
        {
          "output_type": "execute_result",
          "data": {
            "text/html": [
              "<div>\n",
              "<style scoped>\n",
              "    .dataframe tbody tr th:only-of-type {\n",
              "        vertical-align: middle;\n",
              "    }\n",
              "\n",
              "    .dataframe tbody tr th {\n",
              "        vertical-align: top;\n",
              "    }\n",
              "\n",
              "    .dataframe thead th {\n",
              "        text-align: right;\n",
              "    }\n",
              "</style>\n",
              "<table border=\"1\" class=\"dataframe\">\n",
              "  <thead>\n",
              "    <tr style=\"text-align: right;\">\n",
              "      <th></th>\n",
              "      <th>Brand</th>\n",
              "      <th>Price</th>\n",
              "      <th>Body</th>\n",
              "      <th>Mileage</th>\n",
              "      <th>EngineV</th>\n",
              "      <th>Engine Type</th>\n",
              "      <th>Registration</th>\n",
              "      <th>Year</th>\n",
              "      <th>Model</th>\n",
              "    </tr>\n",
              "  </thead>\n",
              "  <tbody>\n",
              "    <tr>\n",
              "      <th>0</th>\n",
              "      <td>BMW</td>\n",
              "      <td>4200.0</td>\n",
              "      <td>sedan</td>\n",
              "      <td>277</td>\n",
              "      <td>2.0</td>\n",
              "      <td>Petrol</td>\n",
              "      <td>yes</td>\n",
              "      <td>1991</td>\n",
              "      <td>320</td>\n",
              "    </tr>\n",
              "    <tr>\n",
              "      <th>1</th>\n",
              "      <td>Mercedes-Benz</td>\n",
              "      <td>7900.0</td>\n",
              "      <td>van</td>\n",
              "      <td>427</td>\n",
              "      <td>2.9</td>\n",
              "      <td>Diesel</td>\n",
              "      <td>yes</td>\n",
              "      <td>1999</td>\n",
              "      <td>Sprinter 212</td>\n",
              "    </tr>\n",
              "    <tr>\n",
              "      <th>2</th>\n",
              "      <td>Mercedes-Benz</td>\n",
              "      <td>13300.0</td>\n",
              "      <td>sedan</td>\n",
              "      <td>358</td>\n",
              "      <td>5.0</td>\n",
              "      <td>Gas</td>\n",
              "      <td>yes</td>\n",
              "      <td>2003</td>\n",
              "      <td>S 500</td>\n",
              "    </tr>\n",
              "    <tr>\n",
              "      <th>3</th>\n",
              "      <td>Audi</td>\n",
              "      <td>23000.0</td>\n",
              "      <td>crossover</td>\n",
              "      <td>240</td>\n",
              "      <td>4.2</td>\n",
              "      <td>Petrol</td>\n",
              "      <td>yes</td>\n",
              "      <td>2007</td>\n",
              "      <td>Q7</td>\n",
              "    </tr>\n",
              "    <tr>\n",
              "      <th>4</th>\n",
              "      <td>Toyota</td>\n",
              "      <td>18300.0</td>\n",
              "      <td>crossover</td>\n",
              "      <td>120</td>\n",
              "      <td>2.0</td>\n",
              "      <td>Petrol</td>\n",
              "      <td>yes</td>\n",
              "      <td>2011</td>\n",
              "      <td>Rav 4</td>\n",
              "    </tr>\n",
              "  </tbody>\n",
              "</table>\n",
              "</div>"
            ],
            "text/plain": [
              "           Brand    Price       Body  ...  Registration  Year         Model\n",
              "0            BMW   4200.0      sedan  ...           yes  1991           320\n",
              "1  Mercedes-Benz   7900.0        van  ...           yes  1999  Sprinter 212\n",
              "2  Mercedes-Benz  13300.0      sedan  ...           yes  2003         S 500\n",
              "3           Audi  23000.0  crossover  ...           yes  2007            Q7\n",
              "4         Toyota  18300.0  crossover  ...           yes  2011         Rav 4\n",
              "\n",
              "[5 rows x 9 columns]"
            ]
          },
          "metadata": {
            "tags": []
          },
          "execution_count": 93
        }
      ]
    },
    {
      "cell_type": "code",
      "metadata": {
        "id": "IExr_AB3v3RM",
        "colab_type": "code",
        "colab": {
          "base_uri": "https://localhost:8080/",
          "height": 426
        },
        "outputId": "0396fdb7-16e8-47c3-e191-ae07ed622160"
      },
      "source": [
        "df.describe(include='all')"
      ],
      "execution_count": 94,
      "outputs": [
        {
          "output_type": "execute_result",
          "data": {
            "text/html": [
              "<div>\n",
              "<style scoped>\n",
              "    .dataframe tbody tr th:only-of-type {\n",
              "        vertical-align: middle;\n",
              "    }\n",
              "\n",
              "    .dataframe tbody tr th {\n",
              "        vertical-align: top;\n",
              "    }\n",
              "\n",
              "    .dataframe thead th {\n",
              "        text-align: right;\n",
              "    }\n",
              "</style>\n",
              "<table border=\"1\" class=\"dataframe\">\n",
              "  <thead>\n",
              "    <tr style=\"text-align: right;\">\n",
              "      <th></th>\n",
              "      <th>Brand</th>\n",
              "      <th>Price</th>\n",
              "      <th>Body</th>\n",
              "      <th>Mileage</th>\n",
              "      <th>EngineV</th>\n",
              "      <th>Engine Type</th>\n",
              "      <th>Registration</th>\n",
              "      <th>Year</th>\n",
              "      <th>Model</th>\n",
              "    </tr>\n",
              "  </thead>\n",
              "  <tbody>\n",
              "    <tr>\n",
              "      <th>count</th>\n",
              "      <td>4345</td>\n",
              "      <td>4173.000000</td>\n",
              "      <td>4345</td>\n",
              "      <td>4345.000000</td>\n",
              "      <td>4195.000000</td>\n",
              "      <td>4345</td>\n",
              "      <td>4345</td>\n",
              "      <td>4345.000000</td>\n",
              "      <td>4345</td>\n",
              "    </tr>\n",
              "    <tr>\n",
              "      <th>unique</th>\n",
              "      <td>7</td>\n",
              "      <td>NaN</td>\n",
              "      <td>6</td>\n",
              "      <td>NaN</td>\n",
              "      <td>NaN</td>\n",
              "      <td>4</td>\n",
              "      <td>2</td>\n",
              "      <td>NaN</td>\n",
              "      <td>312</td>\n",
              "    </tr>\n",
              "    <tr>\n",
              "      <th>top</th>\n",
              "      <td>Volkswagen</td>\n",
              "      <td>NaN</td>\n",
              "      <td>sedan</td>\n",
              "      <td>NaN</td>\n",
              "      <td>NaN</td>\n",
              "      <td>Diesel</td>\n",
              "      <td>yes</td>\n",
              "      <td>NaN</td>\n",
              "      <td>E-Class</td>\n",
              "    </tr>\n",
              "    <tr>\n",
              "      <th>freq</th>\n",
              "      <td>936</td>\n",
              "      <td>NaN</td>\n",
              "      <td>1649</td>\n",
              "      <td>NaN</td>\n",
              "      <td>NaN</td>\n",
              "      <td>2019</td>\n",
              "      <td>3947</td>\n",
              "      <td>NaN</td>\n",
              "      <td>199</td>\n",
              "    </tr>\n",
              "    <tr>\n",
              "      <th>mean</th>\n",
              "      <td>NaN</td>\n",
              "      <td>19418.746935</td>\n",
              "      <td>NaN</td>\n",
              "      <td>161.237284</td>\n",
              "      <td>2.790734</td>\n",
              "      <td>NaN</td>\n",
              "      <td>NaN</td>\n",
              "      <td>2006.550058</td>\n",
              "      <td>NaN</td>\n",
              "    </tr>\n",
              "    <tr>\n",
              "      <th>std</th>\n",
              "      <td>NaN</td>\n",
              "      <td>25584.242620</td>\n",
              "      <td>NaN</td>\n",
              "      <td>105.705797</td>\n",
              "      <td>5.066437</td>\n",
              "      <td>NaN</td>\n",
              "      <td>NaN</td>\n",
              "      <td>6.719097</td>\n",
              "      <td>NaN</td>\n",
              "    </tr>\n",
              "    <tr>\n",
              "      <th>min</th>\n",
              "      <td>NaN</td>\n",
              "      <td>600.000000</td>\n",
              "      <td>NaN</td>\n",
              "      <td>0.000000</td>\n",
              "      <td>0.600000</td>\n",
              "      <td>NaN</td>\n",
              "      <td>NaN</td>\n",
              "      <td>1969.000000</td>\n",
              "      <td>NaN</td>\n",
              "    </tr>\n",
              "    <tr>\n",
              "      <th>25%</th>\n",
              "      <td>NaN</td>\n",
              "      <td>6999.000000</td>\n",
              "      <td>NaN</td>\n",
              "      <td>86.000000</td>\n",
              "      <td>1.800000</td>\n",
              "      <td>NaN</td>\n",
              "      <td>NaN</td>\n",
              "      <td>2003.000000</td>\n",
              "      <td>NaN</td>\n",
              "    </tr>\n",
              "    <tr>\n",
              "      <th>50%</th>\n",
              "      <td>NaN</td>\n",
              "      <td>11500.000000</td>\n",
              "      <td>NaN</td>\n",
              "      <td>155.000000</td>\n",
              "      <td>2.200000</td>\n",
              "      <td>NaN</td>\n",
              "      <td>NaN</td>\n",
              "      <td>2008.000000</td>\n",
              "      <td>NaN</td>\n",
              "    </tr>\n",
              "    <tr>\n",
              "      <th>75%</th>\n",
              "      <td>NaN</td>\n",
              "      <td>21700.000000</td>\n",
              "      <td>NaN</td>\n",
              "      <td>230.000000</td>\n",
              "      <td>3.000000</td>\n",
              "      <td>NaN</td>\n",
              "      <td>NaN</td>\n",
              "      <td>2012.000000</td>\n",
              "      <td>NaN</td>\n",
              "    </tr>\n",
              "    <tr>\n",
              "      <th>max</th>\n",
              "      <td>NaN</td>\n",
              "      <td>300000.000000</td>\n",
              "      <td>NaN</td>\n",
              "      <td>980.000000</td>\n",
              "      <td>99.990000</td>\n",
              "      <td>NaN</td>\n",
              "      <td>NaN</td>\n",
              "      <td>2016.000000</td>\n",
              "      <td>NaN</td>\n",
              "    </tr>\n",
              "  </tbody>\n",
              "</table>\n",
              "</div>"
            ],
            "text/plain": [
              "             Brand          Price   Body  ...  Registration         Year    Model\n",
              "count         4345    4173.000000   4345  ...          4345  4345.000000     4345\n",
              "unique           7            NaN      6  ...             2          NaN      312\n",
              "top     Volkswagen            NaN  sedan  ...           yes          NaN  E-Class\n",
              "freq           936            NaN   1649  ...          3947          NaN      199\n",
              "mean           NaN   19418.746935    NaN  ...           NaN  2006.550058      NaN\n",
              "std            NaN   25584.242620    NaN  ...           NaN     6.719097      NaN\n",
              "min            NaN     600.000000    NaN  ...           NaN  1969.000000      NaN\n",
              "25%            NaN    6999.000000    NaN  ...           NaN  2003.000000      NaN\n",
              "50%            NaN   11500.000000    NaN  ...           NaN  2008.000000      NaN\n",
              "75%            NaN   21700.000000    NaN  ...           NaN  2012.000000      NaN\n",
              "max            NaN  300000.000000    NaN  ...           NaN  2016.000000      NaN\n",
              "\n",
              "[11 rows x 9 columns]"
            ]
          },
          "metadata": {
            "tags": []
          },
          "execution_count": 94
        }
      ]
    },
    {
      "cell_type": "code",
      "metadata": {
        "id": "w_eIS0ukv6Q8",
        "colab_type": "code",
        "colab": {
          "base_uri": "https://localhost:8080/",
          "height": 185
        },
        "outputId": "0990880f-7398-45f2-9b6b-63f1a244c30d"
      },
      "source": [
        "df.isnull().sum()"
      ],
      "execution_count": 95,
      "outputs": [
        {
          "output_type": "execute_result",
          "data": {
            "text/plain": [
              "Brand             0\n",
              "Price           172\n",
              "Body              0\n",
              "Mileage           0\n",
              "EngineV         150\n",
              "Engine Type       0\n",
              "Registration      0\n",
              "Year              0\n",
              "Model             0\n",
              "dtype: int64"
            ]
          },
          "metadata": {
            "tags": []
          },
          "execution_count": 95
        }
      ]
    },
    {
      "cell_type": "code",
      "metadata": {
        "id": "4D3hFjUYwG48",
        "colab_type": "code",
        "colab": {}
      },
      "source": [
        "df = df.drop(['Model'], axis=1)"
      ],
      "execution_count": 96,
      "outputs": []
    },
    {
      "cell_type": "code",
      "metadata": {
        "id": "nhR9GVJWwY-8",
        "colab_type": "code",
        "colab": {
          "base_uri": "https://localhost:8080/",
          "height": 195
        },
        "outputId": "6b087963-f777-4a0b-f6ab-38ec377e95bc"
      },
      "source": [
        "df.head()"
      ],
      "execution_count": 97,
      "outputs": [
        {
          "output_type": "execute_result",
          "data": {
            "text/html": [
              "<div>\n",
              "<style scoped>\n",
              "    .dataframe tbody tr th:only-of-type {\n",
              "        vertical-align: middle;\n",
              "    }\n",
              "\n",
              "    .dataframe tbody tr th {\n",
              "        vertical-align: top;\n",
              "    }\n",
              "\n",
              "    .dataframe thead th {\n",
              "        text-align: right;\n",
              "    }\n",
              "</style>\n",
              "<table border=\"1\" class=\"dataframe\">\n",
              "  <thead>\n",
              "    <tr style=\"text-align: right;\">\n",
              "      <th></th>\n",
              "      <th>Brand</th>\n",
              "      <th>Price</th>\n",
              "      <th>Body</th>\n",
              "      <th>Mileage</th>\n",
              "      <th>EngineV</th>\n",
              "      <th>Engine Type</th>\n",
              "      <th>Registration</th>\n",
              "      <th>Year</th>\n",
              "    </tr>\n",
              "  </thead>\n",
              "  <tbody>\n",
              "    <tr>\n",
              "      <th>0</th>\n",
              "      <td>BMW</td>\n",
              "      <td>4200.0</td>\n",
              "      <td>sedan</td>\n",
              "      <td>277</td>\n",
              "      <td>2.0</td>\n",
              "      <td>Petrol</td>\n",
              "      <td>yes</td>\n",
              "      <td>1991</td>\n",
              "    </tr>\n",
              "    <tr>\n",
              "      <th>1</th>\n",
              "      <td>Mercedes-Benz</td>\n",
              "      <td>7900.0</td>\n",
              "      <td>van</td>\n",
              "      <td>427</td>\n",
              "      <td>2.9</td>\n",
              "      <td>Diesel</td>\n",
              "      <td>yes</td>\n",
              "      <td>1999</td>\n",
              "    </tr>\n",
              "    <tr>\n",
              "      <th>2</th>\n",
              "      <td>Mercedes-Benz</td>\n",
              "      <td>13300.0</td>\n",
              "      <td>sedan</td>\n",
              "      <td>358</td>\n",
              "      <td>5.0</td>\n",
              "      <td>Gas</td>\n",
              "      <td>yes</td>\n",
              "      <td>2003</td>\n",
              "    </tr>\n",
              "    <tr>\n",
              "      <th>3</th>\n",
              "      <td>Audi</td>\n",
              "      <td>23000.0</td>\n",
              "      <td>crossover</td>\n",
              "      <td>240</td>\n",
              "      <td>4.2</td>\n",
              "      <td>Petrol</td>\n",
              "      <td>yes</td>\n",
              "      <td>2007</td>\n",
              "    </tr>\n",
              "    <tr>\n",
              "      <th>4</th>\n",
              "      <td>Toyota</td>\n",
              "      <td>18300.0</td>\n",
              "      <td>crossover</td>\n",
              "      <td>120</td>\n",
              "      <td>2.0</td>\n",
              "      <td>Petrol</td>\n",
              "      <td>yes</td>\n",
              "      <td>2011</td>\n",
              "    </tr>\n",
              "  </tbody>\n",
              "</table>\n",
              "</div>"
            ],
            "text/plain": [
              "           Brand    Price       Body  ...  Engine Type  Registration  Year\n",
              "0            BMW   4200.0      sedan  ...       Petrol           yes  1991\n",
              "1  Mercedes-Benz   7900.0        van  ...       Diesel           yes  1999\n",
              "2  Mercedes-Benz  13300.0      sedan  ...          Gas           yes  2003\n",
              "3           Audi  23000.0  crossover  ...       Petrol           yes  2007\n",
              "4         Toyota  18300.0  crossover  ...       Petrol           yes  2011\n",
              "\n",
              "[5 rows x 8 columns]"
            ]
          },
          "metadata": {
            "tags": []
          },
          "execution_count": 97
        }
      ]
    },
    {
      "cell_type": "code",
      "metadata": {
        "id": "8wiFtuQZwcKC",
        "colab_type": "code",
        "colab": {}
      },
      "source": [
        "df = df.dropna(axis=0)"
      ],
      "execution_count": 98,
      "outputs": []
    },
    {
      "cell_type": "code",
      "metadata": {
        "id": "5ZDbfU1WxFAr",
        "colab_type": "code",
        "colab": {
          "base_uri": "https://localhost:8080/",
          "height": 168
        },
        "outputId": "1428641c-e86e-4e96-cc1d-4ae38c3170cf"
      },
      "source": [
        "df.isnull().sum()"
      ],
      "execution_count": 99,
      "outputs": [
        {
          "output_type": "execute_result",
          "data": {
            "text/plain": [
              "Brand           0\n",
              "Price           0\n",
              "Body            0\n",
              "Mileage         0\n",
              "EngineV         0\n",
              "Engine Type     0\n",
              "Registration    0\n",
              "Year            0\n",
              "dtype: int64"
            ]
          },
          "metadata": {
            "tags": []
          },
          "execution_count": 99
        }
      ]
    },
    {
      "cell_type": "code",
      "metadata": {
        "id": "MwGPCaiAyEkE",
        "colab_type": "code",
        "colab": {
          "base_uri": "https://localhost:8080/",
          "height": 313
        },
        "outputId": "7c1e7a24-0adc-482d-c68c-899d88f389ac"
      },
      "source": [
        "sns.distplot(df.Price)"
      ],
      "execution_count": 100,
      "outputs": [
        {
          "output_type": "execute_result",
          "data": {
            "text/plain": [
              "<matplotlib.axes._subplots.AxesSubplot at 0x7f124c6dc588>"
            ]
          },
          "metadata": {
            "tags": []
          },
          "execution_count": 100
        },
        {
          "output_type": "display_data",
          "data": {
            "image/png": "[encoded data removed]",
            "text/plain": [
              "<Figure size 432x288 with 1 Axes>"
            ]
          },
          "metadata": {
            "tags": []
          }
        }
      ]
    },
    {
      "cell_type": "markdown",
      "metadata": {
        "id": "lXyNWQ6TyXyq",
        "colab_type": "text"
      },
      "source": [
        "Tak ja widzimy na powyższym wykresie mediana jest mniejsza niż wartość średnia długi ogon, wartości odstające \\"
      ]
    },
    {
      "cell_type": "code",
      "metadata": {
        "id": "ZlUsuX73zm5o",
        "colab_type": "code",
        "colab": {}
      },
      "source": [
        "q = df.Price.quantile(0.99)\n",
        "df = df[df.Price<q]"
      ],
      "execution_count": 101,
      "outputs": []
    },
    {
      "cell_type": "code",
      "metadata": {
        "id": "ZQGHKKA0zyMW",
        "colab_type": "code",
        "colab": {
          "base_uri": "https://localhost:8080/",
          "height": 410
        },
        "outputId": "d60e0cf0-8f35-47bc-eeae-513f21162826"
      },
      "source": [
        "df.describe(include='all')"
      ],
      "execution_count": 102,
      "outputs": [
        {
          "output_type": "execute_result",
          "data": {
            "text/html": [
              "<div>\n",
              "<style scoped>\n",
              "    .dataframe tbody tr th:only-of-type {\n",
              "        vertical-align: middle;\n",
              "    }\n",
              "\n",
              "    .dataframe tbody tr th {\n",
              "        vertical-align: top;\n",
              "    }\n",
              "\n",
              "    .dataframe thead th {\n",
              "        text-align: right;\n",
              "    }\n",
              "</style>\n",
              "<table border=\"1\" class=\"dataframe\">\n",
              "  <thead>\n",
              "    <tr style=\"text-align: right;\">\n",
              "      <th></th>\n",
              "      <th>Brand</th>\n",
              "      <th>Price</th>\n",
              "      <th>Body</th>\n",
              "      <th>Mileage</th>\n",
              "      <th>EngineV</th>\n",
              "      <th>Engine Type</th>\n",
              "      <th>Registration</th>\n",
              "      <th>Year</th>\n",
              "    </tr>\n",
              "  </thead>\n",
              "  <tbody>\n",
              "    <tr>\n",
              "      <th>count</th>\n",
              "      <td>3984</td>\n",
              "      <td>3984.000000</td>\n",
              "      <td>3984</td>\n",
              "      <td>3984.000000</td>\n",
              "      <td>3984.000000</td>\n",
              "      <td>3984</td>\n",
              "      <td>3984</td>\n",
              "      <td>3984.000000</td>\n",
              "    </tr>\n",
              "    <tr>\n",
              "      <th>unique</th>\n",
              "      <td>7</td>\n",
              "      <td>NaN</td>\n",
              "      <td>6</td>\n",
              "      <td>NaN</td>\n",
              "      <td>NaN</td>\n",
              "      <td>4</td>\n",
              "      <td>2</td>\n",
              "      <td>NaN</td>\n",
              "    </tr>\n",
              "    <tr>\n",
              "      <th>top</th>\n",
              "      <td>Volkswagen</td>\n",
              "      <td>NaN</td>\n",
              "      <td>sedan</td>\n",
              "      <td>NaN</td>\n",
              "      <td>NaN</td>\n",
              "      <td>Diesel</td>\n",
              "      <td>yes</td>\n",
              "      <td>NaN</td>\n",
              "    </tr>\n",
              "    <tr>\n",
              "      <th>freq</th>\n",
              "      <td>880</td>\n",
              "      <td>NaN</td>\n",
              "      <td>1528</td>\n",
              "      <td>NaN</td>\n",
              "      <td>NaN</td>\n",
              "      <td>1853</td>\n",
              "      <td>3613</td>\n",
              "      <td>NaN</td>\n",
              "    </tr>\n",
              "    <tr>\n",
              "      <th>mean</th>\n",
              "      <td>NaN</td>\n",
              "      <td>17837.117460</td>\n",
              "      <td>NaN</td>\n",
              "      <td>165.116466</td>\n",
              "      <td>2.743770</td>\n",
              "      <td>NaN</td>\n",
              "      <td>NaN</td>\n",
              "      <td>2006.292922</td>\n",
              "    </tr>\n",
              "    <tr>\n",
              "      <th>std</th>\n",
              "      <td>NaN</td>\n",
              "      <td>18976.268315</td>\n",
              "      <td>NaN</td>\n",
              "      <td>102.766126</td>\n",
              "      <td>4.956057</td>\n",
              "      <td>NaN</td>\n",
              "      <td>NaN</td>\n",
              "      <td>6.672745</td>\n",
              "    </tr>\n",
              "    <tr>\n",
              "      <th>min</th>\n",
              "      <td>NaN</td>\n",
              "      <td>600.000000</td>\n",
              "      <td>NaN</td>\n",
              "      <td>0.000000</td>\n",
              "      <td>0.600000</td>\n",
              "      <td>NaN</td>\n",
              "      <td>NaN</td>\n",
              "      <td>1969.000000</td>\n",
              "    </tr>\n",
              "    <tr>\n",
              "      <th>25%</th>\n",
              "      <td>NaN</td>\n",
              "      <td>6980.000000</td>\n",
              "      <td>NaN</td>\n",
              "      <td>93.000000</td>\n",
              "      <td>1.800000</td>\n",
              "      <td>NaN</td>\n",
              "      <td>NaN</td>\n",
              "      <td>2002.750000</td>\n",
              "    </tr>\n",
              "    <tr>\n",
              "      <th>50%</th>\n",
              "      <td>NaN</td>\n",
              "      <td>11400.000000</td>\n",
              "      <td>NaN</td>\n",
              "      <td>160.000000</td>\n",
              "      <td>2.200000</td>\n",
              "      <td>NaN</td>\n",
              "      <td>NaN</td>\n",
              "      <td>2007.000000</td>\n",
              "    </tr>\n",
              "    <tr>\n",
              "      <th>75%</th>\n",
              "      <td>NaN</td>\n",
              "      <td>21000.000000</td>\n",
              "      <td>NaN</td>\n",
              "      <td>230.000000</td>\n",
              "      <td>3.000000</td>\n",
              "      <td>NaN</td>\n",
              "      <td>NaN</td>\n",
              "      <td>2011.000000</td>\n",
              "    </tr>\n",
              "    <tr>\n",
              "      <th>max</th>\n",
              "      <td>NaN</td>\n",
              "      <td>129222.000000</td>\n",
              "      <td>NaN</td>\n",
              "      <td>980.000000</td>\n",
              "      <td>99.990000</td>\n",
              "      <td>NaN</td>\n",
              "      <td>NaN</td>\n",
              "      <td>2016.000000</td>\n",
              "    </tr>\n",
              "  </tbody>\n",
              "</table>\n",
              "</div>"
            ],
            "text/plain": [
              "             Brand          Price   Body  ...  Engine Type  Registration         Year\n",
              "count         3984    3984.000000   3984  ...         3984          3984  3984.000000\n",
              "unique           7            NaN      6  ...            4             2          NaN\n",
              "top     Volkswagen            NaN  sedan  ...       Diesel           yes          NaN\n",
              "freq           880            NaN   1528  ...         1853          3613          NaN\n",
              "mean           NaN   17837.117460    NaN  ...          NaN           NaN  2006.292922\n",
              "std            NaN   18976.268315    NaN  ...          NaN           NaN     6.672745\n",
              "min            NaN     600.000000    NaN  ...          NaN           NaN  1969.000000\n",
              "25%            NaN    6980.000000    NaN  ...          NaN           NaN  2002.750000\n",
              "50%            NaN   11400.000000    NaN  ...          NaN           NaN  2007.000000\n",
              "75%            NaN   21000.000000    NaN  ...          NaN           NaN  2011.000000\n",
              "max            NaN  129222.000000    NaN  ...          NaN           NaN  2016.000000\n",
              "\n",
              "[11 rows x 8 columns]"
            ]
          },
          "metadata": {
            "tags": []
          },
          "execution_count": 102
        }
      ]
    },
    {
      "cell_type": "code",
      "metadata": {
        "id": "glbARi1Xz0vp",
        "colab_type": "code",
        "colab": {
          "base_uri": "https://localhost:8080/",
          "height": 313
        },
        "outputId": "22ff066c-5101-4328-f33f-2cb0ec1b630b"
      },
      "source": [
        "sns.distplot(df.Price)"
      ],
      "execution_count": 103,
      "outputs": [
        {
          "output_type": "execute_result",
          "data": {
            "text/plain": [
              "<matplotlib.axes._subplots.AxesSubplot at 0x7f124c61a048>"
            ]
          },
          "metadata": {
            "tags": []
          },
          "execution_count": 103
        },
        {
          "output_type": "display_data",
          "data": {
            "image/png": "[encoded data removed]",
            "text/plain": [
              "<Figure size 432x288 with 1 Axes>"
            ]
          },
          "metadata": {
            "tags": []
          }
        }
      ]
    },
    {
      "cell_type": "code",
      "metadata": {
        "id": "ZU0zQlZ-z5A3",
        "colab_type": "code",
        "colab": {}
      },
      "source": [
        "q = df.Mileage.quantile(0.99)\n",
        "df = df[df.Mileage<q]"
      ],
      "execution_count": 104,
      "outputs": []
    },
    {
      "cell_type": "code",
      "metadata": {
        "id": "cIdvU0JE19qt",
        "colab_type": "code",
        "colab": {
          "base_uri": "https://localhost:8080/",
          "height": 34
        },
        "outputId": "22866246-0ae9-4239-f301-216553e95701"
      },
      "source": [
        "q"
      ],
      "execution_count": 105,
      "outputs": [
        {
          "output_type": "execute_result",
          "data": {
            "text/plain": [
              "435.5100000000002"
            ]
          },
          "metadata": {
            "tags": []
          },
          "execution_count": 105
        }
      ]
    },
    {
      "cell_type": "code",
      "metadata": {
        "id": "RrUOsc_i0oL4",
        "colab_type": "code",
        "colab": {
          "base_uri": "https://localhost:8080/",
          "height": 306
        },
        "outputId": "dc98453c-b19f-46d3-c700-02cba19f571a"
      },
      "source": [
        "sns.distplot(df.Mileage)"
      ],
      "execution_count": 106,
      "outputs": [
        {
          "output_type": "execute_result",
          "data": {
            "text/plain": [
              "<matplotlib.axes._subplots.AxesSubplot at 0x7f124c6218d0>"
            ]
          },
          "metadata": {
            "tags": []
          },
          "execution_count": 106
        },
        {
          "output_type": "display_data",
          "data": {
            "image/png": "[encoded data removed]",
            "text/plain": [
              "<Figure size 432x288 with 1 Axes>"
            ]
          },
          "metadata": {
            "tags": []
          }
        }
      ]
    },
    {
      "cell_type": "code",
      "metadata": {
        "id": "br86feiI0rnS",
        "colab_type": "code",
        "colab": {
          "base_uri": "https://localhost:8080/",
          "height": 542
        },
        "outputId": "fba4c3d6-9e6a-4189-fd9a-01d3c38c5ba7"
      },
      "source": [
        "group_labels = ['distplot']\n",
        "ff.create_distplot(hist_data=[df.Mileage], group_labels=group_labels)"
      ],
      "execution_count": 107,
      "outputs": [
        {
          "output_type": "display_data",
          "data": {
            "text/html": [
              "<html>\n",
              "<head><meta charset=\"utf-8\" /></head>\n",
              "<body>\n",
              "    <div>\n",
              "            <script src=\"https://cdnjs.cloudflare.com/ajax/libs/mathjax/2.7.5/MathJax.js?config=TeX-AMS-MML_SVG\"></script><script type=\"text/javascript\">if (window.MathJax) {MathJax.Hub.Config({SVG: {font: \"STIX-Web\"}});}</script>\n",
              "                <script type=\"text/javascript\">window.PlotlyConfig = {MathJaxConfig: 'local'};</script>\n",
              "        <script src=\"https://cdn.plot.ly/plotly-latest.min.js\"></script>    \n",
              "            <div id=\"578d09b5-0553-42d1-9366-45ff77ae23c2\" class=\"plotly-graph-div\" style=\"height:525px; width:100%;\"></div>\n",
              "            <script type=\"text/javascript\">\n",
              "                \n",
              "                    window.PLOTLYENV=window.PLOTLYENV || {};\n",
              "                    \n",
              "                if (document.getElementById(\"578d09b5-0553-42d1-9366-45ff77ae23c2\")) {\n",
              "                    Plotly.newPlot(\n",
              "                        '578d09b5-0553-42d1-9366-45ff77ae23c2',\n",
              "                        [{\"autobinx\": false, \"histnorm\": \"probability density\", \"legendgroup\": \"distplot\", \"marker\": {\"color\": \"rgb(31, 119, 180)\"}, \"name\": \"distplot\", \"opacity\": 0.7, \"type\": \"histogram\", \"x\": [277, 427, 358, 240, 120, 200, 193, 212, 177, 260, 165, 100, 250, 84, 203, 21, 250, 0, 132, 225, 130, 163, 151, 330, 171, 65, 1, 72, 87, 160, 160, 147, 300, 1, 14, 230, 86, 326, 30, 181, 80, 220, 231, 134, 335, 66, 172, 317, 266, 265, 162, 81, 253, 200, 270, 240, 245, 127, 21, 152, 267, 267, 240, 178, 190, 175, 105, 195, 126, 420, 195, 180, 195, 231, 51, 287, 222, 214, 245, 83, 210, 89, 130, 333, 116, 405, 131, 138, 50, 1, 207, 207, 31, 0, 334, 18, 150, 175, 76, 295, 5, 190, 119, 139, 235, 210, 33, 260, 156, 155, 160, 207, 63, 208, 103, 57, 64, 137, 300, 82, 163, 153, 190, 125, 112, 165, 60, 119, 0, 200, 257, 197, 164, 205, 200, 200, 145, 110, 195, 226, 184, 16, 118, 256, 33, 168, 97, 140, 280, 164, 250, 130, 260, 93, 176, 170, 151, 95, 260, 27, 290, 250, 112, 164, 300, 187, 234, 120, 182, 5, 0, 110, 237, 90, 195, 1, 18, 250, 73, 100, 130, 30, 267, 112, 245, 174, 180, 270, 187, 144, 267, 300, 160, 78, 300, 300, 201, 1, 1, 140, 390, 1, 350, 130, 148, 189, 64, 296, 350, 125, 0, 180, 82, 150, 253, 0, 179, 99, 156, 91, 216, 102, 38, 178, 200, 115, 41, 11, 48, 165, 180, 176, 100, 160, 176, 220, 20, 172, 273, 237, 106, 85, 71, 110, 117, 177, 220, 84, 93, 368, 180, 87, 170, 190, 190, 190, 2, 130, 30, 10, 50, 280, 125, 68, 0, 195, 190, 157, 285, 100, 197, 176, 250, 300, 175, 90, 145, 152, 22, 98, 200, 133, 116, 180, 140, 170, 167, 250, 240, 117, 230, 73, 22, 360, 226, 258, 3, 167, 286, 90, 320, 300, 113, 300, 70, 200, 300, 80, 225, 198, 108, 180, 260, 82, 12, 173, 214, 142, 265, 170, 103, 198, 200, 231, 95, 140, 47, 186, 175, 130, 185, 246, 175, 285, 184, 180, 263, 80, 54, 127, 135, 245, 180, 285, 0, 180, 366, 1, 380, 84, 90, 58, 111, 164, 128, 300, 270, 161, 304, 319, 38, 162, 117, 170, 40, 177, 1, 0, 60, 0, 313, 260, 85, 143, 155, 433, 200, 180, 180, 145, 39, 300, 137, 132, 112, 184, 131, 112, 93, 124, 184, 137, 280, 132, 96, 123, 198, 68, 17, 170, 400, 30, 47, 217, 280, 161, 160, 0, 45, 248, 261, 286, 250, 328, 180, 263, 248, 235, 110, 1, 223, 147, 200, 230, 180, 270, 75, 330, 159, 370, 0, 0, 210, 1, 135, 10, 108, 1, 109, 248, 185, 101, 320, 284, 240, 204, 200, 145, 184, 164, 196, 300, 264, 163, 154, 121, 246, 84, 183, 250, 225, 34, 74, 140, 230, 105, 133, 125, 75, 107, 193, 157, 160, 204, 121, 350, 298, 260, 154, 127, 260, 157, 320, 151, 220, 130, 320, 270, 115, 205, 158, 252, 40, 167, 177, 200, 67, 1, 0, 198, 162, 128, 112, 194, 200, 157, 45, 406, 95, 260, 350, 126, 180, 125, 150, 144, 158, 238, 200, 87, 23, 165, 11, 158, 1, 140, 0, 180, 272, 196, 75, 241, 240, 95, 30, 161, 308, 280, 169, 110, 170, 255, 168, 217, 180, 234, 165, 120, 210, 200, 135, 400, 102, 400, 90, 3, 218, 110, 130, 170, 370, 144, 183, 161, 210, 315, 221, 206, 270, 131, 12, 140, 113, 270, 75, 270, 60, 125, 215, 170, 80, 78, 95, 102, 112, 287, 272, 170, 79, 238, 205, 0, 103, 165, 175, 21, 255, 176, 260, 70, 203, 164, 243, 400, 400, 64, 250, 67, 151, 74, 50, 382, 98, 111, 139, 232, 179, 100, 54, 42, 246, 400, 43, 195, 0, 158, 253, 171, 250, 108, 154, 142, 123, 37, 138, 175, 82, 53, 200, 47, 127, 120, 202, 43, 129, 130, 215, 160, 45, 140, 197, 1, 1, 220, 97, 22, 148, 268, 236, 1, 198, 78, 215, 0, 80, 155, 0, 170, 390, 100, 131, 423, 148, 153, 185, 157, 97, 285, 75, 148, 121, 400, 73, 85, 1, 290, 139, 211, 101, 145, 100, 100, 164, 168, 65, 149, 360, 407, 95, 82, 240, 33, 154, 125, 122, 146, 0, 167, 40, 126, 205, 220, 43, 140, 250, 0, 190, 127, 400, 1, 100, 64, 45, 220, 116, 265, 322, 0, 195, 268, 148, 38, 212, 3, 87, 119, 270, 250, 200, 150, 55, 300, 82, 200, 175, 270, 130, 86, 131, 310, 139, 290, 56, 139, 125, 280, 375, 92, 281, 270, 90, 215, 260, 176, 98, 116, 80, 280, 110, 180, 69, 48, 100, 245, 333, 252, 300, 330, 350, 239, 240, 192, 69, 185, 317, 160, 218, 150, 167, 1, 388, 220, 73, 160, 176, 207, 250, 250, 115, 324, 30, 94, 110, 190, 88, 160, 62, 272, 278, 125, 67, 132, 180, 180, 222, 49, 132, 175, 131, 170, 249, 50, 406, 134, 98, 350, 230, 207, 184, 162, 152, 152, 151, 278, 150, 248, 220, 59, 240, 191, 97, 150, 143, 199, 107, 242, 2, 230, 250, 178, 180, 214, 120, 330, 274, 177, 167, 83, 330, 64, 198, 250, 250, 0, 145, 106, 145, 215, 0, 190, 350, 115, 140, 119, 65, 122, 0, 185, 192, 190, 1, 107, 189, 280, 242, 147, 85, 196, 173, 199, 100, 65, 180, 152, 108, 24, 130, 390, 290, 127, 320, 222, 184, 4, 70, 310, 273, 268, 40, 52, 90, 141, 156, 116, 142, 98, 197, 243, 237, 160, 107, 98, 171, 67, 107, 92, 142, 264, 30, 180, 189, 109, 165, 261, 63, 95, 38, 282, 1, 39, 179, 60, 127, 156, 299, 0, 357, 147, 177, 177, 80, 0, 195, 248, 288, 171, 189, 200, 230, 220, 135, 120, 217, 59, 130, 52, 340, 0, 314, 250, 304, 270, 300, 121, 111, 220, 246, 130, 140, 150, 77, 196, 117, 119, 311, 43, 165, 153, 200, 80, 142, 340, 95, 44, 0, 400, 99, 260, 74, 200, 320, 65, 200, 120, 127, 67, 400, 270, 200, 125, 311, 170, 150, 0, 170, 0, 170, 275, 185, 200, 164, 170, 199, 327, 219, 97, 176, 94, 150, 283, 100, 35, 298, 254, 136, 44, 88, 235, 75, 149, 248, 181, 132, 200, 165, 300, 272, 0, 1, 178, 115, 1, 114, 176, 190, 96, 147, 186, 275, 200, 199, 5, 55, 149, 141, 168, 212, 176, 217, 33, 421, 0, 183, 1, 125, 140, 199, 280, 188, 184, 150, 200, 82, 225, 160, 180, 90, 170, 222, 150, 230, 260, 20, 200, 260, 325, 52, 192, 29, 258, 217, 70, 233, 213, 62, 100, 210, 109, 280, 11, 130, 160, 99, 193, 30, 145, 360, 327, 220, 87, 80, 169, 231, 8, 300, 65, 75, 217, 117, 1, 145, 217, 111, 390, 98, 231, 160, 366, 68, 0, 131, 96, 3, 320, 286, 92, 60, 194, 300, 146, 325, 123, 176, 230, 162, 0, 40, 217, 350, 337, 16, 0, 186, 92, 90, 258, 269, 19, 105, 168, 135, 105, 38, 200, 24, 135, 266, 120, 60, 236, 64, 239, 40, 105, 249, 33, 96, 210, 190, 162, 295, 294, 225, 111, 101, 230, 250, 195, 43, 190, 190, 230, 270, 326, 135, 142, 160, 220, 232, 212, 235, 297, 157, 240, 114, 230, 250, 300, 250, 61, 193, 157, 45, 173, 276, 201, 335, 103, 312, 367, 32, 18, 285, 200, 250, 182, 220, 118, 167, 118, 177, 360, 71, 255, 91, 114, 206, 0, 277, 185, 57, 385, 80, 169, 156, 135, 150, 95, 238, 151, 202, 345, 70, 225, 180, 175, 2, 160, 281, 320, 144, 218, 280, 106, 1, 154, 238, 171, 62, 96, 250, 135, 1, 110, 185, 1, 360, 139, 194, 135, 196, 165, 129, 339, 243, 156, 350, 132, 85, 20, 146, 69, 215, 59, 1, 340, 225, 199, 140, 0, 95, 227, 280, 250, 100, 278, 400, 282, 260, 73, 127, 1, 175, 235, 318, 92, 250, 23, 304, 280, 340, 320, 287, 250, 0, 170, 255, 200, 115, 49, 206, 104, 218, 136, 245, 320, 51, 130, 315, 200, 234, 152, 370, 137, 200, 178, 173, 290, 36, 188, 271, 225, 300, 100, 230, 247, 235, 147, 312, 400, 263, 305, 83, 19, 200, 130, 136, 126, 230, 400, 170, 33, 371, 165, 80, 259, 140, 242, 123, 118, 73, 225, 127, 290, 270, 268, 193, 24, 1, 111, 296, 300, 94, 160, 270, 160, 200, 249, 0, 162, 146, 136, 148, 220, 52, 110, 178, 200, 74, 17, 110, 0, 42, 227, 226, 40, 156, 97, 160, 134, 151, 200, 190, 155, 1, 150, 176, 130, 145, 69, 275, 288, 100, 121, 245, 400, 103, 260, 55, 170, 118, 0, 95, 430, 0, 289, 295, 87, 216, 102, 257, 185, 300, 30, 232, 148, 98, 260, 95, 73, 164, 300, 100, 157, 217, 1, 266, 1, 60, 225, 280, 142, 220, 290, 16, 280, 165, 140, 130, 116, 69, 97, 250, 200, 300, 117, 270, 250, 73, 145, 110, 170, 153, 127, 260, 105, 122, 260, 27, 248, 153, 60, 165, 22, 140, 240, 71, 88, 192, 0, 155, 201, 180, 350, 261, 102, 165, 45, 58, 2, 21, 86, 66, 66, 150, 350, 73, 215, 275, 240, 100, 260, 330, 250, 168, 5, 181, 163, 182, 101, 193, 297, 106, 58, 124, 280, 1, 70, 35, 66, 400, 47, 200, 314, 250, 380, 150, 51, 118, 310, 230, 0, 0, 134, 127, 73, 79, 92, 205, 270, 91, 140, 260, 57, 191, 70, 186, 200, 95, 14, 210, 201, 283, 133, 84, 350, 50, 95, 145, 7, 270, 180, 87, 187, 128, 260, 158, 152, 180, 122, 52, 280, 24, 108, 300, 404, 15, 10, 81, 0, 165, 400, 230, 365, 260, 51, 130, 380, 172, 139, 167, 248, 1, 175, 79, 187, 21, 134, 263, 206, 307, 2, 315, 110, 191, 132, 250, 79, 270, 310, 63, 177, 208, 205, 275, 300, 231, 92, 223, 33, 227, 12, 167, 0, 187, 130, 10, 177, 47, 1, 176, 250, 74, 52, 281, 100, 165, 115, 218, 200, 0, 217, 98, 254, 273, 135, 40, 88, 260, 182, 216, 80, 181, 0, 242, 380, 1, 112, 185, 262, 258, 265, 1, 315, 0, 240, 350, 159, 250, 384, 112, 220, 80, 204, 234, 160, 168, 98, 162, 120, 117, 159, 183, 1, 120, 235, 165, 168, 245, 147, 216, 240, 140, 75, 275, 157, 185, 225, 1, 325, 256, 65, 0, 386, 320, 100, 200, 160, 1, 129, 180, 131, 149, 30, 197, 90, 66, 103, 28, 400, 90, 189, 108, 66, 29, 140, 190, 190, 116, 230, 315, 80, 60, 270, 35, 68, 266, 117, 192, 17, 245, 122, 279, 200, 200, 1, 119, 59, 230, 300, 136, 64, 240, 0, 226, 122, 133, 185, 106, 198, 143, 1, 154, 123, 177, 113, 93, 100, 350, 118, 195, 285, 93, 111, 352, 0, 130, 55, 217, 400, 0, 30, 320, 160, 167, 300, 135, 141, 0, 126, 122, 180, 51, 141, 220, 70, 34, 270, 65, 94, 148, 300, 108, 342, 280, 282, 105, 270, 270, 260, 360, 270, 112, 157, 180, 90, 155, 100, 157, 284, 0, 133, 278, 150, 160, 0, 250, 129, 265, 51, 91, 155, 43, 300, 1, 61, 127, 185, 305, 307, 140, 115, 110, 135, 235, 162, 350, 290, 190, 180, 386, 184, 98, 185, 250, 200, 105, 168, 390, 180, 233, 220, 186, 80, 57, 137, 175, 54, 282, 313, 140, 71, 210, 220, 170, 74, 200, 131, 142, 125, 190, 1, 248, 143, 200, 270, 330, 132, 250, 400, 129, 300, 123, 110, 63, 20, 206, 63, 150, 300, 135, 0, 122, 110, 16, 147, 148, 275, 5, 100, 273, 167, 118, 25, 170, 111, 0, 250, 115, 43, 86, 115, 84, 50, 2, 305, 87, 170, 165, 198, 300, 280, 340, 310, 435, 174, 180, 245, 180, 300, 130, 220, 147, 250, 210, 148, 215, 220, 118, 188, 98, 210, 167, 350, 220, 11, 160, 120, 285, 200, 228, 110, 212, 312, 38, 235, 195, 185, 1, 115, 210, 122, 310, 125, 121, 217, 136, 200, 12, 203, 86, 11, 178, 200, 274, 230, 307, 218, 76, 115, 186, 284, 50, 29, 160, 262, 300, 128, 114, 56, 200, 128, 250, 23, 1, 29, 162, 119, 170, 150, 194, 107, 280, 42, 215, 280, 0, 187, 94, 253, 254, 86, 237, 45, 1, 140, 200, 200, 165, 330, 388, 171, 280, 240, 0, 355, 388, 108, 95, 125, 106, 93, 303, 65, 185, 168, 112, 1, 230, 138, 1, 193, 320, 180, 148, 294, 92, 82, 78, 266, 177, 144, 213, 42, 65, 101, 74, 284, 15, 278, 58, 143, 0, 2, 90, 171, 26, 400, 220, 230, 110, 113, 287, 96, 285, 287, 115, 302, 240, 120, 268, 116, 210, 128, 131, 180, 115, 250, 1, 320, 127, 187, 102, 224, 195, 1, 244, 147, 144, 290, 93, 245, 211, 127, 344, 132, 290, 45, 250, 108, 135, 257, 315, 208, 61, 48, 350, 99, 0, 45, 400, 175, 139, 104, 82, 137, 199, 60, 280, 120, 238, 269, 0, 100, 220, 42, 146, 0, 166, 180, 1, 221, 89, 51, 287, 104, 250, 305, 60, 180, 196, 160, 141, 205, 17, 20, 189, 198, 24, 225, 231, 97, 150, 170, 150, 149, 256, 280, 152, 190, 98, 45, 136, 255, 149, 198, 99, 170, 134, 250, 124, 143, 268, 133, 187, 35, 280, 147, 316, 161, 161, 29, 48, 345, 400, 242, 0, 180, 120, 0, 421, 1, 116, 89, 18, 181, 65, 230, 140, 105, 200, 175, 168, 66, 230, 223, 74, 240, 275, 117, 135, 171, 205, 230, 170, 337, 106, 59, 107, 189, 200, 129, 0, 300, 16, 89, 1, 160, 201, 135, 65, 230, 168, 265, 90, 120, 100, 250, 209, 178, 290, 133, 159, 40, 300, 56, 68, 11, 25, 52, 200, 367, 300, 147, 245, 177, 197, 80, 200, 300, 400, 240, 190, 30, 2, 165, 165, 144, 83, 250, 233, 84, 400, 140, 11, 58, 140, 160, 0, 230, 0, 264, 144, 220, 279, 60, 199, 155, 29, 149, 90, 73, 67, 247, 148, 260, 219, 138, 165, 360, 173, 187, 330, 295, 211, 86, 160, 274, 308, 181, 113, 0, 210, 207, 93, 120, 130, 0, 145, 327, 140, 260, 150, 110, 294, 62, 95, 265, 350, 57, 250, 53, 92, 132, 135, 105, 100, 123, 65, 73, 350, 138, 115, 240, 147, 207, 238, 165, 158, 130, 11, 255, 89, 250, 154, 181, 0, 193, 194, 80, 94, 155, 242, 1, 145, 326, 185, 107, 105, 20, 162, 120, 259, 1, 190, 69, 129, 188, 122, 274, 105, 287, 140, 28, 3, 143, 230, 39, 240, 1, 84, 150, 73, 179, 93, 34, 250, 147, 75, 102, 210, 60, 240, 141, 253, 375, 0, 160, 275, 4, 137, 360, 80, 200, 148, 180, 370, 1, 0, 157, 211, 160, 154, 200, 260, 240, 63, 20, 370, 21, 65, 50, 267, 300, 260, 139, 1, 11, 161, 160, 255, 280, 245, 0, 105, 0, 2, 167, 152, 1, 42, 1, 200, 115, 193, 207, 3, 330, 169, 78, 124, 400, 1, 138, 290, 250, 157, 25, 131, 210, 320, 300, 150, 290, 136, 91, 50, 63, 1, 131, 165, 215, 198, 205, 248, 237, 69, 55, 70, 235, 47, 1, 150, 113, 56, 140, 123, 144, 67, 44, 20, 230, 4, 85, 175, 139, 263, 185, 177, 0, 147, 130, 138, 2, 127, 80, 300, 136, 186, 140, 0, 164, 190, 62, 79, 200, 360, 300, 213, 173, 0, 130, 240, 35, 84, 180, 150, 59, 287, 19, 37, 120, 26, 243, 255, 142, 74, 90, 222, 60, 174, 152, 150, 259, 159, 221, 198, 245, 290, 110, 160, 35, 224, 58, 270, 79, 98, 0, 150, 300, 385, 360, 190, 160, 0, 56, 27, 0, 265, 1, 128, 154, 126, 10, 297, 210, 71, 146, 360, 69, 110, 320, 170, 72, 247, 40, 72, 51, 73, 257, 184, 89, 175, 225, 29, 209, 46, 183, 156, 175, 280, 63, 195, 98, 214, 118, 104, 75, 196, 92, 419, 100, 186, 234, 1, 200, 102, 149, 22, 180, 196, 191, 121, 280, 115, 189, 179, 137, 234, 161, 176, 210, 56, 280, 90, 120, 37, 151, 75, 219, 170, 74, 210, 300, 82, 121, 198, 290, 103, 340, 270, 119, 140, 335, 124, 85, 68, 160, 212, 140, 200, 153, 238, 3, 110, 215, 100, 245, 96, 128, 246, 0, 71, 138, 118, 320, 1, 45, 220, 55, 1, 0, 190, 186, 270, 250, 86, 107, 180, 360, 165, 110, 145, 354, 230, 220, 345, 86, 90, 167, 160, 120, 238, 79, 0, 200, 229, 160, 176, 215, 150, 130, 189, 5, 350, 277, 155, 280, 115, 230, 350, 230, 199, 280, 37, 3, 341, 180, 160, 128, 150, 65, 300, 146, 123, 160, 150, 124, 230, 260, 185, 135, 184, 45, 355, 340, 154, 256, 210, 175, 57, 380, 90, 136, 178, 110, 370, 73, 140, 300, 109, 145, 185, 85, 160, 232, 161, 123, 115, 250, 370, 250, 250, 133, 0, 100, 150, 130, 89, 93, 250, 160, 330, 122, 212, 142, 77, 127, 161, 260, 78, 280, 97, 170, 78, 180, 220, 157, 85, 100, 143, 189, 288, 128, 67, 168, 120, 140, 272, 190, 223, 365, 158, 152, 47, 16, 82, 76, 39, 300, 180, 90, 177, 250, 137, 52, 380, 253, 186, 38, 220, 144, 170, 89, 145, 300, 230, 78, 78, 167, 122, 1, 230, 0, 98, 95, 69, 277, 125, 30, 242, 112, 330, 260, 225, 48, 0, 218, 130, 136, 204, 156, 189, 69, 2, 209, 123, 170, 290, 200, 43, 130, 220, 1, 37, 105, 110, 198, 210, 290, 95, 52, 103, 230, 150, 161, 58, 50, 181, 213, 168, 135, 139, 162, 77, 42, 30, 62, 270, 0, 0, 4, 185, 128, 90, 2, 129, 0, 140, 375, 11, 235, 127, 15, 273, 169, 275, 195, 46, 28, 226, 136, 221, 244, 44, 51, 58, 275, 400, 90, 167, 98, 293, 38, 60, 0, 250, 0, 180, 280, 140, 240, 152, 40, 330, 1, 207, 0, 182, 123, 216, 30, 233, 131, 200, 345, 200, 206, 230, 200, 420, 310, 1, 285, 0, 126, 156, 260, 270, 221, 280, 220, 88, 1, 245, 396, 95, 198, 71, 70, 311, 281, 181, 238, 34, 143, 90, 110, 244, 280, 250, 51, 112, 1, 195, 174, 229, 0, 150, 180, 245, 146, 174, 356, 166, 0, 70, 253, 150, 200, 217, 1, 127, 35, 0, 114, 113, 102, 68, 148, 39, 210, 220, 300, 120, 232, 252, 236, 230, 162, 180, 224, 265, 200, 134, 172, 180, 128, 96, 240, 74, 59, 0, 380, 150, 43, 80, 161, 130, 172, 320, 265, 386, 48, 159, 0, 1, 2, 256, 121, 126, 5, 377, 53, 190, 16, 200, 147, 200, 103, 45, 247, 67, 213, 190, 300, 109, 350, 250, 350, 300, 10, 240, 69, 214, 44, 259, 17, 92, 167, 149, 132, 86, 178, 120, 210, 196, 150, 90, 193, 212, 210, 44, 48, 110, 175, 170, 1, 0, 220, 56, 1, 7, 250, 73, 390, 0, 208, 95, 263, 202, 188, 155, 132, 256, 300, 145, 360, 226, 30, 97, 250, 247, 177, 128, 69, 186, 162, 154, 250, 0, 124, 251, 1, 198, 83, 88, 230, 69, 100, 1, 233, 150, 340, 175, 303, 270, 87, 10, 206, 200, 62, 395, 300, 160, 240, 185, 68, 56, 198, 117, 0, 81, 247, 1, 298, 300, 176, 319, 159, 191, 74, 134, 154, 220, 367, 90, 65, 30, 6, 215, 18, 137, 200, 47, 245, 55, 5, 128, 265, 83, 128, 220, 32, 200, 89, 213, 188, 338, 300, 299, 240, 212, 77, 186, 191, 240, 29, 258, 75, 56, 180, 170, 0, 199, 50, 106, 345, 159, 197, 342, 85, 314, 1, 140, 1, 142, 289, 390, 190, 100, 98, 107, 67, 155, 136, 230, 312, 8, 179, 124, 122, 245, 127, 147, 100, 104, 160, 0, 125, 328, 85, 16, 200, 352, 250, 300, 112, 160, 149, 88, 76, 16, 185, 89, 131, 270, 158, 45, 413, 44, 42, 193, 153, 250, 55, 43, 195, 150, 170, 1, 141, 206, 280, 219, 255, 106, 265, 208, 127, 80, 73, 230, 220, 48, 108, 241, 25, 216, 168, 182, 163, 160, 222, 138, 230, 232, 120, 126, 193, 288, 230, 148, 290, 196, 236, 315, 111, 2, 254, 125, 368, 90, 73, 290, 130, 22, 0, 310, 148, 320, 60, 272, 217, 160, 260, 217, 227, 200, 205, 240, 10, 160, 160, 0, 130, 99, 402, 220, 3, 152, 1, 300, 20, 150, 109, 1, 102, 310, 360, 150, 313, 370, 77, 1, 0, 432, 97, 52, 201, 118, 118, 150, 101, 274, 126, 15, 83, 1, 153, 19, 56, 125, 197, 10, 97, 250, 230, 4, 315, 159, 231, 160, 140, 148, 260, 235, 285, 121, 187, 75, 58, 84, 227, 30, 39, 174, 160, 115, 322, 145, 1, 33, 237, 115, 94, 80, 205, 160, 0, 185, 22, 108, 138, 95, 380, 55, 210, 305, 370, 100, 120, 220, 158, 128, 340, 130, 26, 90, 65, 294, 70, 0, 409, 113, 250, 47, 277, 194, 126, 209, 90, 261, 270, 152, 238, 78, 75, 185, 304, 87, 243, 99, 1, 250, 128, 110, 30, 186, 135, 151, 45, 360, 197, 60, 1, 173, 94, 350, 282, 282, 180, 80, 47, 300, 220, 297, 84, 210, 183, 239, 235, 174, 158, 215, 95, 148, 245, 289, 0, 430, 140, 80, 100, 190, 98, 69, 269, 221, 257, 180, 254, 10, 380, 234, 300, 178, 222, 116, 180, 173, 0, 162, 200, 97, 67, 190, 69, 142, 240, 47, 168, 1, 71, 185, 123, 194, 250, 140, 200, 1, 105, 360, 60, 25, 1, 0, 71, 108, 200, 126, 144, 160, 156, 157, 97, 381, 300, 230, 218, 40, 274, 215, 100, 310, 178, 120, 170, 125, 64, 1, 143, 118, 262, 250, 223, 98, 232, 195, 87, 111, 270, 102, 150, 200, 219, 127, 240, 154, 182, 199, 152, 131, 93, 123, 216, 155, 189, 374, 220, 185, 175, 1, 310, 26, 248, 250, 3, 1, 210, 0, 213, 340, 50, 238, 225, 380, 250, 300, 320, 127, 44, 149, 125, 0, 118, 160, 240, 234, 300, 248, 30, 1, 119, 282, 196, 115, 247, 171, 295, 125, 284, 250, 190, 220, 230, 186, 250, 255, 138, 179, 45, 228, 107, 53, 12, 202, 105, 242, 135, 140, 89, 284, 183, 144, 223, 300, 254, 110, 170, 127, 206, 102, 240, 219, 225, 115, 0, 0, 410, 215, 300, 160, 149, 271, 118, 280, 130, 0, 138, 68, 172, 110, 16, 142, 150, 200, 134, 300, 70, 180, 178, 51, 214, 107, 188, 220, 178, 246, 363, 12, 114, 0, 130, 280, 139, 0, 220, 94, 1, 47, 229, 300, 1, 124, 114, 144, 280, 217, 184, 212, 190, 80, 120, 25, 173, 152, 30, 88, 299, 204, 149, 142, 69, 180, 54, 390, 175, 302, 288, 160, 107, 250, 160, 107, 176, 122, 118, 140, 199, 90, 1, 220, 48, 61, 36, 180, 285, 65, 95, 186, 300, 82, 131, 207, 82, 276, 300, 38, 155, 90, 1, 15, 200, 156, 140, 120, 74, 220, 14, 152, 285, 140, 122, 77, 56, 1, 139, 0, 80, 152, 0, 253, 280, 83, 170, 74, 271, 140, 180, 23, 235, 105, 0, 99, 40, 89, 164, 380, 158, 159, 163, 218, 85, 270, 132, 127, 298, 200, 112, 77, 170, 180, 247, 185, 180, 77, 80, 159, 194, 171, 240, 0, 126, 125, 280, 60, 0, 207, 400, 105, 80, 155, 210, 145, 38, 237, 152, 163, 35, 9, 1, 194, 124], \"xaxis\": \"x\", \"xbins\": {\"end\": 435.0, \"size\": 1.0, \"start\": 0.0}, \"yaxis\": \"y\"}, {\"legendgroup\": \"distplot\", \"marker\": {\"color\": \"rgb(31, 119, 180)\"}, \"mode\": \"lines\", \"name\": \"distplot\", \"showlegend\": false, \"type\": \"scatter\", \"x\": [0.0, 0.87, 1.74, 2.61, 3.48, 4.35, 5.22, 6.09, 6.96, 7.83, 8.7, 9.57, 10.44, 11.31, 12.18, 13.05, 13.92, 14.79, 15.66, 16.53, 17.4, 18.27, 19.14, 20.01, 20.88, 21.75, 22.62, 23.49, 24.36, 25.23, 26.1, 26.97, 27.84, 28.71, 29.58, 30.45, 31.32, 32.19, 33.06, 33.93, 34.8, 35.67, 36.54, 37.41, 38.28, 39.15, 40.02, 40.89, 41.76, 42.63, 43.5, 44.37, 45.24, 46.11, 46.98, 47.85, 48.72, 49.59, 50.46, 51.33, 52.2, 53.07, 53.94, 54.81, 55.68, 56.55, 57.42, 58.29, 59.16, 60.03, 60.9, 61.77, 62.64, 63.51, 64.38, 65.25, 66.12, 66.99, 67.86, 68.73, 69.6, 70.47, 71.34, 72.21, 73.08, 73.95, 74.82, 75.69, 76.56, 77.43, 78.3, 79.17, 80.04, 80.91, 81.78, 82.65, 83.52, 84.39, 85.26, 86.13, 87.0, 87.87, 88.74, 89.61, 90.48, 91.35, 92.22, 93.09, 93.96, 94.83, 95.7, 96.57, 97.44, 98.31, 99.18, 100.05, 100.92, 101.79, 102.66, 103.53, 104.4, 105.27, 106.14, 107.01, 107.88, 108.75, 109.62, 110.49, 111.36, 112.23, 113.1, 113.97, 114.84, 115.71, 116.58, 117.45, 118.32, 119.19, 120.06, 120.93, 121.8, 122.67, 123.54, 124.41, 125.28, 126.15, 127.02, 127.89, 128.76, 129.63, 130.5, 131.37, 132.24, 133.11, 133.98, 134.85, 135.72, 136.59, 137.46, 138.33, 139.2, 140.07, 140.94, 141.81, 142.68, 143.55, 144.42, 145.29, 146.16, 147.03, 147.9, 148.77, 149.64, 150.51, 151.38, 152.25, 153.12, 153.99, 154.86, 155.73, 156.6, 157.47, 158.34, 159.21, 160.08, 160.95, 161.82, 162.69, 163.56, 164.43, 165.3, 166.17, 167.04, 167.91, 168.78, 169.65, 170.52, 171.39, 172.26, 173.13, 174.0, 174.87, 175.74, 176.61, 177.48, 178.35, 179.22, 180.09, 180.96, 181.83, 182.7, 183.57, 184.44, 185.31, 186.18, 187.05, 187.92, 188.79, 189.66, 190.53, 191.4, 192.27, 193.14, 194.01, 194.88, 195.75, 196.62, 197.49, 198.36, 199.23, 200.1, 200.97, 201.84, 202.71, 203.58, 204.45, 205.32, 206.19, 207.06, 207.93, 208.8, 209.67, 210.54, 211.41, 212.28, 213.15, 214.02, 214.89, 215.76, 216.63, 217.5, 218.37, 219.24, 220.11, 220.98, 221.85, 222.72, 223.59, 224.46, 225.33, 226.2, 227.07, 227.94, 228.81, 229.68, 230.55, 231.42, 232.29, 233.16, 234.03, 234.9, 235.77, 236.64, 237.51, 238.38, 239.25, 240.12, 240.99, 241.86, 242.73, 243.6, 244.47, 245.34, 246.21, 247.08, 247.95, 248.82, 249.69, 250.56, 251.43, 252.3, 253.17, 254.04, 254.91, 255.78, 256.65, 257.52, 258.39, 259.26, 260.13, 261.0, 261.87, 262.74, 263.61, 264.48, 265.35, 266.22, 267.09, 267.96, 268.83, 269.7, 270.57, 271.44, 272.31, 273.18, 274.05, 274.92, 275.79, 276.66, 277.53, 278.4, 279.27, 280.14, 281.01, 281.88, 282.75, 283.62, 284.49, 285.36, 286.23, 287.1, 287.97, 288.84, 289.71, 290.58, 291.45, 292.32, 293.19, 294.06, 294.93, 295.8, 296.67, 297.54, 298.41, 299.28, 300.15, 301.02, 301.89, 302.76, 303.63, 304.5, 305.37, 306.24, 307.11, 307.98, 308.85, 309.72, 310.59, 311.46, 312.33, 313.2, 314.07, 314.94, 315.81, 316.68, 317.55, 318.42, 319.29, 320.16, 321.03, 321.9, 322.77, 323.64, 324.51, 325.38, 326.25, 327.12, 327.99, 328.86, 329.73, 330.6, 331.47, 332.34, 333.21, 334.08, 334.95, 335.82, 336.69, 337.56, 338.43, 339.3, 340.17, 341.04, 341.91, 342.78, 343.65, 344.52, 345.39, 346.26, 347.13, 348.0, 348.87, 349.74, 350.61, 351.48, 352.35, 353.22, 354.09, 354.96, 355.83, 356.7, 357.57, 358.44, 359.31, 360.18, 361.05, 361.92, 362.79, 363.66, 364.53, 365.4, 366.27, 367.14, 368.01, 368.88, 369.75, 370.62, 371.49, 372.36, 373.23, 374.1, 374.97, 375.84, 376.71, 377.58, 378.45, 379.32, 380.19, 381.06, 381.93, 382.8, 383.67, 384.54, 385.41, 386.28, 387.15, 388.02, 388.89, 389.76, 390.63, 391.5, 392.37, 393.24, 394.11, 394.98, 395.85, 396.72, 397.59, 398.46, 399.33, 400.2, 401.07, 401.94, 402.81, 403.68, 404.55, 405.42, 406.29, 407.16, 408.03, 408.9, 409.77, 410.64, 411.51, 412.38, 413.25, 414.12, 414.99, 415.86, 416.73, 417.6, 418.47, 419.34, 420.21, 421.08, 421.95, 422.82, 423.69, 424.56, 425.43, 426.3, 427.17, 428.04, 428.91, 429.78, 430.65, 431.52, 432.39, 433.26, 434.13], \"xaxis\": \"x\", \"y\": [0.001997111833967343, 0.002025625779106072, 0.0020514126052498527, 0.0020744473031393492, 0.002094725058841267, 0.002112261136590487, 0.002127090536760562, 0.0021392674355143787, 0.0021488644160284898, 0.002155971504315371, 0.0021606950255274506, 0.00216315629916208, 0.002163490193752229, 0.0021618435633873265, 0.002158373589735548, 0.0021532460541163925, 0.002146633564594226, 0.0021387137630334493, 0.002129667536587668, 0.0021196772572115454, 0.0021089250715160125, 0.0020975912616737645, 0.002085852696166997, 0.0020738813870026965, 0.0020618431676553617, 0.0020498965034878008, 0.0020381914438033196, 0.0020268687220520876, 0.0020160590081038142, 0.002005882313957945, 0.0019964475518371824, 0.0019878522413410375, 0.001980182360258415, 0.001973512331780935, 0.00196790513924424, 0.00196341255816885, 0.001960075494284544, 0.0019579244154057547, 0.0019569798644771185, 0.001957253040819605, 0.001958746436565193, 0.001961454515454198, 0.001965364421562918, 0.0019704567061062895, 0.001976706061194766, 0.001984082050289455, 0.001992549826066871, 0.002002070827446935, 0.0020126034486282404, 0.002024103674087531, 0.002036525674612213, 0.0020498223605238657, 0.002063945889298195, 0.002078848125776241, 0.0020944810540794436, 0.0021107971411767094, 0.002127749652797135, 0.0021452929230325385, 0.0021633825795270008, 0.0021819757266063216, 0.002201031089060824, 0.0022205091195644797, 0.002240372072897627, 0.002260584050246633, 0.0022811110168898968, 0.002301920796554206, 0.0023229830456479, 0.0023442692104566868, 0.0023657524702334573, 0.002387407668933587, 0.002409211238150148, 0.0024311411135963666, 0.002453176647271932, 0.002475298517240726, 0.002497488636744451, 0.0025197300641827494, 0.0025420069153077574, 0.002564304278810872, 0.002586608136321954, 0.0026089052876956606, 0.0026311832823248797, 0.002653430357095462, 0.00267563538147752, 0.002697787810134179, 0.002719877643316411, 0.002741895395200366, 0.0027638320702094987, 0.002785679147246337, 0.0028074285716370526, 0.002829072754465854, 0.0028506045788459673, 0.0028720174125408384, 0.0028933051262148932, 0.002914462116460413, 0.0029354833326185907, 0.002956364306292545, 0.0029771011823415336, 0.002997690750053145, 0.0030181304731178647, 0.0030384185169820676, 0.0030585537721348898, 0.0030785358718946145, 0.003098365203303722, 0.00311804290982019, 0.0031375708846067296, 0.003156951753369104, 0.0031761888458780615, 0.0031952861555242557, 0.0032142482864981683, 0.0032330803884528946, 0.0032517880787910377, 0.0032703773530115975, 0.00328885448385142, 0.0033072259102511097, 0.003325498117459518, 0.003343677509856167, 0.003361770278309831, 0.003379782264096779, 0.003397718821567615, 0.003415584681871661, 0.0034333838201181296, 0.0034511193283707233, 0.003468793296835136, 0.003486406705506839, 0.0035039593284008404, 0.0035214496522884046, 0.003538874811622313, 0.0035562305410473975, 0.0035735111465737277, 0.0035907094961432997, 0.003607817029956187, 0.0036248237905475, 0.0036417184722317324, 0.0036584884891652206, 0.003675120060929668, 0.003691598314218421, 0.003707907398920164, 0.0037240306166486667, 0.003739950559567725, 0.003755649257211638, 0.003771108328906236, 0.0037863091393548244, 0.0038012329549671404, 0.0038158610985756436, 0.0038301751002990134, 0.003844156842472955, 0.0038577886967676896, 0.0038710536518430628, 0.003883935430148818, 0.003896418592751196, 0.003908488631349691, 0.003920132046931403, 0.003931336414787137, 0.003942090435876031, 0.003952383974767494, 0.003962208084604911, 0.003971555019720534, 0.003980418236681775, 0.003988792384663662, 0.0039966732861198544, 0.0040040579087656, 0.004010944329892307, 0.004017331694007535, 0.004023220164740336, 0.004028610871874153, 0.00403350585427372, 0.004037907999363777, 0.004041820979702169, 0.0040452491870738155, 0.004048197664420782, 0.0040506720358226105, 0.0040526784346548855, 0.004054223429986596, 0.004055313951231405, 0.004055957211046567, 0.0040561606264770626, 0.004055931738371651, 0.004055278129151158, 0.004054207339085371, 0.0040527267813308746, 0.004050843656094321, 0.004048564864409893, 0.004045896922151471, 0.00404284587503421, 0.004039417215491671, 0.004035615802438372, 0.004031445785038385, 0.004026910531694032, 0.004022012565540337, 0.004016753507777297, 0.004011134030190154, 0.004005153818195469, 0.003998811545706587, 0.003992104863035404, 0.003985030398938445, 0.0039775837777751575, 0.003969759652576876, 0.003961551754628609, 0.003952952959945695, 0.003943955372787325, 0.003934550426092962, 0.003924728998460338, 0.003914481547009785, 0.0039037982552041447, 0.0038926691944212465, 0.0038810844978121786, 0.0038690345447279905, 0.0038565101537648768, 0.0038435027822676065, 0.0038300047299472595, 0.0038160093441156734, 0.0038015112239188635, 0.003786506420867585, 0.0037709926329175126, 0.0037549693893456724, 0.003738438223704855, 0.0037214028322139466, 0.00370386921505924, 0.0036858457982386155, 0.0036673435337753833, 0.0036483759763591903, 0.00362895933473446, 0.0036091124964489725, 0.003588857024891854, 0.0035682171278869574, 0.0035472195974589754, 0.0035258937207503006, 0.0035042711624308515, 0.0034823858193049036, 0.003460273648172732, 0.003437972468344764, 0.003415521740526652, 0.003392962324090124, 0.0033703362150122357, 0.0033476862670008645, 0.003325055898523728, 0.0033024887886196597, 0.0032800285644927455, 0.003257718483971485, 0.0032356011159567683, 0.0032137180219849685, 0.0031921094419977178, 0.0031708139873403893, 0.0031498683439098968, 0.0031293069882426115, 0.003109161919178773, 0.0030894624075644677, 0.003070234766260121, 0.0030515021425191347, 0.0030332843345852838, 0.0030155976341358823, 0.0029984546959721564, 0.0029818644361307026, 0.0029658319593620004, 0.0029503585166944556, 0.0029354414935758477, 0.0029210744288581864, 0.0029072470646662857, 0.002893945426964131, 0.0028811519364052973, 0.0028688455488233575, 0.002857001924484583, 0.0028455936249877564, 0.002834590336454451, 0.002823959117408247, 0.0028136646694940795, 0.0028036696289410776, 0.0027939348764266067, 0.0027844198627588607, 0.002775082947564613, 0.0027658817479520566, 0.002756773493921417, 0.0027477153871236703, 0.0027386649594259333, 0.0027295804276366285, 0.002720421040679796, 0.0027111474154907335, 0.002701721857938894, 0.0026921086651717917, 0.0026822744059178706, 0.002672188175487782, 0.0026618218224718306, 0.00265115014444464, 0.0026401510503529387, 0.002628805687673986, 0.0026170985328842493, 0.002605017444263174, 0.0025925536765665485, 0.0025797018576287586, 0.002566459927483042, 0.002552829041113306, 0.00253881343645979, 0.0025244202697834845, 0.0025096594209413105, 0.0024945432715265505, 0.002479086459179272, 0.0024633056116629467, 0.0024472190645311136, 0.002430846566368318, 0.002414208975680957, 0.0023973279535359714, 0.0023802256560001437, 0.0023629244303232737, 0.0023454465186393087, 0.002327813772736449, 0.0023100473831772863, 0.0022921676257407955, 0.0022741936278177647, 0.0022561431570285013, 0.002238032433954843, 0.0022198759704957966, 0.0022016864349753084, 0.002183474544758592, 0.002165248986776197, 0.0021470163660177012, 0.0021287811817433536, 0.0021105458308751444, 0.002092310637770107, 0.0020740739093489, 0.002055832014351361, 0.002037579485316578, 0.0020193091417361575, 0.00200101223270323, 0.0019826785972737273, 0.0019642968406675615, 0.0019458545243627443, 0.0019273383680727158, 0.0019087344615438646, 0.001890028484064864, 0.0018712059295408674, 0.0018522523349534196, 0.001833153510001344, 0.001813895765699786, 0.0017944661397054466, 0.0017748526161378262, 0.00175504433768122, 0.0017350318077829524, 0.0017148070808123235, 0.0016943639381145723, 0.001673698047987007, 0.0016528071077221143, 0.0016316909660061896, 0.0016103517241323733, 0.0015887938146837413, 0.0015670240565642509, 0.0015450516855010335, 0.0015228883594080656, 0.0015005481382850939, 0.0014780474386228081, 0.0014554049625907317, 0.0014326416025930322, 0.001409780322083877, 0.0013868460138324547, 0.0013638653371127359, 0.0013408665355590938, 0.0013178792376709995, 0.0012949342421637012, 0.0012720632905432237, 0.001249298829430127, 0.0012266737652650178, 0.0012042212140983648, 0.0011819742491973996, 0.0011599656491940893, 0.0011382276494515896, 0.0011167916992443514, 0.0010956882272316927, 0.001074946417559514, 0.0010545939987535568, 0.0010346570473741936, 0.0010151598081913399, 0.0009961245324129227, 0.0009775713352655952, 0.000959518073985895, 0.0009419802470376939, 0.0009249709151307181, 0.0009085006443782036, 0.0008925774717018764, 0.000877206892371451, 0.0008623918693554272, 0.0008481328639613035, 0.0008344278870573193, 0.0008212725699950262, 0.0008086602541926402, 0.0007965820981933672, 0.0007850272008806617, 0.0007739827394135737, 0.0007634341203398733, 0.0007533651422524089, 0.0007437581682751489, 0.0007345943065997194, 0.0007258535972411282, 0.0007175152031431344, 0.0007095576037397837, 0.0007019587890704824, 0.0006946964525522135, 0.0006877481805346043, 0.0006810916368021358, 0.0006747047402432094, 0.0006685658339784112, 0.0006626538443302262, 0.0006569484281236265, 0.0006514301069309723, 0.0006460803870149851, 0.0006408818638792054, 0.0006358183105051645, 0.00063087474853794, 0.0006260375018750565, 0.0006212942323157543, 0.0006166339571362051, 0.0006120470486688209, 0.0006075252161777203, 0.0006030614705349847, 0.0005986500724107377, 0.0005942864648915348, 0.0005899671916333125, 0.0005856898018345774, 0.0005814527434801122, 0.0005772552464529034, 0.0005730971972401761, 0.0005689790070664668, 0.0005649014753709992, 0.0005608656506069675, 0.0005568726903756125, 0.0005529237229176064, 0.0005490197119677504, 0.0005451613269363725, 0.0005413488203122743, 0.0005375819140882111, 0.0005338596968915653, 0.0005301805333612498, 0.0005265419871484278, 0.0005229407587351169, 0.0005193726390631867, 0.0005158324797489613, 0.00051231418042818, 0.0005088106935352363, 0.0005053140465724654, 0.000501815381673004, 0.0004983050120078263, 0.0004947724943375252, 0.0004912067167659144, 0.00048759600051929817, 0.0004839282143560031, 0.00048019090000916205, 0.0004763714068853177, 0.00047245703408551855, 0.0004684351776873168, 0.0004642934811281387, 0.000460019986465285, 0.0004556032842570954, 0.00045103265981494484, 0.0004462982336173524, 0.0004413910937556657, 0.0004363034183948349, 0.0004310285863813739, 0.0004255612743116416, 0.0004198975385842914, 0.0004140348811977051, 0.0004079722983124099, 0.00040171031087529144, 0.0003952509768918157, 0.0003885978852291088, 0.00038175613113095486, 0.00037473227391985415, 0.0003675342776455383, 0.00036017143570816974, 0.00035265428073267147, 0.00034499448119332585, 0.0003372047264807091, 0.00032929860226249644, 0.00032129045811280627, 0.0003131952694694417, 0.00030502849602337704, 0.000296805938649861, 0.0002885435969560512, 0.0002802575294476641, 0.00027196371820897657, 0.000263677939849719, 0.00025541564430269864, 0.0002471918428617193, 0.00023902100663531433, 0.00023091697636312217, 0.0002228928843037438, 0.00021496108866102452, 0.00020713312077524657, 0.000199419645071769, 0.0001918304315370775, 0.00018437434028527113, 0.00017705931759058418, 0.00016989240259678427, 0.0001628797437747353, 0.00015602662408686568, 0.00014933749373282696, 0.00014281600929461042, 0.00013646507807147228, 0.00013028690639417867, 0.00012428305073273894, 0.00011845447045975896, 0.00011280158120029417, 0.00010732430778562116], \"yaxis\": \"y\"}, {\"legendgroup\": \"distplot\", \"marker\": {\"color\": \"rgb(31, 119, 180)\", \"symbol\": \"line-ns-open\"}, \"mode\": \"markers\", \"name\": \"distplot\", \"showlegend\": false, \"type\": \"scatter\", \"x\": [277, 427, 358, 240, 120, 200, 193, 212, 177, 260, 165, 100, 250, 84, 203, 21, 250, 0, 132, 225, 130, 163, 151, 330, 171, 65, 1, 72, 87, 160, 160, 147, 300, 1, 14, 230, 86, 326, 30, 181, 80, 220, 231, 134, 335, 66, 172, 317, 266, 265, 162, 81, 253, 200, 270, 240, 245, 127, 21, 152, 267, 267, 240, 178, 190, 175, 105, 195, 126, 420, 195, 180, 195, 231, 51, 287, 222, 214, 245, 83, 210, 89, 130, 333, 116, 405, 131, 138, 50, 1, 207, 207, 31, 0, 334, 18, 150, 175, 76, 295, 5, 190, 119, 139, 235, 210, 33, 260, 156, 155, 160, 207, 63, 208, 103, 57, 64, 137, 300, 82, 163, 153, 190, 125, 112, 165, 60, 119, 0, 200, 257, 197, 164, 205, 200, 200, 145, 110, 195, 226, 184, 16, 118, 256, 33, 168, 97, 140, 280, 164, 250, 130, 260, 93, 176, 170, 151, 95, 260, 27, 290, 250, 112, 164, 300, 187, 234, 120, 182, 5, 0, 110, 237, 90, 195, 1, 18, 250, 73, 100, 130, 30, 267, 112, 245, 174, 180, 270, 187, 144, 267, 300, 160, 78, 300, 300, 201, 1, 1, 140, 390, 1, 350, 130, 148, 189, 64, 296, 350, 125, 0, 180, 82, 150, 253, 0, 179, 99, 156, 91, 216, 102, 38, 178, 200, 115, 41, 11, 48, 165, 180, 176, 100, 160, 176, 220, 20, 172, 273, 237, 106, 85, 71, 110, 117, 177, 220, 84, 93, 368, 180, 87, 170, 190, 190, 190, 2, 130, 30, 10, 50, 280, 125, 68, 0, 195, 190, 157, 285, 100, 197, 176, 250, 300, 175, 90, 145, 152, 22, 98, 200, 133, 116, 180, 140, 170, 167, 250, 240, 117, 230, 73, 22, 360, 226, 258, 3, 167, 286, 90, 320, 300, 113, 300, 70, 200, 300, 80, 225, 198, 108, 180, 260, 82, 12, 173, 214, 142, 265, 170, 103, 198, 200, 231, 95, 140, 47, 186, 175, 130, 185, 246, 175, 285, 184, 180, 263, 80, 54, 127, 135, 245, 180, 285, 0, 180, 366, 1, 380, 84, 90, 58, 111, 164, 128, 300, 270, 161, 304, 319, 38, 162, 117, 170, 40, 177, 1, 0, 60, 0, 313, 260, 85, 143, 155, 433, 200, 180, 180, 145, 39, 300, 137, 132, 112, 184, 131, 112, 93, 124, 184, 137, 280, 132, 96, 123, 198, 68, 17, 170, 400, 30, 47, 217, 280, 161, 160, 0, 45, 248, 261, 286, 250, 328, 180, 263, 248, 235, 110, 1, 223, 147, 200, 230, 180, 270, 75, 330, 159, 370, 0, 0, 210, 1, 135, 10, 108, 1, 109, 248, 185, 101, 320, 284, 240, 204, 200, 145, 184, 164, 196, 300, 264, 163, 154, 121, 246, 84, 183, 250, 225, 34, 74, 140, 230, 105, 133, 125, 75, 107, 193, 157, 160, 204, 121, 350, 298, 260, 154, 127, 260, 157, 320, 151, 220, 130, 320, 270, 115, 205, 158, 252, 40, 167, 177, 200, 67, 1, 0, 198, 162, 128, 112, 194, 200, 157, 45, 406, 95, 260, 350, 126, 180, 125, 150, 144, 158, 238, 200, 87, 23, 165, 11, 158, 1, 140, 0, 180, 272, 196, 75, 241, 240, 95, 30, 161, 308, 280, 169, 110, 170, 255, 168, 217, 180, 234, 165, 120, 210, 200, 135, 400, 102, 400, 90, 3, 218, 110, 130, 170, 370, 144, 183, 161, 210, 315, 221, 206, 270, 131, 12, 140, 113, 270, 75, 270, 60, 125, 215, 170, 80, 78, 95, 102, 112, 287, 272, 170, 79, 238, 205, 0, 103, 165, 175, 21, 255, 176, 260, 70, 203, 164, 243, 400, 400, 64, 250, 67, 151, 74, 50, 382, 98, 111, 139, 232, 179, 100, 54, 42, 246, 400, 43, 195, 0, 158, 253, 171, 250, 108, 154, 142, 123, 37, 138, 175, 82, 53, 200, 47, 127, 120, 202, 43, 129, 130, 215, 160, 45, 140, 197, 1, 1, 220, 97, 22, 148, 268, 236, 1, 198, 78, 215, 0, 80, 155, 0, 170, 390, 100, 131, 423, 148, 153, 185, 157, 97, 285, 75, 148, 121, 400, 73, 85, 1, 290, 139, 211, 101, 145, 100, 100, 164, 168, 65, 149, 360, 407, 95, 82, 240, 33, 154, 125, 122, 146, 0, 167, 40, 126, 205, 220, 43, 140, 250, 0, 190, 127, 400, 1, 100, 64, 45, 220, 116, 265, 322, 0, 195, 268, 148, 38, 212, 3, 87, 119, 270, 250, 200, 150, 55, 300, 82, 200, 175, 270, 130, 86, 131, 310, 139, 290, 56, 139, 125, 280, 375, 92, 281, 270, 90, 215, 260, 176, 98, 116, 80, 280, 110, 180, 69, 48, 100, 245, 333, 252, 300, 330, 350, 239, 240, 192, 69, 185, 317, 160, 218, 150, 167, 1, 388, 220, 73, 160, 176, 207, 250, 250, 115, 324, 30, 94, 110, 190, 88, 160, 62, 272, 278, 125, 67, 132, 180, 180, 222, 49, 132, 175, 131, 170, 249, 50, 406, 134, 98, 350, 230, 207, 184, 162, 152, 152, 151, 278, 150, 248, 220, 59, 240, 191, 97, 150, 143, 199, 107, 242, 2, 230, 250, 178, 180, 214, 120, 330, 274, 177, 167, 83, 330, 64, 198, 250, 250, 0, 145, 106, 145, 215, 0, 190, 350, 115, 140, 119, 65, 122, 0, 185, 192, 190, 1, 107, 189, 280, 242, 147, 85, 196, 173, 199, 100, 65, 180, 152, 108, 24, 130, 390, 290, 127, 320, 222, 184, 4, 70, 310, 273, 268, 40, 52, 90, 141, 156, 116, 142, 98, 197, 243, 237, 160, 107, 98, 171, 67, 107, 92, 142, 264, 30, 180, 189, 109, 165, 261, 63, 95, 38, 282, 1, 39, 179, 60, 127, 156, 299, 0, 357, 147, 177, 177, 80, 0, 195, 248, 288, 171, 189, 200, 230, 220, 135, 120, 217, 59, 130, 52, 340, 0, 314, 250, 304, 270, 300, 121, 111, 220, 246, 130, 140, 150, 77, 196, 117, 119, 311, 43, 165, 153, 200, 80, 142, 340, 95, 44, 0, 400, 99, 260, 74, 200, 320, 65, 200, 120, 127, 67, 400, 270, 200, 125, 311, 170, 150, 0, 170, 0, 170, 275, 185, 200, 164, 170, 199, 327, 219, 97, 176, 94, 150, 283, 100, 35, 298, 254, 136, 44, 88, 235, 75, 149, 248, 181, 132, 200, 165, 300, 272, 0, 1, 178, 115, 1, 114, 176, 190, 96, 147, 186, 275, 200, 199, 5, 55, 149, 141, 168, 212, 176, 217, 33, 421, 0, 183, 1, 125, 140, 199, 280, 188, 184, 150, 200, 82, 225, 160, 180, 90, 170, 222, 150, 230, 260, 20, 200, 260, 325, 52, 192, 29, 258, 217, 70, 233, 213, 62, 100, 210, 109, 280, 11, 130, 160, 99, 193, 30, 145, 360, 327, 220, 87, 80, 169, 231, 8, 300, 65, 75, 217, 117, 1, 145, 217, 111, 390, 98, 231, 160, 366, 68, 0, 131, 96, 3, 320, 286, 92, 60, 194, 300, 146, 325, 123, 176, 230, 162, 0, 40, 217, 350, 337, 16, 0, 186, 92, 90, 258, 269, 19, 105, 168, 135, 105, 38, 200, 24, 135, 266, 120, 60, 236, 64, 239, 40, 105, 249, 33, 96, 210, 190, 162, 295, 294, 225, 111, 101, 230, 250, 195, 43, 190, 190, 230, 270, 326, 135, 142, 160, 220, 232, 212, 235, 297, 157, 240, 114, 230, 250, 300, 250, 61, 193, 157, 45, 173, 276, 201, 335, 103, 312, 367, 32, 18, 285, 200, 250, 182, 220, 118, 167, 118, 177, 360, 71, 255, 91, 114, 206, 0, 277, 185, 57, 385, 80, 169, 156, 135, 150, 95, 238, 151, 202, 345, 70, 225, 180, 175, 2, 160, 281, 320, 144, 218, 280, 106, 1, 154, 238, 171, 62, 96, 250, 135, 1, 110, 185, 1, 360, 139, 194, 135, 196, 165, 129, 339, 243, 156, 350, 132, 85, 20, 146, 69, 215, 59, 1, 340, 225, 199, 140, 0, 95, 227, 280, 250, 100, 278, 400, 282, 260, 73, 127, 1, 175, 235, 318, 92, 250, 23, 304, 280, 340, 320, 287, 250, 0, 170, 255, 200, 115, 49, 206, 104, 218, 136, 245, 320, 51, 130, 315, 200, 234, 152, 370, 137, 200, 178, 173, 290, 36, 188, 271, 225, 300, 100, 230, 247, 235, 147, 312, 400, 263, 305, 83, 19, 200, 130, 136, 126, 230, 400, 170, 33, 371, 165, 80, 259, 140, 242, 123, 118, 73, 225, 127, 290, 270, 268, 193, 24, 1, 111, 296, 300, 94, 160, 270, 160, 200, 249, 0, 162, 146, 136, 148, 220, 52, 110, 178, 200, 74, 17, 110, 0, 42, 227, 226, 40, 156, 97, 160, 134, 151, 200, 190, 155, 1, 150, 176, 130, 145, 69, 275, 288, 100, 121, 245, 400, 103, 260, 55, 170, 118, 0, 95, 430, 0, 289, 295, 87, 216, 102, 257, 185, 300, 30, 232, 148, 98, 260, 95, 73, 164, 300, 100, 157, 217, 1, 266, 1, 60, 225, 280, 142, 220, 290, 16, 280, 165, 140, 130, 116, 69, 97, 250, 200, 300, 117, 270, 250, 73, 145, 110, 170, 153, 127, 260, 105, 122, 260, 27, 248, 153, 60, 165, 22, 140, 240, 71, 88, 192, 0, 155, 201, 180, 350, 261, 102, 165, 45, 58, 2, 21, 86, 66, 66, 150, 350, 73, 215, 275, 240, 100, 260, 330, 250, 168, 5, 181, 163, 182, 101, 193, 297, 106, 58, 124, 280, 1, 70, 35, 66, 400, 47, 200, 314, 250, 380, 150, 51, 118, 310, 230, 0, 0, 134, 127, 73, 79, 92, 205, 270, 91, 140, 260, 57, 191, 70, 186, 200, 95, 14, 210, 201, 283, 133, 84, 350, 50, 95, 145, 7, 270, 180, 87, 187, 128, 260, 158, 152, 180, 122, 52, 280, 24, 108, 300, 404, 15, 10, 81, 0, 165, 400, 230, 365, 260, 51, 130, 380, 172, 139, 167, 248, 1, 175, 79, 187, 21, 134, 263, 206, 307, 2, 315, 110, 191, 132, 250, 79, 270, 310, 63, 177, 208, 205, 275, 300, 231, 92, 223, 33, 227, 12, 167, 0, 187, 130, 10, 177, 47, 1, 176, 250, 74, 52, 281, 100, 165, 115, 218, 200, 0, 217, 98, 254, 273, 135, 40, 88, 260, 182, 216, 80, 181, 0, 242, 380, 1, 112, 185, 262, 258, 265, 1, 315, 0, 240, 350, 159, 250, 384, 112, 220, 80, 204, 234, 160, 168, 98, 162, 120, 117, 159, 183, 1, 120, 235, 165, 168, 245, 147, 216, 240, 140, 75, 275, 157, 185, 225, 1, 325, 256, 65, 0, 386, 320, 100, 200, 160, 1, 129, 180, 131, 149, 30, 197, 90, 66, 103, 28, 400, 90, 189, 108, 66, 29, 140, 190, 190, 116, 230, 315, 80, 60, 270, 35, 68, 266, 117, 192, 17, 245, 122, 279, 200, 200, 1, 119, 59, 230, 300, 136, 64, 240, 0, 226, 122, 133, 185, 106, 198, 143, 1, 154, 123, 177, 113, 93, 100, 350, 118, 195, 285, 93, 111, 352, 0, 130, 55, 217, 400, 0, 30, 320, 160, 167, 300, 135, 141, 0, 126, 122, 180, 51, 141, 220, 70, 34, 270, 65, 94, 148, 300, 108, 342, 280, 282, 105, 270, 270, 260, 360, 270, 112, 157, 180, 90, 155, 100, 157, 284, 0, 133, 278, 150, 160, 0, 250, 129, 265, 51, 91, 155, 43, 300, 1, 61, 127, 185, 305, 307, 140, 115, 110, 135, 235, 162, 350, 290, 190, 180, 386, 184, 98, 185, 250, 200, 105, 168, 390, 180, 233, 220, 186, 80, 57, 137, 175, 54, 282, 313, 140, 71, 210, 220, 170, 74, 200, 131, 142, 125, 190, 1, 248, 143, 200, 270, 330, 132, 250, 400, 129, 300, 123, 110, 63, 20, 206, 63, 150, 300, 135, 0, 122, 110, 16, 147, 148, 275, 5, 100, 273, 167, 118, 25, 170, 111, 0, 250, 115, 43, 86, 115, 84, 50, 2, 305, 87, 170, 165, 198, 300, 280, 340, 310, 435, 174, 180, 245, 180, 300, 130, 220, 147, 250, 210, 148, 215, 220, 118, 188, 98, 210, 167, 350, 220, 11, 160, 120, 285, 200, 228, 110, 212, 312, 38, 235, 195, 185, 1, 115, 210, 122, 310, 125, 121, 217, 136, 200, 12, 203, 86, 11, 178, 200, 274, 230, 307, 218, 76, 115, 186, 284, 50, 29, 160, 262, 300, 128, 114, 56, 200, 128, 250, 23, 1, 29, 162, 119, 170, 150, 194, 107, 280, 42, 215, 280, 0, 187, 94, 253, 254, 86, 237, 45, 1, 140, 200, 200, 165, 330, 388, 171, 280, 240, 0, 355, 388, 108, 95, 125, 106, 93, 303, 65, 185, 168, 112, 1, 230, 138, 1, 193, 320, 180, 148, 294, 92, 82, 78, 266, 177, 144, 213, 42, 65, 101, 74, 284, 15, 278, 58, 143, 0, 2, 90, 171, 26, 400, 220, 230, 110, 113, 287, 96, 285, 287, 115, 302, 240, 120, 268, 116, 210, 128, 131, 180, 115, 250, 1, 320, 127, 187, 102, 224, 195, 1, 244, 147, 144, 290, 93, 245, 211, 127, 344, 132, 290, 45, 250, 108, 135, 257, 315, 208, 61, 48, 350, 99, 0, 45, 400, 175, 139, 104, 82, 137, 199, 60, 280, 120, 238, 269, 0, 100, 220, 42, 146, 0, 166, 180, 1, 221, 89, 51, 287, 104, 250, 305, 60, 180, 196, 160, 141, 205, 17, 20, 189, 198, 24, 225, 231, 97, 150, 170, 150, 149, 256, 280, 152, 190, 98, 45, 136, 255, 149, 198, 99, 170, 134, 250, 124, 143, 268, 133, 187, 35, 280, 147, 316, 161, 161, 29, 48, 345, 400, 242, 0, 180, 120, 0, 421, 1, 116, 89, 18, 181, 65, 230, 140, 105, 200, 175, 168, 66, 230, 223, 74, 240, 275, 117, 135, 171, 205, 230, 170, 337, 106, 59, 107, 189, 200, 129, 0, 300, 16, 89, 1, 160, 201, 135, 65, 230, 168, 265, 90, 120, 100, 250, 209, 178, 290, 133, 159, 40, 300, 56, 68, 11, 25, 52, 200, 367, 300, 147, 245, 177, 197, 80, 200, 300, 400, 240, 190, 30, 2, 165, 165, 144, 83, 250, 233, 84, 400, 140, 11, 58, 140, 160, 0, 230, 0, 264, 144, 220, 279, 60, 199, 155, 29, 149, 90, 73, 67, 247, 148, 260, 219, 138, 165, 360, 173, 187, 330, 295, 211, 86, 160, 274, 308, 181, 113, 0, 210, 207, 93, 120, 130, 0, 145, 327, 140, 260, 150, 110, 294, 62, 95, 265, 350, 57, 250, 53, 92, 132, 135, 105, 100, 123, 65, 73, 350, 138, 115, 240, 147, 207, 238, 165, 158, 130, 11, 255, 89, 250, 154, 181, 0, 193, 194, 80, 94, 155, 242, 1, 145, 326, 185, 107, 105, 20, 162, 120, 259, 1, 190, 69, 129, 188, 122, 274, 105, 287, 140, 28, 3, 143, 230, 39, 240, 1, 84, 150, 73, 179, 93, 34, 250, 147, 75, 102, 210, 60, 240, 141, 253, 375, 0, 160, 275, 4, 137, 360, 80, 200, 148, 180, 370, 1, 0, 157, 211, 160, 154, 200, 260, 240, 63, 20, 370, 21, 65, 50, 267, 300, 260, 139, 1, 11, 161, 160, 255, 280, 245, 0, 105, 0, 2, 167, 152, 1, 42, 1, 200, 115, 193, 207, 3, 330, 169, 78, 124, 400, 1, 138, 290, 250, 157, 25, 131, 210, 320, 300, 150, 290, 136, 91, 50, 63, 1, 131, 165, 215, 198, 205, 248, 237, 69, 55, 70, 235, 47, 1, 150, 113, 56, 140, 123, 144, 67, 44, 20, 230, 4, 85, 175, 139, 263, 185, 177, 0, 147, 130, 138, 2, 127, 80, 300, 136, 186, 140, 0, 164, 190, 62, 79, 200, 360, 300, 213, 173, 0, 130, 240, 35, 84, 180, 150, 59, 287, 19, 37, 120, 26, 243, 255, 142, 74, 90, 222, 60, 174, 152, 150, 259, 159, 221, 198, 245, 290, 110, 160, 35, 224, 58, 270, 79, 98, 0, 150, 300, 385, 360, 190, 160, 0, 56, 27, 0, 265, 1, 128, 154, 126, 10, 297, 210, 71, 146, 360, 69, 110, 320, 170, 72, 247, 40, 72, 51, 73, 257, 184, 89, 175, 225, 29, 209, 46, 183, 156, 175, 280, 63, 195, 98, 214, 118, 104, 75, 196, 92, 419, 100, 186, 234, 1, 200, 102, 149, 22, 180, 196, 191, 121, 280, 115, 189, 179, 137, 234, 161, 176, 210, 56, 280, 90, 120, 37, 151, 75, 219, 170, 74, 210, 300, 82, 121, 198, 290, 103, 340, 270, 119, 140, 335, 124, 85, 68, 160, 212, 140, 200, 153, 238, 3, 110, 215, 100, 245, 96, 128, 246, 0, 71, 138, 118, 320, 1, 45, 220, 55, 1, 0, 190, 186, 270, 250, 86, 107, 180, 360, 165, 110, 145, 354, 230, 220, 345, 86, 90, 167, 160, 120, 238, 79, 0, 200, 229, 160, 176, 215, 150, 130, 189, 5, 350, 277, 155, 280, 115, 230, 350, 230, 199, 280, 37, 3, 341, 180, 160, 128, 150, 65, 300, 146, 123, 160, 150, 124, 230, 260, 185, 135, 184, 45, 355, 340, 154, 256, 210, 175, 57, 380, 90, 136, 178, 110, 370, 73, 140, 300, 109, 145, 185, 85, 160, 232, 161, 123, 115, 250, 370, 250, 250, 133, 0, 100, 150, 130, 89, 93, 250, 160, 330, 122, 212, 142, 77, 127, 161, 260, 78, 280, 97, 170, 78, 180, 220, 157, 85, 100, 143, 189, 288, 128, 67, 168, 120, 140, 272, 190, 223, 365, 158, 152, 47, 16, 82, 76, 39, 300, 180, 90, 177, 250, 137, 52, 380, 253, 186, 38, 220, 144, 170, 89, 145, 300, 230, 78, 78, 167, 122, 1, 230, 0, 98, 95, 69, 277, 125, 30, 242, 112, 330, 260, 225, 48, 0, 218, 130, 136, 204, 156, 189, 69, 2, 209, 123, 170, 290, 200, 43, 130, 220, 1, 37, 105, 110, 198, 210, 290, 95, 52, 103, 230, 150, 161, 58, 50, 181, 213, 168, 135, 139, 162, 77, 42, 30, 62, 270, 0, 0, 4, 185, 128, 90, 2, 129, 0, 140, 375, 11, 235, 127, 15, 273, 169, 275, 195, 46, 28, 226, 136, 221, 244, 44, 51, 58, 275, 400, 90, 167, 98, 293, 38, 60, 0, 250, 0, 180, 280, 140, 240, 152, 40, 330, 1, 207, 0, 182, 123, 216, 30, 233, 131, 200, 345, 200, 206, 230, 200, 420, 310, 1, 285, 0, 126, 156, 260, 270, 221, 280, 220, 88, 1, 245, 396, 95, 198, 71, 70, 311, 281, 181, 238, 34, 143, 90, 110, 244, 280, 250, 51, 112, 1, 195, 174, 229, 0, 150, 180, 245, 146, 174, 356, 166, 0, 70, 253, 150, 200, 217, 1, 127, 35, 0, 114, 113, 102, 68, 148, 39, 210, 220, 300, 120, 232, 252, 236, 230, 162, 180, 224, 265, 200, 134, 172, 180, 128, 96, 240, 74, 59, 0, 380, 150, 43, 80, 161, 130, 172, 320, 265, 386, 48, 159, 0, 1, 2, 256, 121, 126, 5, 377, 53, 190, 16, 200, 147, 200, 103, 45, 247, 67, 213, 190, 300, 109, 350, 250, 350, 300, 10, 240, 69, 214, 44, 259, 17, 92, 167, 149, 132, 86, 178, 120, 210, 196, 150, 90, 193, 212, 210, 44, 48, 110, 175, 170, 1, 0, 220, 56, 1, 7, 250, 73, 390, 0, 208, 95, 263, 202, 188, 155, 132, 256, 300, 145, 360, 226, 30, 97, 250, 247, 177, 128, 69, 186, 162, 154, 250, 0, 124, 251, 1, 198, 83, 88, 230, 69, 100, 1, 233, 150, 340, 175, 303, 270, 87, 10, 206, 200, 62, 395, 300, 160, 240, 185, 68, 56, 198, 117, 0, 81, 247, 1, 298, 300, 176, 319, 159, 191, 74, 134, 154, 220, 367, 90, 65, 30, 6, 215, 18, 137, 200, 47, 245, 55, 5, 128, 265, 83, 128, 220, 32, 200, 89, 213, 188, 338, 300, 299, 240, 212, 77, 186, 191, 240, 29, 258, 75, 56, 180, 170, 0, 199, 50, 106, 345, 159, 197, 342, 85, 314, 1, 140, 1, 142, 289, 390, 190, 100, 98, 107, 67, 155, 136, 230, 312, 8, 179, 124, 122, 245, 127, 147, 100, 104, 160, 0, 125, 328, 85, 16, 200, 352, 250, 300, 112, 160, 149, 88, 76, 16, 185, 89, 131, 270, 158, 45, 413, 44, 42, 193, 153, 250, 55, 43, 195, 150, 170, 1, 141, 206, 280, 219, 255, 106, 265, 208, 127, 80, 73, 230, 220, 48, 108, 241, 25, 216, 168, 182, 163, 160, 222, 138, 230, 232, 120, 126, 193, 288, 230, 148, 290, 196, 236, 315, 111, 2, 254, 125, 368, 90, 73, 290, 130, 22, 0, 310, 148, 320, 60, 272, 217, 160, 260, 217, 227, 200, 205, 240, 10, 160, 160, 0, 130, 99, 402, 220, 3, 152, 1, 300, 20, 150, 109, 1, 102, 310, 360, 150, 313, 370, 77, 1, 0, 432, 97, 52, 201, 118, 118, 150, 101, 274, 126, 15, 83, 1, 153, 19, 56, 125, 197, 10, 97, 250, 230, 4, 315, 159, 231, 160, 140, 148, 260, 235, 285, 121, 187, 75, 58, 84, 227, 30, 39, 174, 160, 115, 322, 145, 1, 33, 237, 115, 94, 80, 205, 160, 0, 185, 22, 108, 138, 95, 380, 55, 210, 305, 370, 100, 120, 220, 158, 128, 340, 130, 26, 90, 65, 294, 70, 0, 409, 113, 250, 47, 277, 194, 126, 209, 90, 261, 270, 152, 238, 78, 75, 185, 304, 87, 243, 99, 1, 250, 128, 110, 30, 186, 135, 151, 45, 360, 197, 60, 1, 173, 94, 350, 282, 282, 180, 80, 47, 300, 220, 297, 84, 210, 183, 239, 235, 174, 158, 215, 95, 148, 245, 289, 0, 430, 140, 80, 100, 190, 98, 69, 269, 221, 257, 180, 254, 10, 380, 234, 300, 178, 222, 116, 180, 173, 0, 162, 200, 97, 67, 190, 69, 142, 240, 47, 168, 1, 71, 185, 123, 194, 250, 140, 200, 1, 105, 360, 60, 25, 1, 0, 71, 108, 200, 126, 144, 160, 156, 157, 97, 381, 300, 230, 218, 40, 274, 215, 100, 310, 178, 120, 170, 125, 64, 1, 143, 118, 262, 250, 223, 98, 232, 195, 87, 111, 270, 102, 150, 200, 219, 127, 240, 154, 182, 199, 152, 131, 93, 123, 216, 155, 189, 374, 220, 185, 175, 1, 310, 26, 248, 250, 3, 1, 210, 0, 213, 340, 50, 238, 225, 380, 250, 300, 320, 127, 44, 149, 125, 0, 118, 160, 240, 234, 300, 248, 30, 1, 119, 282, 196, 115, 247, 171, 295, 125, 284, 250, 190, 220, 230, 186, 250, 255, 138, 179, 45, 228, 107, 53, 12, 202, 105, 242, 135, 140, 89, 284, 183, 144, 223, 300, 254, 110, 170, 127, 206, 102, 240, 219, 225, 115, 0, 0, 410, 215, 300, 160, 149, 271, 118, 280, 130, 0, 138, 68, 172, 110, 16, 142, 150, 200, 134, 300, 70, 180, 178, 51, 214, 107, 188, 220, 178, 246, 363, 12, 114, 0, 130, 280, 139, 0, 220, 94, 1, 47, 229, 300, 1, 124, 114, 144, 280, 217, 184, 212, 190, 80, 120, 25, 173, 152, 30, 88, 299, 204, 149, 142, 69, 180, 54, 390, 175, 302, 288, 160, 107, 250, 160, 107, 176, 122, 118, 140, 199, 90, 1, 220, 48, 61, 36, 180, 285, 65, 95, 186, 300, 82, 131, 207, 82, 276, 300, 38, 155, 90, 1, 15, 200, 156, 140, 120, 74, 220, 14, 152, 285, 140, 122, 77, 56, 1, 139, 0, 80, 152, 0, 253, 280, 83, 170, 74, 271, 140, 180, 23, 235, 105, 0, 99, 40, 89, 164, 380, 158, 159, 163, 218, 85, 270, 132, 127, 298, 200, 112, 77, 170, 180, 247, 185, 180, 77, 80, 159, 194, 171, 240, 0, 126, 125, 280, 60, 0, 207, 400, 105, 80, 155, 210, 145, 38, 237, 152, 163, 35, 9, 1, 194, 124], \"xaxis\": \"x\", \"y\": [\"distplot\", \"distplot\", \"distplot\", \"distplot\", \"distplot\", \"distplot\", \"distplot\", \"distplot\", \"distplot\", \"distplot\", \"distplot\", \"distplot\", \"distplot\", \"distplot\", \"distplot\", \"distplot\", \"distplot\", \"distplot\", \"distplot\", \"distplot\", \"distplot\", \"distplot\", \"distplot\", \"distplot\", \"distplot\", \"distplot\", \"distplot\", \"distplot\", \"distplot\", \"distplot\", \"distplot\", \"distplot\", \"distplot\", \"distplot\", \"distplot\", \"distplot\", \"distplot\", \"distplot\", \"distplot\", \"distplot\", \"distplot\", \"distplot\", \"distplot\", \"distplot\", \"distplot\", \"distplot\", \"distplot\", \"distplot\", \"distplot\", \"distplot\", \"distplot\", \"distplot\", \"distplot\", \"distplot\", \"distplot\", \"distplot\", \"distplot\", \"distplot\", \"distplot\", \"distplot\", \"distplot\", \"distplot\", \"distplot\", \"distplot\", \"distplot\", \"distplot\", \"distplot\", \"distplot\", \"distplot\", \"distplot\", \"distplot\", \"distplot\", \"distplot\", \"distplot\", \"distplot\", \"distplot\", \"distplot\", \"distplot\", \"distplot\", \"distplot\", \"distplot\", \"distplot\", \"distplot\", \"distplot\", \"distplot\", \"distplot\", \"distplot\", \"distplot\", \"distplot\", \"distplot\", \"distplot\", \"distplot\", \"distplot\", \"distplot\", \"distplot\", \"distplot\", \"distplot\", \"distplot\", \"distplot\", \"distplot\", \"distplot\", \"distplot\", \"distplot\", \"distplot\", \"distplot\", \"distplot\", \"distplot\", \"distplot\", \"distplot\", \"distplot\", \"distplot\", \"distplot\", \"distplot\", \"distplot\", \"distplot\", \"distplot\", \"distplot\", \"distplot\", \"distplot\", \"distplot\", \"distplot\", \"distplot\", \"distplot\", \"distplot\", \"distplot\", \"distplot\", \"distplot\", \"distplot\", \"distplot\", \"distplot\", \"distplot\", \"distplot\", \"distplot\", \"distplot\", \"distplot\", \"distplot\", \"distplot\", \"distplot\", \"distplot\", \"distplot\", \"distplot\", \"distplot\", \"distplot\", \"distplot\", \"distplot\", \"distplot\", \"distplot\", \"distplot\", \"distplot\", \"distplot\", \"distplot\", \"distplot\", \"distplot\", \"distplot\", \"distplot\", \"distplot\", \"distplot\", \"distplot\", \"distplot\", \"distplot\", \"distplot\", \"distplot\", \"distplot\", \"distplot\", \"distplot\", \"distplot\", \"distplot\", \"distplot\", \"distplot\", \"distplot\", \"distplot\", \"distplot\", \"distplot\", \"distplot\", \"distplot\", \"distplot\", \"distplot\", \"distplot\", \"distplot\", \"distplot\", \"distplot\", \"distplot\", \"distplot\", \"distplot\", \"distplot\", \"distplot\", \"distplot\", \"distplot\", \"distplot\", \"distplot\", \"distplot\", \"distplot\", \"distplot\", \"distplot\", \"distplot\", \"distplot\", \"distplot\", \"distplot\", \"distplot\", \"distplot\", \"distplot\", \"distplot\", \"distplot\", \"distplot\", \"distplot\", \"distplot\", \"distplot\", \"distplot\", \"distplot\", \"distplot\", \"distplot\", \"distplot\", \"distplot\", \"distplot\", \"distplot\", \"distplot\", \"distplot\", \"distplot\", \"distplot\", \"distplot\", \"distplot\", \"distplot\", \"distplot\", \"distplot\", \"distplot\", \"distplot\", \"distplot\", \"distplot\", \"distplot\", \"distplot\", \"distplot\", \"distplot\", \"distplot\", \"distplot\", \"distplot\", \"distplot\", \"distplot\", \"distplot\", \"distplot\", \"distplot\", \"distplot\", \"distplot\", \"distplot\", \"distplot\", \"distplot\", \"distplot\", \"distplot\", \"distplot\", \"distplot\", \"distplot\", \"distplot\", \"distplot\", \"distplot\", \"distplot\", \"distplot\", \"distplot\", \"distplot\", \"distplot\", \"distplot\", \"distplot\", \"distplot\", \"distplot\", \"distplot\", \"distplot\", \"distplot\", \"distplot\", \"distplot\", \"distplot\", \"distplot\", \"distplot\", \"distplot\", \"distplot\", \"distplot\", \"distplot\", \"distplot\", \"distplot\", \"distplot\", \"distplot\", \"distplot\", \"distplot\", \"distplot\", \"distplot\", \"distplot\", \"distplot\", \"distplot\", \"distplot\", \"distplot\", \"distplot\", \"distplot\", \"distplot\", \"distplot\", \"distplot\", \"distplot\", \"distplot\", \"distplot\", \"distplot\", \"distplot\", \"distplot\", \"distplot\", \"distplot\", \"distplot\", \"distplot\", \"distplot\", \"distplot\", \"distplot\", \"distplot\", \"distplot\", \"distplot\", \"distplot\", \"distplot\", \"distplot\", \"distplot\", \"distplot\", \"distplot\", \"distplot\", \"distplot\", \"distplot\", \"distplot\", \"distplot\", \"distplot\", \"distplot\", \"distplot\", \"distplot\", \"distplot\", \"distplot\", \"distplot\", \"distplot\", \"distplot\", \"distplot\", \"distplot\", \"distplot\", \"distplot\", \"distplot\", \"distplot\", \"distplot\", \"distplot\", \"distplot\", \"distplot\", \"distplot\", \"distplot\", \"distplot\", \"distplot\", \"distplot\", \"distplot\", \"distplot\", \"distplot\", \"distplot\", \"distplot\", \"distplot\", \"distplot\", \"distplot\", \"distplot\", \"distplot\", \"distplot\", \"distplot\", \"distplot\", \"distplot\", \"distplot\", \"distplot\", \"distplot\", \"distplot\", \"distplot\", \"distplot\", \"distplot\", \"distplot\", \"distplot\", \"distplot\", \"distplot\", \"distplot\", \"distplot\", \"distplot\", \"distplot\", \"distplot\", \"distplot\", \"distplot\", \"distplot\", \"distplot\", \"distplot\", \"distplot\", \"distplot\", \"distplot\", \"distplot\", \"distplot\", \"distplot\", \"distplot\", \"distplot\", \"distplot\", \"distplot\", \"distplot\", \"distplot\", \"distplot\", \"distplot\", \"distplot\", \"distplot\", \"distplot\", \"distplot\", \"distplot\", \"distplot\", \"distplot\", \"distplot\", \"distplot\", \"distplot\", \"distplot\", \"distplot\", \"distplot\", \"distplot\", \"distplot\", \"distplot\", \"distplot\", \"distplot\", \"distplot\", \"distplot\", \"distplot\", \"distplot\", \"distplot\", \"distplot\", \"distplot\", \"distplot\", \"distplot\", \"distplot\", \"distplot\", \"distplot\", \"distplot\", \"distplot\", \"distplot\", \"distplot\", \"distplot\", \"distplot\", \"distplot\", \"distplot\", \"distplot\", \"distplot\", \"distplot\", \"distplot\", \"distplot\", \"distplot\", \"distplot\", \"distplot\", \"distplot\", \"distplot\", \"distplot\", \"distplot\", \"distplot\", \"distplot\", \"distplot\", \"distplot\", \"distplot\", \"distplot\", \"distplot\", \"distplot\", \"distplot\", \"distplot\", \"distplot\", \"distplot\", \"distplot\", \"distplot\", \"distplot\", \"distplot\", \"distplot\", \"distplot\", \"distplot\", \"distplot\", \"distplot\", \"distplot\", \"distplot\", \"distplot\", \"distplot\", \"distplot\", \"distplot\", \"distplot\", \"distplot\", \"distplot\", \"distplot\", \"distplot\", \"distplot\", \"distplot\", \"distplot\", \"distplot\", \"distplot\", \"distplot\", \"distplot\", \"distplot\", \"distplot\", \"distplot\", \"distplot\", \"distplot\", \"distplot\", \"distplot\", \"distplot\", \"distplot\", \"distplot\", \"distplot\", \"distplot\", \"distplot\", \"distplot\", \"distplot\", \"distplot\", \"distplot\", \"distplot\", \"distplot\", \"distplot\", \"distplot\", \"distplot\", \"distplot\", \"distplot\", \"distplot\", \"distplot\", \"distplot\", \"distplot\", \"distplot\", \"distplot\", \"distplot\", \"distplot\", \"distplot\", \"distplot\", \"distplot\", \"distplot\", \"distplot\", \"distplot\", \"distplot\", \"distplot\", \"distplot\", \"distplot\", \"distplot\", \"distplot\", \"distplot\", \"distplot\", \"distplot\", \"distplot\", \"distplot\", \"distplot\", \"distplot\", \"distplot\", \"distplot\", \"distplot\", \"distplot\", \"distplot\", \"distplot\", \"distplot\", \"distplot\", \"distplot\", \"distplot\", \"distplot\", \"distplot\", \"distplot\", \"distplot\", \"distplot\", \"distplot\", \"distplot\", \"distplot\", \"distplot\", \"distplot\", \"distplot\", \"distplot\", \"distplot\", \"distplot\", \"distplot\", \"distplot\", \"distplot\", \"distplot\", \"distplot\", \"distplot\", \"distplot\", \"distplot\", \"distplot\", \"distplot\", \"distplot\", \"distplot\", \"distplot\", \"distplot\", \"distplot\", \"distplot\", \"distplot\", \"distplot\", \"distplot\", \"distplot\", \"distplot\", \"distplot\", \"distplot\", \"distplot\", \"distplot\", \"distplot\", \"distplot\", \"distplot\", \"distplot\", \"distplot\", \"distplot\", \"distplot\", \"distplot\", \"distplot\", \"distplot\", \"distplot\", \"distplot\", \"distplot\", \"distplot\", \"distplot\", \"distplot\", \"distplot\", \"distplot\", \"distplot\", \"distplot\", \"distplot\", \"distplot\", \"distplot\", \"distplot\", \"distplot\", \"distplot\", \"distplot\", \"distplot\", \"distplot\", \"distplot\", \"distplot\", \"distplot\", \"distplot\", \"distplot\", \"distplot\", \"distplot\", \"distplot\", \"distplot\", \"distplot\", \"distplot\", \"distplot\", \"distplot\", \"distplot\", \"distplot\", \"distplot\", \"distplot\", \"distplot\", \"distplot\", \"distplot\", \"distplot\", \"distplot\", \"distplot\", \"distplot\", \"distplot\", \"distplot\", \"distplot\", \"distplot\", \"distplot\", \"distplot\", \"distplot\", \"distplot\", \"distplot\", \"distplot\", \"distplot\", \"distplot\", \"distplot\", \"distplot\", \"distplot\", \"distplot\", \"distplot\", \"distplot\", \"distplot\", \"distplot\", \"distplot\", \"distplot\", \"distplot\", \"distplot\", \"distplot\", \"distplot\", \"distplot\", \"distplot\", \"distplot\", \"distplot\", \"distplot\", \"distplot\", \"distplot\", \"distplot\", \"distplot\", \"distplot\", \"distplot\", \"distplot\", \"distplot\", \"distplot\", \"distplot\", \"distplot\", \"distplot\", \"distplot\", \"distplot\", \"distplot\", \"distplot\", \"distplot\", \"distplot\", \"distplot\", \"distplot\", \"distplot\", \"distplot\", \"distplot\", \"distplot\", \"distplot\", \"distplot\", \"distplot\", \"distplot\", \"distplot\", \"distplot\", \"distplot\", \"distplot\", \"distplot\", \"distplot\", \"distplot\", \"distplot\", \"distplot\", \"distplot\", \"distplot\", \"distplot\", \"distplot\", \"distplot\", \"distplot\", \"distplot\", \"distplot\", \"distplot\", \"distplot\", \"distplot\", \"distplot\", \"distplot\", \"distplot\", \"distplot\", \"distplot\", \"distplot\", \"distplot\", \"distplot\", \"distplot\", \"distplot\", \"distplot\", \"distplot\", \"distplot\", \"distplot\", \"distplot\", \"distplot\", \"distplot\", \"distplot\", \"distplot\", \"distplot\", \"distplot\", \"distplot\", \"distplot\", \"distplot\", \"distplot\", \"distplot\", \"distplot\", \"distplot\", \"distplot\", \"distplot\", \"distplot\", \"distplot\", \"distplot\", \"distplot\", \"distplot\", \"distplot\", \"distplot\", \"distplot\", \"distplot\", \"distplot\", \"distplot\", \"distplot\", \"distplot\", \"distplot\", \"distplot\", \"distplot\", \"distplot\", \"distplot\", \"distplot\", \"distplot\", \"distplot\", \"distplot\", \"distplot\", \"distplot\", \"distplot\", \"distplot\", \"distplot\", \"distplot\", \"distplot\", \"distplot\", \"distplot\", \"distplot\", \"distplot\", \"distplot\", \"distplot\", \"distplot\", \"distplot\", \"distplot\", \"distplot\", \"distplot\", \"distplot\", \"distplot\", \"distplot\", \"distplot\", \"distplot\", \"distplot\", \"distplot\", \"distplot\", \"distplot\", \"distplot\", \"distplot\", \"distplot\", \"distplot\", \"distplot\", \"distplot\", \"distplot\", \"distplot\", \"distplot\", \"distplot\", \"distplot\", \"distplot\", \"distplot\", \"distplot\", \"distplot\", \"distplot\", \"distplot\", \"distplot\", \"distplot\", \"distplot\", \"distplot\", \"distplot\", \"distplot\", \"distplot\", \"distplot\", \"distplot\", \"distplot\", \"distplot\", \"distplot\", \"distplot\", \"distplot\", \"distplot\", \"distplot\", \"distplot\", \"distplot\", \"distplot\", \"distplot\", \"distplot\", \"distplot\", \"distplot\", \"distplot\", \"distplot\", \"distplot\", \"distplot\", \"distplot\", \"distplot\", \"distplot\", \"distplot\", \"distplot\", \"distplot\", \"distplot\", \"distplot\", \"distplot\", \"distplot\", \"distplot\", \"distplot\", \"distplot\", \"distplot\", \"distplot\", \"distplot\", \"distplot\", \"distplot\", \"distplot\", \"distplot\", \"distplot\", \"distplot\", \"distplot\", \"distplot\", \"distplot\", \"distplot\", \"distplot\", \"distplot\", \"distplot\", \"distplot\", \"distplot\", \"distplot\", \"distplot\", \"distplot\", \"distplot\", \"distplot\", \"distplot\", \"distplot\", \"distplot\", \"distplot\", \"distplot\", \"distplot\", \"distplot\", \"distplot\", \"distplot\", \"distplot\", \"distplot\", \"distplot\", \"distplot\", \"distplot\", \"distplot\", \"distplot\", \"distplot\", \"distplot\", \"distplot\", \"distplot\", \"distplot\", \"distplot\", \"distplot\", \"distplot\", \"distplot\", \"distplot\", \"distplot\", \"distplot\", \"distplot\", \"distplot\", \"distplot\", \"distplot\", \"distplot\", \"distplot\", \"distplot\", \"distplot\", \"distplot\", \"distplot\", \"distplot\", \"distplot\", \"distplot\", \"distplot\", \"distplot\", \"distplot\", \"distplot\", \"distplot\", \"distplot\", \"distplot\", \"distplot\", \"distplot\", \"distplot\", \"distplot\", \"distplot\", \"distplot\", \"distplot\", \"distplot\", \"distplot\", \"distplot\", \"distplot\", \"distplot\", \"distplot\", \"distplot\", \"distplot\", \"distplot\", \"distplot\", \"distplot\", \"distplot\", \"distplot\", \"distplot\", \"distplot\", \"distplot\", \"distplot\", \"distplot\", \"distplot\", \"distplot\", \"distplot\", \"distplot\", \"distplot\", \"distplot\", \"distplot\", \"distplot\", \"distplot\", \"distplot\", \"distplot\", \"distplot\", \"distplot\", \"distplot\", \"distplot\", \"distplot\", \"distplot\", \"distplot\", \"distplot\", \"distplot\", \"distplot\", \"distplot\", \"distplot\", \"distplot\", \"distplot\", \"distplot\", \"distplot\", \"distplot\", \"distplot\", \"distplot\", \"distplot\", \"distplot\", \"distplot\", \"distplot\", \"distplot\", \"distplot\", \"distplot\", \"distplot\", \"distplot\", \"distplot\", \"distplot\", \"distplot\", \"distplot\", \"distplot\", \"distplot\", \"distplot\", \"distplot\", \"distplot\", \"distplot\", \"distplot\", \"distplot\", \"distplot\", \"distplot\", \"distplot\", \"distplot\", \"distplot\", \"distplot\", \"distplot\", \"distplot\", \"distplot\", \"distplot\", \"distplot\", \"distplot\", \"distplot\", \"distplot\", \"distplot\", \"distplot\", \"distplot\", \"distplot\", \"distplot\", \"distplot\", \"distplot\", \"distplot\", \"distplot\", \"distplot\", \"distplot\", \"distplot\", \"distplot\", \"distplot\", \"distplot\", \"distplot\", \"distplot\", \"distplot\", \"distplot\", \"distplot\", \"distplot\", \"distplot\", \"distplot\", \"distplot\", \"distplot\", \"distplot\", \"distplot\", \"distplot\", \"distplot\", \"distplot\", \"distplot\", \"distplot\", \"distplot\", \"distplot\", \"distplot\", \"distplot\", \"distplot\", \"distplot\", \"distplot\", \"distplot\", \"distplot\", \"distplot\", \"distplot\", \"distplot\", \"distplot\", \"distplot\", \"distplot\", \"distplot\", \"distplot\", \"distplot\", \"distplot\", \"distplot\", \"distplot\", \"distplot\", \"distplot\", \"distplot\", \"distplot\", \"distplot\", \"distplot\", \"distplot\", \"distplot\", \"distplot\", \"distplot\", \"distplot\", \"distplot\", \"distplot\", \"distplot\", \"distplot\", \"distplot\", \"distplot\", \"distplot\", \"distplot\", \"distplot\", \"distplot\", \"distplot\", \"distplot\", \"distplot\", \"distplot\", \"distplot\", \"distplot\", \"distplot\", \"distplot\", \"distplot\", \"distplot\", \"distplot\", \"distplot\", \"distplot\", \"distplot\", \"distplot\", \"distplot\", \"distplot\", \"distplot\", \"distplot\", \"distplot\", \"distplot\", \"distplot\", \"distplot\", \"distplot\", \"distplot\", \"distplot\", \"distplot\", \"distplot\", \"distplot\", \"distplot\", \"distplot\", \"distplot\", \"distplot\", \"distplot\", \"distplot\", \"distplot\", \"distplot\", \"distplot\", \"distplot\", \"distplot\", \"distplot\", \"distplot\", \"distplot\", \"distplot\", \"distplot\", \"distplot\", \"distplot\", \"distplot\", \"distplot\", \"distplot\", \"distplot\", \"distplot\", \"distplot\", \"distplot\", \"distplot\", \"distplot\", \"distplot\", \"distplot\", \"distplot\", \"distplot\", \"distplot\", \"distplot\", \"distplot\", \"distplot\", \"distplot\", \"distplot\", \"distplot\", \"distplot\", \"distplot\", \"distplot\", \"distplot\", \"distplot\", \"distplot\", \"distplot\", \"distplot\", \"distplot\", \"distplot\", \"distplot\", \"distplot\", \"distplot\", \"distplot\", \"distplot\", \"distplot\", \"distplot\", \"distplot\", \"distplot\", \"distplot\", \"distplot\", \"distplot\", \"distplot\", \"distplot\", \"distplot\", \"distplot\", \"distplot\", \"distplot\", \"distplot\", \"distplot\", \"distplot\", \"distplot\", \"distplot\", \"distplot\", \"distplot\", \"distplot\", \"distplot\", \"distplot\", \"distplot\", \"distplot\", \"distplot\", \"distplot\", \"distplot\", \"distplot\", \"distplot\", \"distplot\", \"distplot\", \"distplot\", \"distplot\", \"distplot\", \"distplot\", \"distplot\", \"distplot\", \"distplot\", \"distplot\", \"distplot\", \"distplot\", \"distplot\", \"distplot\", \"distplot\", \"distplot\", \"distplot\", \"distplot\", \"distplot\", \"distplot\", \"distplot\", \"distplot\", \"distplot\", \"distplot\", \"distplot\", \"distplot\", \"distplot\", \"distplot\", \"distplot\", \"distplot\", \"distplot\", \"distplot\", \"distplot\", \"distplot\", \"distplot\", \"distplot\", \"distplot\", \"distplot\", \"distplot\", \"distplot\", \"distplot\", \"distplot\", \"distplot\", \"distplot\", \"distplot\", \"distplot\", \"distplot\", \"distplot\", \"distplot\", \"distplot\", \"distplot\", \"distplot\", \"distplot\", \"distplot\", \"distplot\", \"distplot\", \"distplot\", \"distplot\", \"distplot\", \"distplot\", \"distplot\", \"distplot\", \"distplot\", \"distplot\", \"distplot\", \"distplot\", \"distplot\", \"distplot\", \"distplot\", \"distplot\", \"distplot\", \"distplot\", \"distplot\", \"distplot\", \"distplot\", \"distplot\", \"distplot\", \"distplot\", \"distplot\", \"distplot\", \"distplot\", \"distplot\", \"distplot\", \"distplot\", \"distplot\", \"distplot\", \"distplot\", \"distplot\", \"distplot\", \"distplot\", \"distplot\", \"distplot\", \"distplot\", \"distplot\", \"distplot\", \"distplot\", \"distplot\", \"distplot\", \"distplot\", \"distplot\", \"distplot\", \"distplot\", \"distplot\", \"distplot\", \"distplot\", \"distplot\", \"distplot\", \"distplot\", \"distplot\", \"distplot\", \"distplot\", \"distplot\", \"distplot\", \"distplot\", \"distplot\", \"distplot\", \"distplot\", \"distplot\", \"distplot\", \"distplot\", \"distplot\", \"distplot\", \"distplot\", \"distplot\", \"distplot\", \"distplot\", \"distplot\", \"distplot\", \"distplot\", \"distplot\", \"distplot\", \"distplot\", \"distplot\", \"distplot\", \"distplot\", \"distplot\", \"distplot\", \"distplot\", \"distplot\", \"distplot\", \"distplot\", \"distplot\", \"distplot\", \"distplot\", \"distplot\", \"distplot\", \"distplot\", \"distplot\", \"distplot\", \"distplot\", \"distplot\", \"distplot\", \"distplot\", \"distplot\", \"distplot\", \"distplot\", \"distplot\", \"distplot\", \"distplot\", \"distplot\", \"distplot\", \"distplot\", \"distplot\", \"distplot\", \"distplot\", \"distplot\", \"distplot\", \"distplot\", \"distplot\", \"distplot\", \"distplot\", \"distplot\", \"distplot\", \"distplot\", \"distplot\", \"distplot\", \"distplot\", \"distplot\", \"distplot\", \"distplot\", \"distplot\", \"distplot\", \"distplot\", \"distplot\", \"distplot\", \"distplot\", \"distplot\", \"distplot\", \"distplot\", \"distplot\", \"distplot\", \"distplot\", \"distplot\", \"distplot\", \"distplot\", \"distplot\", \"distplot\", \"distplot\", \"distplot\", \"distplot\", \"distplot\", \"distplot\", \"distplot\", \"distplot\", \"distplot\", \"distplot\", \"distplot\", \"distplot\", \"distplot\", \"distplot\", \"distplot\", \"distplot\", \"distplot\", \"distplot\", \"distplot\", \"distplot\", \"distplot\", \"distplot\", \"distplot\", \"distplot\", \"distplot\", \"distplot\", \"distplot\", \"distplot\", \"distplot\", \"distplot\", \"distplot\", \"distplot\", \"distplot\", \"distplot\", \"distplot\", \"distplot\", \"distplot\", \"distplot\", \"distplot\", \"distplot\", \"distplot\", \"distplot\", \"distplot\", \"distplot\", \"distplot\", \"distplot\", \"distplot\", \"distplot\", \"distplot\", \"distplot\", \"distplot\", \"distplot\", \"distplot\", \"distplot\", \"distplot\", \"distplot\", \"distplot\", \"distplot\", \"distplot\", \"distplot\", \"distplot\", \"distplot\", \"distplot\", \"distplot\", \"distplot\", \"distplot\", \"distplot\", \"distplot\", \"distplot\", \"distplot\", \"distplot\", \"distplot\", \"distplot\", \"distplot\", \"distplot\", \"distplot\", \"distplot\", \"distplot\", \"distplot\", \"distplot\", \"distplot\", \"distplot\", \"distplot\", \"distplot\", \"distplot\", \"distplot\", \"distplot\", \"distplot\", \"distplot\", \"distplot\", \"distplot\", \"distplot\", \"distplot\", \"distplot\", \"distplot\", \"distplot\", \"distplot\", \"distplot\", \"distplot\", \"distplot\", \"distplot\", \"distplot\", \"distplot\", \"distplot\", \"distplot\", \"distplot\", \"distplot\", \"distplot\", \"distplot\", \"distplot\", \"distplot\", \"distplot\", \"distplot\", \"distplot\", \"distplot\", \"distplot\", \"distplot\", \"distplot\", \"distplot\", \"distplot\", \"distplot\", \"distplot\", \"distplot\", \"distplot\", \"distplot\", \"distplot\", \"distplot\", \"distplot\", \"distplot\", \"distplot\", \"distplot\", \"distplot\", \"distplot\", \"distplot\", \"distplot\", \"distplot\", \"distplot\", \"distplot\", \"distplot\", \"distplot\", \"distplot\", \"distplot\", \"distplot\", \"distplot\", \"distplot\", \"distplot\", \"distplot\", \"distplot\", \"distplot\", \"distplot\", \"distplot\", \"distplot\", \"distplot\", \"distplot\", \"distplot\", \"distplot\", \"distplot\", \"distplot\", \"distplot\", \"distplot\", \"distplot\", \"distplot\", \"distplot\", \"distplot\", \"distplot\", \"distplot\", \"distplot\", \"distplot\", \"distplot\", \"distplot\", \"distplot\", \"distplot\", \"distplot\", \"distplot\", \"distplot\", \"distplot\", \"distplot\", \"distplot\", \"distplot\", \"distplot\", \"distplot\", \"distplot\", \"distplot\", \"distplot\", \"distplot\", \"distplot\", \"distplot\", \"distplot\", \"distplot\", \"distplot\", \"distplot\", \"distplot\", \"distplot\", \"distplot\", \"distplot\", \"distplot\", \"distplot\", \"distplot\", \"distplot\", \"distplot\", \"distplot\", \"distplot\", \"distplot\", \"distplot\", \"distplot\", \"distplot\", \"distplot\", \"distplot\", \"distplot\", \"distplot\", \"distplot\", \"distplot\", \"distplot\", \"distplot\", \"distplot\", \"distplot\", \"distplot\", \"distplot\", \"distplot\", \"distplot\", \"distplot\", \"distplot\", \"distplot\", \"distplot\", \"distplot\", \"distplot\", \"distplot\", \"distplot\", \"distplot\", \"distplot\", \"distplot\", \"distplot\", \"distplot\", \"distplot\", \"distplot\", \"distplot\", \"distplot\", \"distplot\", \"distplot\", \"distplot\", \"distplot\", \"distplot\", \"distplot\", \"distplot\", \"distplot\", \"distplot\", \"distplot\", \"distplot\", \"distplot\", \"distplot\", \"distplot\", \"distplot\", \"distplot\", \"distplot\", \"distplot\", \"distplot\", \"distplot\", \"distplot\", \"distplot\", \"distplot\", \"distplot\", \"distplot\", \"distplot\", \"distplot\", \"distplot\", \"distplot\", \"distplot\", \"distplot\", \"distplot\", \"distplot\", \"distplot\", \"distplot\", \"distplot\", \"distplot\", \"distplot\", \"distplot\", \"distplot\", \"distplot\", \"distplot\", \"distplot\", \"distplot\", \"distplot\", \"distplot\", \"distplot\", \"distplot\", \"distplot\", \"distplot\", \"distplot\", \"distplot\", \"distplot\", \"distplot\", \"distplot\", \"distplot\", \"distplot\", \"distplot\", \"distplot\", \"distplot\", \"distplot\", \"distplot\", \"distplot\", \"distplot\", \"distplot\", \"distplot\", \"distplot\", \"distplot\", \"distplot\", \"distplot\", \"distplot\", \"distplot\", \"distplot\", \"distplot\", \"distplot\", \"distplot\", \"distplot\", \"distplot\", \"distplot\", \"distplot\", \"distplot\", \"distplot\", \"distplot\", \"distplot\", \"distplot\", \"distplot\", \"distplot\", \"distplot\", \"distplot\", \"distplot\", \"distplot\", \"distplot\", \"distplot\", \"distplot\", \"distplot\", \"distplot\", \"distplot\", \"distplot\", \"distplot\", \"distplot\", \"distplot\", \"distplot\", \"distplot\", \"distplot\", \"distplot\", \"distplot\", \"distplot\", \"distplot\", \"distplot\", \"distplot\", \"distplot\", \"distplot\", \"distplot\", \"distplot\", \"distplot\", \"distplot\", \"distplot\", \"distplot\", \"distplot\", \"distplot\", \"distplot\", \"distplot\", \"distplot\", \"distplot\", \"distplot\", \"distplot\", \"distplot\", \"distplot\", \"distplot\", \"distplot\", \"distplot\", \"distplot\", \"distplot\", \"distplot\", \"distplot\", \"distplot\", \"distplot\", \"distplot\", \"distplot\", \"distplot\", \"distplot\", \"distplot\", \"distplot\", \"distplot\", \"distplot\", \"distplot\", \"distplot\", \"distplot\", \"distplot\", \"distplot\", \"distplot\", \"distplot\", \"distplot\", \"distplot\", \"distplot\", \"distplot\", \"distplot\", \"distplot\", \"distplot\", \"distplot\", \"distplot\", \"distplot\", \"distplot\", \"distplot\", \"distplot\", \"distplot\", \"distplot\", \"distplot\", \"distplot\", \"distplot\", \"distplot\", \"distplot\", \"distplot\", \"distplot\", \"distplot\", \"distplot\", \"distplot\", \"distplot\", \"distplot\", \"distplot\", \"distplot\", \"distplot\", \"distplot\", \"distplot\", \"distplot\", \"distplot\", \"distplot\", \"distplot\", \"distplot\", \"distplot\", \"distplot\", \"distplot\", \"distplot\", \"distplot\", \"distplot\", \"distplot\", \"distplot\", \"distplot\", \"distplot\", \"distplot\", \"distplot\", \"distplot\", \"distplot\", \"distplot\", \"distplot\", \"distplot\", \"distplot\", \"distplot\", \"distplot\", \"distplot\", \"distplot\", \"distplot\", \"distplot\", \"distplot\", \"distplot\", \"distplot\", \"distplot\", \"distplot\", \"distplot\", \"distplot\", \"distplot\", \"distplot\", \"distplot\", \"distplot\", \"distplot\", \"distplot\", \"distplot\", \"distplot\", \"distplot\", \"distplot\", \"distplot\", \"distplot\", \"distplot\", \"distplot\", \"distplot\", \"distplot\", \"distplot\", \"distplot\", \"distplot\", \"distplot\", \"distplot\", \"distplot\", \"distplot\", \"distplot\", \"distplot\", \"distplot\", \"distplot\", \"distplot\", \"distplot\", \"distplot\", \"distplot\", \"distplot\", \"distplot\", \"distplot\", \"distplot\", \"distplot\", \"distplot\", \"distplot\", \"distplot\", \"distplot\", \"distplot\", \"distplot\", \"distplot\", \"distplot\", \"distplot\", \"distplot\", \"distplot\", \"distplot\", \"distplot\", \"distplot\", \"distplot\", \"distplot\", \"distplot\", \"distplot\", \"distplot\", \"distplot\", \"distplot\", \"distplot\", \"distplot\", \"distplot\", \"distplot\", \"distplot\", \"distplot\", \"distplot\", \"distplot\", \"distplot\", \"distplot\", \"distplot\", \"distplot\", \"distplot\", \"distplot\", \"distplot\", \"distplot\", \"distplot\", \"distplot\", \"distplot\", \"distplot\", \"distplot\", \"distplot\", \"distplot\", \"distplot\", \"distplot\", \"distplot\", \"distplot\", \"distplot\", \"distplot\", \"distplot\", \"distplot\", \"distplot\", \"distplot\", \"distplot\", \"distplot\", \"distplot\", \"distplot\", \"distplot\", \"distplot\", \"distplot\", \"distplot\", \"distplot\", \"distplot\", \"distplot\", \"distplot\", \"distplot\", \"distplot\", \"distplot\", \"distplot\", \"distplot\", \"distplot\", \"distplot\", \"distplot\", \"distplot\", \"distplot\", \"distplot\", \"distplot\", \"distplot\", \"distplot\", \"distplot\", \"distplot\", \"distplot\", \"distplot\", \"distplot\", \"distplot\", \"distplot\", \"distplot\", \"distplot\", \"distplot\", \"distplot\", \"distplot\", \"distplot\", \"distplot\", \"distplot\", \"distplot\", \"distplot\", \"distplot\", \"distplot\", \"distplot\", \"distplot\", \"distplot\", \"distplot\", \"distplot\", \"distplot\", \"distplot\", \"distplot\", \"distplot\", \"distplot\", \"distplot\", \"distplot\", \"distplot\", \"distplot\", \"distplot\", \"distplot\", \"distplot\", \"distplot\", \"distplot\", \"distplot\", \"distplot\", \"distplot\", \"distplot\", \"distplot\", \"distplot\", \"distplot\", \"distplot\", \"distplot\", \"distplot\", \"distplot\", \"distplot\", \"distplot\", \"distplot\", \"distplot\", \"distplot\", \"distplot\", \"distplot\", \"distplot\", \"distplot\", \"distplot\", \"distplot\", \"distplot\", \"distplot\", \"distplot\", \"distplot\", \"distplot\", \"distplot\", \"distplot\", \"distplot\", \"distplot\", \"distplot\", \"distplot\", \"distplot\", \"distplot\", \"distplot\", \"distplot\", \"distplot\", \"distplot\", \"distplot\", \"distplot\", \"distplot\", \"distplot\", \"distplot\", \"distplot\", \"distplot\", \"distplot\", \"distplot\", \"distplot\", \"distplot\", \"distplot\", \"distplot\", \"distplot\", \"distplot\", \"distplot\", \"distplot\", \"distplot\", \"distplot\", \"distplot\", \"distplot\", \"distplot\", \"distplot\", \"distplot\", \"distplot\", \"distplot\", \"distplot\", \"distplot\", \"distplot\", \"distplot\", \"distplot\", \"distplot\", \"distplot\", \"distplot\", \"distplot\", \"distplot\", \"distplot\", \"distplot\", \"distplot\", \"distplot\", \"distplot\", \"distplot\", \"distplot\", \"distplot\", \"distplot\", \"distplot\", \"distplot\", \"distplot\", \"distplot\", \"distplot\", \"distplot\", \"distplot\", \"distplot\", \"distplot\", \"distplot\", \"distplot\", \"distplot\", \"distplot\", \"distplot\", \"distplot\", \"distplot\", \"distplot\", \"distplot\", \"distplot\", \"distplot\", \"distplot\", \"distplot\", \"distplot\", \"distplot\", \"distplot\", \"distplot\", \"distplot\", \"distplot\", \"distplot\", \"distplot\", \"distplot\", \"distplot\", \"distplot\", \"distplot\", \"distplot\", \"distplot\", \"distplot\", \"distplot\", \"distplot\", \"distplot\", \"distplot\", \"distplot\", \"distplot\", \"distplot\", \"distplot\", \"distplot\", \"distplot\", \"distplot\", \"distplot\", \"distplot\", \"distplot\", \"distplot\", \"distplot\", \"distplot\", \"distplot\", \"distplot\", \"distplot\", \"distplot\", \"distplot\", \"distplot\", \"distplot\", \"distplot\", \"distplot\", \"distplot\", \"distplot\", \"distplot\", \"distplot\", \"distplot\", \"distplot\", \"distplot\", \"distplot\", \"distplot\", \"distplot\", \"distplot\", \"distplot\", \"distplot\", \"distplot\", \"distplot\", \"distplot\", \"distplot\", \"distplot\", \"distplot\", \"distplot\", \"distplot\", \"distplot\", \"distplot\", \"distplot\", \"distplot\", \"distplot\", \"distplot\", \"distplot\", \"distplot\", \"distplot\", \"distplot\", \"distplot\", \"distplot\", \"distplot\", \"distplot\", \"distplot\", \"distplot\", \"distplot\", \"distplot\", \"distplot\", \"distplot\", \"distplot\", \"distplot\", \"distplot\", \"distplot\", \"distplot\", \"distplot\", \"distplot\", \"distplot\", \"distplot\", \"distplot\", \"distplot\", \"distplot\", \"distplot\", \"distplot\", \"distplot\", \"distplot\", \"distplot\", \"distplot\", \"distplot\", \"distplot\", \"distplot\", \"distplot\", \"distplot\", \"distplot\", \"distplot\", \"distplot\", \"distplot\", \"distplot\", \"distplot\", \"distplot\", \"distplot\", \"distplot\", \"distplot\", \"distplot\", \"distplot\", \"distplot\", \"distplot\", \"distplot\", \"distplot\", \"distplot\", \"distplot\", \"distplot\", \"distplot\", \"distplot\", \"distplot\", \"distplot\", \"distplot\", \"distplot\", \"distplot\", \"distplot\", \"distplot\", \"distplot\", \"distplot\", \"distplot\", \"distplot\", \"distplot\", \"distplot\", \"distplot\", \"distplot\", \"distplot\", \"distplot\", \"distplot\", \"distplot\", \"distplot\", \"distplot\", \"distplot\", \"distplot\", \"distplot\", \"distplot\", \"distplot\", \"distplot\", \"distplot\", \"distplot\", \"distplot\", \"distplot\", \"distplot\", \"distplot\", \"distplot\", \"distplot\", \"distplot\", \"distplot\", \"distplot\", \"distplot\", \"distplot\", \"distplot\", \"distplot\", \"distplot\", \"distplot\", \"distplot\", \"distplot\", \"distplot\", \"distplot\", \"distplot\", \"distplot\", \"distplot\", \"distplot\", \"distplot\", \"distplot\", \"distplot\", \"distplot\", \"distplot\", \"distplot\", \"distplot\", \"distplot\", \"distplot\", \"distplot\", \"distplot\", \"distplot\", \"distplot\", \"distplot\", \"distplot\", \"distplot\", \"distplot\", \"distplot\", \"distplot\", \"distplot\", \"distplot\", \"distplot\", \"distplot\", \"distplot\", \"distplot\", \"distplot\", \"distplot\", \"distplot\", \"distplot\", \"distplot\", \"distplot\", \"distplot\", \"distplot\", \"distplot\", \"distplot\", \"distplot\", \"distplot\", \"distplot\", \"distplot\", \"distplot\", \"distplot\", \"distplot\", \"distplot\", \"distplot\", \"distplot\", \"distplot\", \"distplot\", \"distplot\", \"distplot\", \"distplot\", \"distplot\", \"distplot\", \"distplot\", \"distplot\", \"distplot\", \"distplot\", \"distplot\", \"distplot\", \"distplot\", \"distplot\", \"distplot\", \"distplot\", \"distplot\", \"distplot\", \"distplot\", \"distplot\", \"distplot\", \"distplot\", \"distplot\", \"distplot\", \"distplot\", \"distplot\", \"distplot\", \"distplot\", \"distplot\", \"distplot\", \"distplot\", \"distplot\", \"distplot\", \"distplot\", \"distplot\", \"distplot\", \"distplot\", \"distplot\", \"distplot\", \"distplot\", \"distplot\", \"distplot\", \"distplot\", \"distplot\", \"distplot\", \"distplot\", \"distplot\", \"distplot\", \"distplot\", \"distplot\", \"distplot\", \"distplot\", \"distplot\", \"distplot\", \"distplot\", \"distplot\", \"distplot\", \"distplot\", \"distplot\", \"distplot\", \"distplot\", \"distplot\", \"distplot\", \"distplot\", \"distplot\", \"distplot\", \"distplot\", \"distplot\", \"distplot\", \"distplot\", \"distplot\", \"distplot\", \"distplot\", \"distplot\", \"distplot\", \"distplot\", \"distplot\", \"distplot\", \"distplot\", \"distplot\", \"distplot\", \"distplot\", \"distplot\", \"distplot\", \"distplot\", \"distplot\", \"distplot\", \"distplot\", \"distplot\", \"distplot\", \"distplot\", \"distplot\", \"distplot\", \"distplot\", \"distplot\", \"distplot\", \"distplot\", \"distplot\", \"distplot\", \"distplot\", \"distplot\", \"distplot\", \"distplot\", \"distplot\", \"distplot\", \"distplot\", \"distplot\", \"distplot\", \"distplot\", \"distplot\", \"distplot\", \"distplot\", \"distplot\", \"distplot\", \"distplot\", \"distplot\", \"distplot\", \"distplot\", \"distplot\", \"distplot\", \"distplot\", \"distplot\", \"distplot\", \"distplot\", \"distplot\", \"distplot\", \"distplot\", \"distplot\", \"distplot\", \"distplot\", \"distplot\", \"distplot\", \"distplot\", \"distplot\", \"distplot\", \"distplot\", \"distplot\", \"distplot\", \"distplot\", \"distplot\", \"distplot\", \"distplot\", \"distplot\", \"distplot\", \"distplot\", \"distplot\", \"distplot\", \"distplot\", \"distplot\", \"distplot\", \"distplot\", \"distplot\", \"distplot\", \"distplot\", \"distplot\", \"distplot\", \"distplot\", \"distplot\", \"distplot\", \"distplot\", \"distplot\", \"distplot\", \"distplot\", \"distplot\", \"distplot\", \"distplot\", \"distplot\", \"distplot\", \"distplot\", \"distplot\", \"distplot\", \"distplot\", \"distplot\", \"distplot\", \"distplot\", \"distplot\", \"distplot\", \"distplot\", \"distplot\", \"distplot\", \"distplot\", \"distplot\", \"distplot\", \"distplot\", \"distplot\", \"distplot\", \"distplot\", \"distplot\", \"distplot\", \"distplot\", \"distplot\", \"distplot\", \"distplot\", \"distplot\", \"distplot\", \"distplot\", \"distplot\", \"distplot\", \"distplot\", \"distplot\", \"distplot\", \"distplot\", \"distplot\", \"distplot\", \"distplot\", \"distplot\", \"distplot\", \"distplot\", \"distplot\", \"distplot\", \"distplot\", \"distplot\", \"distplot\", \"distplot\", \"distplot\", \"distplot\", \"distplot\", \"distplot\", \"distplot\", \"distplot\", \"distplot\", \"distplot\", \"distplot\", \"distplot\", \"distplot\", \"distplot\", \"distplot\", \"distplot\", \"distplot\", \"distplot\", \"distplot\", \"distplot\", \"distplot\", \"distplot\", \"distplot\", \"distplot\", \"distplot\", \"distplot\", \"distplot\", \"distplot\", \"distplot\", \"distplot\", \"distplot\", \"distplot\", \"distplot\", \"distplot\", \"distplot\", \"distplot\", \"distplot\", \"distplot\", \"distplot\", \"distplot\", \"distplot\", \"distplot\", \"distplot\", \"distplot\", \"distplot\", \"distplot\", \"distplot\", \"distplot\", \"distplot\", \"distplot\", \"distplot\", \"distplot\", \"distplot\", \"distplot\", \"distplot\", \"distplot\", \"distplot\", \"distplot\", \"distplot\", \"distplot\", \"distplot\", \"distplot\", \"distplot\", \"distplot\", \"distplot\", \"distplot\", \"distplot\", \"distplot\", \"distplot\", \"distplot\", \"distplot\", \"distplot\", \"distplot\", \"distplot\", \"distplot\", \"distplot\", \"distplot\", \"distplot\", \"distplot\", \"distplot\", \"distplot\", \"distplot\", \"distplot\", \"distplot\", \"distplot\", \"distplot\", \"distplot\", \"distplot\", \"distplot\", \"distplot\", \"distplot\", \"distplot\", \"distplot\", \"distplot\", \"distplot\", \"distplot\", \"distplot\", \"distplot\", \"distplot\", \"distplot\", \"distplot\", \"distplot\", \"distplot\", \"distplot\", \"distplot\", \"distplot\", \"distplot\", \"distplot\", \"distplot\", \"distplot\", \"distplot\", \"distplot\", \"distplot\", \"distplot\", \"distplot\", \"distplot\", \"distplot\", \"distplot\", \"distplot\", \"distplot\", \"distplot\", \"distplot\", \"distplot\", \"distplot\", \"distplot\", \"distplot\", \"distplot\", \"distplot\", \"distplot\", \"distplot\", \"distplot\", \"distplot\", \"distplot\", \"distplot\", \"distplot\", \"distplot\", \"distplot\", \"distplot\", \"distplot\", \"distplot\", \"distplot\", \"distplot\", \"distplot\", \"distplot\", \"distplot\", \"distplot\", \"distplot\", \"distplot\", \"distplot\", \"distplot\", \"distplot\", \"distplot\", \"distplot\", \"distplot\", \"distplot\", \"distplot\", \"distplot\", \"distplot\", \"distplot\", \"distplot\", \"distplot\", \"distplot\", \"distplot\", \"distplot\", \"distplot\", \"distplot\", \"distplot\", \"distplot\", \"distplot\", \"distplot\", \"distplot\", \"distplot\", \"distplot\", \"distplot\", \"distplot\", \"distplot\", \"distplot\", \"distplot\", \"distplot\", \"distplot\", \"distplot\", \"distplot\", \"distplot\", \"distplot\", \"distplot\", \"distplot\", \"distplot\", \"distplot\", \"distplot\", \"distplot\", \"distplot\", \"distplot\", \"distplot\", \"distplot\", \"distplot\", \"distplot\", \"distplot\", \"distplot\", \"distplot\", \"distplot\", \"distplot\", \"distplot\", \"distplot\", \"distplot\", \"distplot\", \"distplot\", \"distplot\", \"distplot\", \"distplot\", \"distplot\", \"distplot\", \"distplot\", \"distplot\", \"distplot\", \"distplot\", \"distplot\", \"distplot\", \"distplot\", \"distplot\", \"distplot\", \"distplot\", \"distplot\", \"distplot\", \"distplot\", \"distplot\", \"distplot\", \"distplot\", \"distplot\", \"distplot\", \"distplot\", \"distplot\", \"distplot\", \"distplot\", \"distplot\", \"distplot\", \"distplot\", \"distplot\", \"distplot\", \"distplot\", \"distplot\", \"distplot\", \"distplot\", \"distplot\", \"distplot\", \"distplot\", \"distplot\", \"distplot\", \"distplot\", \"distplot\", \"distplot\", \"distplot\", \"distplot\", \"distplot\", \"distplot\", \"distplot\", \"distplot\", \"distplot\", \"distplot\", \"distplot\", \"distplot\", \"distplot\", \"distplot\", \"distplot\", \"distplot\", \"distplot\", \"distplot\", \"distplot\", \"distplot\", \"distplot\", \"distplot\", \"distplot\", \"distplot\", \"distplot\", \"distplot\", \"distplot\", \"distplot\", \"distplot\", \"distplot\", \"distplot\", \"distplot\", \"distplot\", \"distplot\", \"distplot\", \"distplot\", \"distplot\", \"distplot\", \"distplot\", \"distplot\", \"distplot\", \"distplot\", \"distplot\", \"distplot\", \"distplot\", \"distplot\", \"distplot\", \"distplot\", \"distplot\", \"distplot\", \"distplot\", \"distplot\", \"distplot\", \"distplot\", \"distplot\", \"distplot\", \"distplot\", \"distplot\", \"distplot\", \"distplot\", \"distplot\", \"distplot\", \"distplot\", \"distplot\", \"distplot\", \"distplot\", \"distplot\", \"distplot\", \"distplot\", \"distplot\", \"distplot\", \"distplot\", \"distplot\", \"distplot\", \"distplot\", \"distplot\", \"distplot\", \"distplot\", \"distplot\", \"distplot\", \"distplot\", \"distplot\", \"distplot\", \"distplot\", \"distplot\", \"distplot\", \"distplot\", \"distplot\", \"distplot\", \"distplot\", \"distplot\", \"distplot\", \"distplot\", \"distplot\", \"distplot\", \"distplot\", \"distplot\", \"distplot\", \"distplot\", \"distplot\", \"distplot\", \"distplot\", \"distplot\", \"distplot\", \"distplot\", \"distplot\", \"distplot\", \"distplot\", \"distplot\", \"distplot\", \"distplot\", \"distplot\", \"distplot\", \"distplot\", \"distplot\", \"distplot\", \"distplot\", \"distplot\", \"distplot\", \"distplot\", \"distplot\", \"distplot\", \"distplot\", \"distplot\", \"distplot\", \"distplot\", \"distplot\", \"distplot\", \"distplot\", \"distplot\", \"distplot\", \"distplot\", \"distplot\", \"distplot\", \"distplot\", \"distplot\", \"distplot\", \"distplot\", \"distplot\", \"distplot\", \"distplot\", \"distplot\", \"distplot\", \"distplot\", \"distplot\", \"distplot\", \"distplot\", \"distplot\", \"distplot\", \"distplot\", \"distplot\", \"distplot\", \"distplot\", \"distplot\", \"distplot\", \"distplot\", \"distplot\", \"distplot\", \"distplot\", \"distplot\", \"distplot\", \"distplot\", \"distplot\", \"distplot\", \"distplot\", \"distplot\", \"distplot\", \"distplot\", \"distplot\", \"distplot\", \"distplot\", \"distplot\", \"distplot\", \"distplot\", \"distplot\", \"distplot\", \"distplot\", \"distplot\", \"distplot\", \"distplot\", \"distplot\", \"distplot\", \"distplot\", \"distplot\", \"distplot\", \"distplot\", \"distplot\", \"distplot\", \"distplot\", \"distplot\", \"distplot\", \"distplot\", \"distplot\", \"distplot\", \"distplot\", \"distplot\", \"distplot\", \"distplot\", \"distplot\", \"distplot\", \"distplot\", \"distplot\", \"distplot\", \"distplot\", \"distplot\", \"distplot\", \"distplot\", \"distplot\", \"distplot\", \"distplot\", \"distplot\", \"distplot\", \"distplot\", \"distplot\", \"distplot\", \"distplot\", \"distplot\", \"distplot\", \"distplot\", \"distplot\", \"distplot\", \"distplot\", \"distplot\", \"distplot\", \"distplot\", \"distplot\", \"distplot\", \"distplot\", \"distplot\", \"distplot\", \"distplot\", \"distplot\", \"distplot\", \"distplot\", \"distplot\", \"distplot\", \"distplot\", \"distplot\", \"distplot\", \"distplot\", \"distplot\", \"distplot\", \"distplot\", \"distplot\", \"distplot\", \"distplot\", \"distplot\", \"distplot\", \"distplot\", \"distplot\", \"distplot\", \"distplot\", \"distplot\", \"distplot\", \"distplot\", \"distplot\", \"distplot\", \"distplot\", \"distplot\", \"distplot\", \"distplot\", \"distplot\", \"distplot\", \"distplot\", \"distplot\", \"distplot\", \"distplot\", \"distplot\", \"distplot\", \"distplot\", \"distplot\", \"distplot\", \"distplot\", \"distplot\", \"distplot\", \"distplot\", \"distplot\", \"distplot\", \"distplot\", \"distplot\", \"distplot\", \"distplot\", \"distplot\", \"distplot\", \"distplot\", \"distplot\", \"distplot\", \"distplot\", \"distplot\", \"distplot\", \"distplot\", \"distplot\", \"distplot\", \"distplot\", \"distplot\", \"distplot\", \"distplot\", \"distplot\", \"distplot\", \"distplot\", \"distplot\", \"distplot\", \"distplot\", \"distplot\", \"distplot\", \"distplot\", \"distplot\", \"distplot\", \"distplot\", \"distplot\", \"distplot\", \"distplot\", \"distplot\", \"distplot\", \"distplot\", \"distplot\", \"distplot\", \"distplot\", \"distplot\", \"distplot\", \"distplot\", \"distplot\", \"distplot\", \"distplot\", \"distplot\", \"distplot\", \"distplot\", \"distplot\", \"distplot\", \"distplot\", \"distplot\", \"distplot\", \"distplot\", \"distplot\", \"distplot\", \"distplot\", \"distplot\", \"distplot\", \"distplot\", \"distplot\", \"distplot\", \"distplot\", \"distplot\", \"distplot\", \"distplot\", \"distplot\", \"distplot\", \"distplot\", \"distplot\", \"distplot\", \"distplot\", \"distplot\", \"distplot\", \"distplot\", \"distplot\", \"distplot\", \"distplot\", \"distplot\", \"distplot\", \"distplot\", \"distplot\", \"distplot\", \"distplot\", \"distplot\", \"distplot\", \"distplot\", \"distplot\", \"distplot\", \"distplot\", \"distplot\", \"distplot\", \"distplot\", \"distplot\", \"distplot\", \"distplot\", \"distplot\", \"distplot\", \"distplot\", \"distplot\", \"distplot\", \"distplot\", \"distplot\", \"distplot\", \"distplot\", \"distplot\", \"distplot\", \"distplot\", \"distplot\", \"distplot\", \"distplot\", \"distplot\", \"distplot\", \"distplot\", \"distplot\", \"distplot\", \"distplot\", \"distplot\", \"distplot\", \"distplot\", \"distplot\", \"distplot\", \"distplot\", \"distplot\", \"distplot\", \"distplot\", \"distplot\", \"distplot\", \"distplot\", \"distplot\", \"distplot\", \"distplot\", \"distplot\", \"distplot\", \"distplot\", \"distplot\", \"distplot\", \"distplot\", \"distplot\", \"distplot\", \"distplot\", \"distplot\", \"distplot\", \"distplot\", \"distplot\", \"distplot\", \"distplot\", \"distplot\", \"distplot\", \"distplot\", \"distplot\", \"distplot\", \"distplot\", \"distplot\", \"distplot\", \"distplot\", \"distplot\", \"distplot\", \"distplot\", \"distplot\", \"distplot\", \"distplot\", \"distplot\", \"distplot\", \"distplot\", \"distplot\", \"distplot\", \"distplot\", \"distplot\", \"distplot\", \"distplot\", \"distplot\", \"distplot\", \"distplot\", \"distplot\", \"distplot\", \"distplot\", \"distplot\", \"distplot\", \"distplot\", \"distplot\", \"distplot\", \"distplot\", \"distplot\", \"distplot\", \"distplot\", \"distplot\", \"distplot\", \"distplot\", \"distplot\", \"distplot\", \"distplot\", \"distplot\", \"distplot\", \"distplot\", \"distplot\", \"distplot\", \"distplot\", \"distplot\", \"distplot\", \"distplot\", \"distplot\", \"distplot\", \"distplot\", \"distplot\", \"distplot\", \"distplot\", \"distplot\", \"distplot\", \"distplot\", \"distplot\", \"distplot\", \"distplot\", \"distplot\", \"distplot\", \"distplot\", \"distplot\", \"distplot\", \"distplot\", \"distplot\", \"distplot\", \"distplot\", \"distplot\", \"distplot\", \"distplot\", \"distplot\", \"distplot\", \"distplot\", \"distplot\", \"distplot\", \"distplot\", \"distplot\", \"distplot\", \"distplot\", \"distplot\", \"distplot\", \"distplot\", \"distplot\", \"distplot\", \"distplot\", \"distplot\", \"distplot\", \"distplot\", \"distplot\", \"distplot\", \"distplot\", \"distplot\", \"distplot\", \"distplot\", \"distplot\", \"distplot\", \"distplot\", \"distplot\", \"distplot\", \"distplot\", \"distplot\", \"distplot\", \"distplot\", \"distplot\", \"distplot\", \"distplot\", \"distplot\", \"distplot\", \"distplot\", \"distplot\", \"distplot\", \"distplot\", \"distplot\", \"distplot\", \"distplot\", \"distplot\", \"distplot\", \"distplot\", \"distplot\", \"distplot\", \"distplot\", \"distplot\", \"distplot\", \"distplot\", \"distplot\", \"distplot\", \"distplot\", \"distplot\", \"distplot\", \"distplot\", \"distplot\", \"distplot\", \"distplot\", \"distplot\", \"distplot\", \"distplot\", \"distplot\", \"distplot\", \"distplot\", \"distplot\", \"distplot\", \"distplot\", \"distplot\", \"distplot\", \"distplot\", \"distplot\", \"distplot\", \"distplot\", \"distplot\", \"distplot\", \"distplot\", \"distplot\", \"distplot\", \"distplot\", \"distplot\", \"distplot\", \"distplot\", \"distplot\", \"distplot\", \"distplot\", \"distplot\", \"distplot\", \"distplot\", \"distplot\", \"distplot\", \"distplot\", \"distplot\", \"distplot\", \"distplot\", \"distplot\", \"distplot\", \"distplot\", \"distplot\", \"distplot\", \"distplot\", \"distplot\", \"distplot\", \"distplot\", \"distplot\", \"distplot\", \"distplot\", \"distplot\", \"distplot\", \"distplot\", \"distplot\", \"distplot\", \"distplot\", \"distplot\", \"distplot\", \"distplot\", \"distplot\", \"distplot\", \"distplot\", \"distplot\", \"distplot\", \"distplot\", \"distplot\", \"distplot\", \"distplot\", \"distplot\", \"distplot\", \"distplot\", \"distplot\", \"distplot\", \"distplot\", \"distplot\", \"distplot\", \"distplot\", \"distplot\", \"distplot\", \"distplot\", \"distplot\", \"distplot\", \"distplot\", \"distplot\", \"distplot\", \"distplot\", \"distplot\", \"distplot\", \"distplot\", \"distplot\", \"distplot\", \"distplot\", \"distplot\", \"distplot\", \"distplot\", \"distplot\", \"distplot\", \"distplot\", \"distplot\", \"distplot\", \"distplot\", \"distplot\", \"distplot\", \"distplot\", \"distplot\", \"distplot\", \"distplot\", \"distplot\", \"distplot\", \"distplot\", \"distplot\", \"distplot\", \"distplot\", \"distplot\", \"distplot\", \"distplot\", \"distplot\", \"distplot\", \"distplot\", \"distplot\", \"distplot\", \"distplot\", \"distplot\", \"distplot\", \"distplot\", \"distplot\", \"distplot\", \"distplot\", \"distplot\", \"distplot\", \"distplot\", \"distplot\", \"distplot\", \"distplot\", \"distplot\", \"distplot\", \"distplot\", \"distplot\", \"distplot\", \"distplot\", \"distplot\", \"distplot\", \"distplot\", \"distplot\", \"distplot\", \"distplot\", \"distplot\", \"distplot\", \"distplot\", \"distplot\", \"distplot\", \"distplot\", \"distplot\", \"distplot\", \"distplot\", \"distplot\", \"distplot\", \"distplot\", \"distplot\", \"distplot\", \"distplot\", \"distplot\", \"distplot\", \"distplot\", \"distplot\", \"distplot\", \"distplot\", \"distplot\", \"distplot\", \"distplot\", \"distplot\", \"distplot\", \"distplot\", \"distplot\", \"distplot\", \"distplot\", \"distplot\", \"distplot\", \"distplot\", \"distplot\", \"distplot\", \"distplot\", \"distplot\", \"distplot\", \"distplot\", \"distplot\", \"distplot\", \"distplot\", \"distplot\", \"distplot\", \"distplot\", \"distplot\", \"distplot\", \"distplot\", \"distplot\", \"distplot\", \"distplot\", \"distplot\", \"distplot\", \"distplot\", \"distplot\", \"distplot\", \"distplot\", \"distplot\", \"distplot\", \"distplot\", \"distplot\", \"distplot\", \"distplot\", \"distplot\", \"distplot\", \"distplot\", \"distplot\", \"distplot\", \"distplot\", \"distplot\", \"distplot\", \"distplot\", \"distplot\", \"distplot\", \"distplot\", \"distplot\", \"distplot\", \"distplot\", \"distplot\", \"distplot\", \"distplot\", \"distplot\", \"distplot\", \"distplot\", \"distplot\", \"distplot\", \"distplot\", \"distplot\", \"distplot\", \"distplot\", \"distplot\", \"distplot\", \"distplot\", \"distplot\", \"distplot\", \"distplot\", \"distplot\", \"distplot\", \"distplot\", \"distplot\", \"distplot\", \"distplot\", \"distplot\", \"distplot\", \"distplot\", \"distplot\", \"distplot\", \"distplot\", \"distplot\", \"distplot\", \"distplot\", \"distplot\", \"distplot\", \"distplot\", \"distplot\", \"distplot\", \"distplot\", \"distplot\", \"distplot\", \"distplot\", \"distplot\", \"distplot\", \"distplot\", \"distplot\", \"distplot\", \"distplot\", \"distplot\", \"distplot\", \"distplot\", \"distplot\", \"distplot\", \"distplot\", \"distplot\", \"distplot\", \"distplot\", \"distplot\", \"distplot\", \"distplot\", \"distplot\", \"distplot\", \"distplot\", \"distplot\", \"distplot\", \"distplot\", \"distplot\", \"distplot\", \"distplot\", \"distplot\", \"distplot\", \"distplot\", \"distplot\", \"distplot\", \"distplot\", \"distplot\", \"distplot\", \"distplot\", \"distplot\", \"distplot\", \"distplot\", \"distplot\", \"distplot\", \"distplot\", \"distplot\", \"distplot\", \"distplot\", \"distplot\", \"distplot\", \"distplot\", \"distplot\", \"distplot\", \"distplot\", \"distplot\", \"distplot\", \"distplot\", \"distplot\", \"distplot\", \"distplot\", \"distplot\", \"distplot\", \"distplot\", \"distplot\", \"distplot\", \"distplot\", \"distplot\", \"distplot\", \"distplot\", \"distplot\", \"distplot\", \"distplot\", \"distplot\", \"distplot\", \"distplot\", \"distplot\", \"distplot\", \"distplot\", \"distplot\", \"distplot\", \"distplot\", \"distplot\", \"distplot\", \"distplot\", \"distplot\", \"distplot\", \"distplot\", \"distplot\", \"distplot\", \"distplot\", \"distplot\", \"distplot\", \"distplot\", \"distplot\", \"distplot\", \"distplot\", \"distplot\", \"distplot\", \"distplot\", \"distplot\", \"distplot\", \"distplot\", \"distplot\", \"distplot\", \"distplot\", \"distplot\", \"distplot\", \"distplot\", \"distplot\", \"distplot\", \"distplot\", \"distplot\", \"distplot\", \"distplot\", \"distplot\", \"distplot\", \"distplot\", \"distplot\", \"distplot\", \"distplot\", \"distplot\", \"distplot\", \"distplot\", \"distplot\", \"distplot\", \"distplot\", \"distplot\", \"distplot\", \"distplot\", \"distplot\", \"distplot\", \"distplot\", \"distplot\", \"distplot\", \"distplot\", \"distplot\", \"distplot\", \"distplot\", \"distplot\", \"distplot\", \"distplot\", \"distplot\", \"distplot\", \"distplot\", \"distplot\", \"distplot\", \"distplot\", \"distplot\", \"distplot\", \"distplot\", \"distplot\", \"distplot\", \"distplot\", \"distplot\", \"distplot\", \"distplot\", \"distplot\", \"distplot\", \"distplot\", \"distplot\", \"distplot\", \"distplot\", \"distplot\", \"distplot\", \"distplot\", \"distplot\", \"distplot\", \"distplot\", \"distplot\", \"distplot\", \"distplot\", \"distplot\", \"distplot\", \"distplot\", \"distplot\", \"distplot\", \"distplot\", \"distplot\", \"distplot\", \"distplot\", \"distplot\", \"distplot\", \"distplot\", \"distplot\", \"distplot\", \"distplot\", \"distplot\", \"distplot\", \"distplot\", \"distplot\", \"distplot\", \"distplot\", \"distplot\", \"distplot\", \"distplot\", \"distplot\", \"distplot\", \"distplot\", \"distplot\", \"distplot\", \"distplot\", \"distplot\", \"distplot\", \"distplot\", \"distplot\", \"distplot\", \"distplot\", \"distplot\", \"distplot\", \"distplot\", \"distplot\", \"distplot\", \"distplot\", \"distplot\", \"distplot\", \"distplot\", \"distplot\", \"distplot\", \"distplot\", \"distplot\", \"distplot\", \"distplot\", \"distplot\", \"distplot\", \"distplot\", \"distplot\", \"distplot\", \"distplot\", \"distplot\", \"distplot\", \"distplot\", \"distplot\", \"distplot\", \"distplot\", \"distplot\", \"distplot\", \"distplot\", \"distplot\", \"distplot\", \"distplot\", \"distplot\", \"distplot\", \"distplot\", \"distplot\", \"distplot\", \"distplot\", \"distplot\", \"distplot\", \"distplot\", \"distplot\", \"distplot\", \"distplot\", \"distplot\", \"distplot\", \"distplot\", \"distplot\", \"distplot\", \"distplot\", \"distplot\", \"distplot\", \"distplot\", \"distplot\", \"distplot\", \"distplot\", \"distplot\", \"distplot\", \"distplot\", \"distplot\", \"distplot\", \"distplot\", \"distplot\", \"distplot\", \"distplot\", \"distplot\", \"distplot\", \"distplot\", \"distplot\", \"distplot\", \"distplot\", \"distplot\", \"distplot\", \"distplot\", \"distplot\", \"distplot\", \"distplot\", \"distplot\", \"distplot\", \"distplot\", \"distplot\", \"distplot\", \"distplot\", \"distplot\", \"distplot\", \"distplot\", \"distplot\", \"distplot\", \"distplot\", \"distplot\", \"distplot\", \"distplot\", \"distplot\", \"distplot\", \"distplot\", \"distplot\", \"distplot\", \"distplot\", \"distplot\", \"distplot\", \"distplot\", \"distplot\", \"distplot\", \"distplot\", \"distplot\", \"distplot\", \"distplot\", \"distplot\", \"distplot\", \"distplot\", \"distplot\", \"distplot\", \"distplot\", \"distplot\", \"distplot\"], \"yaxis\": \"y2\"}],\n",
              "                        {\"barmode\": \"overlay\", \"hovermode\": \"closest\", \"legend\": {\"traceorder\": \"reversed\"}, \"template\": {\"data\": {\"bar\": [{\"error_x\": {\"color\": \"#2a3f5f\"}, \"error_y\": {\"color\": \"#2a3f5f\"}, \"marker\": {\"line\": {\"color\": \"#E5ECF6\", \"width\": 0.5}}, \"type\": \"bar\"}], \"barpolar\": [{\"marker\": {\"line\": {\"color\": \"#E5ECF6\", \"width\": 0.5}}, \"type\": \"barpolar\"}], \"carpet\": [{\"aaxis\": {\"endlinecolor\": \"#2a3f5f\", \"gridcolor\": \"white\", \"linecolor\": \"white\", \"minorgridcolor\": \"white\", \"startlinecolor\": \"#2a3f5f\"}, \"baxis\": {\"endlinecolor\": \"#2a3f5f\", \"gridcolor\": \"white\", \"linecolor\": \"white\", \"minorgridcolor\": \"white\", \"startlinecolor\": \"#2a3f5f\"}, \"type\": \"carpet\"}], \"choropleth\": [{\"colorbar\": {\"outlinewidth\": 0, \"ticks\": \"\"}, \"type\": \"choropleth\"}], \"contour\": [{\"colorbar\": {\"outlinewidth\": 0, \"ticks\": \"\"}, \"colorscale\": [[0.0, \"#0d0887\"], [0.1111111111111111, \"#46039f\"], [0.2222222222222222, \"#7201a8\"], [0.3333333333333333, \"#9c179e\"], [0.4444444444444444, \"#bd3786\"], [0.5555555555555556, \"#d8576b\"], [0.6666666666666666, \"#ed7953\"], [0.7777777777777778, \"#fb9f3a\"], [0.8888888888888888, \"#fdca26\"], [1.0, \"#f0f921\"]], \"type\": \"contour\"}], \"contourcarpet\": [{\"colorbar\": {\"outlinewidth\": 0, \"ticks\": \"\"}, \"type\": \"contourcarpet\"}], \"heatmap\": [{\"colorbar\": {\"outlinewidth\": 0, \"ticks\": \"\"}, \"colorscale\": [[0.0, \"#0d0887\"], [0.1111111111111111, \"#46039f\"], [0.2222222222222222, \"#7201a8\"], [0.3333333333333333, \"#9c179e\"], [0.4444444444444444, \"#bd3786\"], [0.5555555555555556, \"#d8576b\"], [0.6666666666666666, \"#ed7953\"], [0.7777777777777778, \"#fb9f3a\"], [0.8888888888888888, \"#fdca26\"], [1.0, \"#f0f921\"]], \"type\": \"heatmap\"}], \"heatmapgl\": [{\"colorbar\": {\"outlinewidth\": 0, \"ticks\": \"\"}, \"colorscale\": [[0.0, \"#0d0887\"], [0.1111111111111111, \"#46039f\"], [0.2222222222222222, \"#7201a8\"], [0.3333333333333333, \"#9c179e\"], [0.4444444444444444, \"#bd3786\"], [0.5555555555555556, \"#d8576b\"], [0.6666666666666666, \"#ed7953\"], [0.7777777777777778, \"#fb9f3a\"], [0.8888888888888888, \"#fdca26\"], [1.0, \"#f0f921\"]], \"type\": \"heatmapgl\"}], \"histogram\": [{\"marker\": {\"colorbar\": {\"outlinewidth\": 0, \"ticks\": \"\"}}, \"type\": \"histogram\"}], \"histogram2d\": [{\"colorbar\": {\"outlinewidth\": 0, \"ticks\": \"\"}, \"colorscale\": [[0.0, \"#0d0887\"], [0.1111111111111111, \"#46039f\"], [0.2222222222222222, \"#7201a8\"], [0.3333333333333333, \"#9c179e\"], [0.4444444444444444, \"#bd3786\"], [0.5555555555555556, \"#d8576b\"], [0.6666666666666666, \"#ed7953\"], [0.7777777777777778, \"#fb9f3a\"], [0.8888888888888888, \"#fdca26\"], [1.0, \"#f0f921\"]], \"type\": \"histogram2d\"}], \"histogram2dcontour\": [{\"colorbar\": {\"outlinewidth\": 0, \"ticks\": \"\"}, \"colorscale\": [[0.0, \"#0d0887\"], [0.1111111111111111, \"#46039f\"], [0.2222222222222222, \"#7201a8\"], [0.3333333333333333, \"#9c179e\"], [0.4444444444444444, \"#bd3786\"], [0.5555555555555556, \"#d8576b\"], [0.6666666666666666, \"#ed7953\"], [0.7777777777777778, \"#fb9f3a\"], [0.8888888888888888, \"#fdca26\"], [1.0, \"#f0f921\"]], \"type\": \"histogram2dcontour\"}], \"mesh3d\": [{\"colorbar\": {\"outlinewidth\": 0, \"ticks\": \"\"}, \"type\": \"mesh3d\"}], \"parcoords\": [{\"line\": {\"colorbar\": {\"outlinewidth\": 0, \"ticks\": \"\"}}, \"type\": \"parcoords\"}], \"pie\": [{\"automargin\": true, \"type\": \"pie\"}], \"scatter\": [{\"marker\": {\"colorbar\": {\"outlinewidth\": 0, \"ticks\": \"\"}}, \"type\": \"scatter\"}], \"scatter3d\": [{\"line\": {\"colorbar\": {\"outlinewidth\": 0, \"ticks\": \"\"}}, \"marker\": {\"colorbar\": {\"outlinewidth\": 0, \"ticks\": \"\"}}, \"type\": \"scatter3d\"}], \"scattercarpet\": [{\"marker\": {\"colorbar\": {\"outlinewidth\": 0, \"ticks\": \"\"}}, \"type\": \"scattercarpet\"}], \"scattergeo\": [{\"marker\": {\"colorbar\": {\"outlinewidth\": 0, \"ticks\": \"\"}}, \"type\": \"scattergeo\"}], \"scattergl\": [{\"marker\": {\"colorbar\": {\"outlinewidth\": 0, \"ticks\": \"\"}}, \"type\": \"scattergl\"}], \"scattermapbox\": [{\"marker\": {\"colorbar\": {\"outlinewidth\": 0, \"ticks\": \"\"}}, \"type\": \"scattermapbox\"}], \"scatterpolar\": [{\"marker\": {\"colorbar\": {\"outlinewidth\": 0, \"ticks\": \"\"}}, \"type\": \"scatterpolar\"}], \"scatterpolargl\": [{\"marker\": {\"colorbar\": {\"outlinewidth\": 0, \"ticks\": \"\"}}, \"type\": \"scatterpolargl\"}], \"scatterternary\": [{\"marker\": {\"colorbar\": {\"outlinewidth\": 0, \"ticks\": \"\"}}, \"type\": \"scatterternary\"}], \"surface\": [{\"colorbar\": {\"outlinewidth\": 0, \"ticks\": \"\"}, \"colorscale\": [[0.0, \"#0d0887\"], [0.1111111111111111, \"#46039f\"], [0.2222222222222222, \"#7201a8\"], [0.3333333333333333, \"#9c179e\"], [0.4444444444444444, \"#bd3786\"], [0.5555555555555556, \"#d8576b\"], [0.6666666666666666, \"#ed7953\"], [0.7777777777777778, \"#fb9f3a\"], [0.8888888888888888, \"#fdca26\"], [1.0, \"#f0f921\"]], \"type\": \"surface\"}], \"table\": [{\"cells\": {\"fill\": {\"color\": \"#EBF0F8\"}, \"line\": {\"color\": \"white\"}}, \"header\": {\"fill\": {\"color\": \"#C8D4E3\"}, \"line\": {\"color\": \"white\"}}, \"type\": \"table\"}]}, \"layout\": {\"annotationdefaults\": {\"arrowcolor\": \"#2a3f5f\", \"arrowhead\": 0, \"arrowwidth\": 1}, \"coloraxis\": {\"colorbar\": {\"outlinewidth\": 0, \"ticks\": \"\"}}, \"colorscale\": {\"diverging\": [[0, \"#8e0152\"], [0.1, \"#c51b7d\"], [0.2, \"#de77ae\"], [0.3, \"#f1b6da\"], [0.4, \"#fde0ef\"], [0.5, \"#f7f7f7\"], [0.6, \"#e6f5d0\"], [0.7, \"#b8e186\"], [0.8, \"#7fbc41\"], [0.9, \"#4d9221\"], [1, \"#276419\"]], \"sequential\": [[0.0, \"#0d0887\"], [0.1111111111111111, \"#46039f\"], [0.2222222222222222, \"#7201a8\"], [0.3333333333333333, \"#9c179e\"], [0.4444444444444444, \"#bd3786\"], [0.5555555555555556, \"#d8576b\"], [0.6666666666666666, \"#ed7953\"], [0.7777777777777778, \"#fb9f3a\"], [0.8888888888888888, \"#fdca26\"], [1.0, \"#f0f921\"]], \"sequentialminus\": [[0.0, \"#0d0887\"], [0.1111111111111111, \"#46039f\"], [0.2222222222222222, \"#7201a8\"], [0.3333333333333333, \"#9c179e\"], [0.4444444444444444, \"#bd3786\"], [0.5555555555555556, \"#d8576b\"], [0.6666666666666666, \"#ed7953\"], [0.7777777777777778, \"#fb9f3a\"], [0.8888888888888888, \"#fdca26\"], [1.0, \"#f0f921\"]]}, \"colorway\": [\"#636efa\", \"#EF553B\", \"#00cc96\", \"#ab63fa\", \"#FFA15A\", \"#19d3f3\", \"#FF6692\", \"#B6E880\", \"#FF97FF\", \"#FECB52\"], \"font\": {\"color\": \"#2a3f5f\"}, \"geo\": {\"bgcolor\": \"white\", \"lakecolor\": \"white\", \"landcolor\": \"#E5ECF6\", \"showlakes\": true, \"showland\": true, \"subunitcolor\": \"white\"}, \"hoverlabel\": {\"align\": \"left\"}, \"hovermode\": \"closest\", \"mapbox\": {\"style\": \"light\"}, \"paper_bgcolor\": \"white\", \"plot_bgcolor\": \"#E5ECF6\", \"polar\": {\"angularaxis\": {\"gridcolor\": \"white\", \"linecolor\": \"white\", \"ticks\": \"\"}, \"bgcolor\": \"#E5ECF6\", \"radialaxis\": {\"gridcolor\": \"white\", \"linecolor\": \"white\", \"ticks\": \"\"}}, \"scene\": {\"xaxis\": {\"backgroundcolor\": \"#E5ECF6\", \"gridcolor\": \"white\", \"gridwidth\": 2, \"linecolor\": \"white\", \"showbackground\": true, \"ticks\": \"\", \"zerolinecolor\": \"white\"}, \"yaxis\": {\"backgroundcolor\": \"#E5ECF6\", \"gridcolor\": \"white\", \"gridwidth\": 2, \"linecolor\": \"white\", \"showbackground\": true, \"ticks\": \"\", \"zerolinecolor\": \"white\"}, \"zaxis\": {\"backgroundcolor\": \"#E5ECF6\", \"gridcolor\": \"white\", \"gridwidth\": 2, \"linecolor\": \"white\", \"showbackground\": true, \"ticks\": \"\", \"zerolinecolor\": \"white\"}}, \"shapedefaults\": {\"line\": {\"color\": \"#2a3f5f\"}}, \"ternary\": {\"aaxis\": {\"gridcolor\": \"white\", \"linecolor\": \"white\", \"ticks\": \"\"}, \"baxis\": {\"gridcolor\": \"white\", \"linecolor\": \"white\", \"ticks\": \"\"}, \"bgcolor\": \"#E5ECF6\", \"caxis\": {\"gridcolor\": \"white\", \"linecolor\": \"white\", \"ticks\": \"\"}}, \"title\": {\"x\": 0.05}, \"xaxis\": {\"automargin\": true, \"gridcolor\": \"white\", \"linecolor\": \"white\", \"ticks\": \"\", \"title\": {\"standoff\": 15}, \"zerolinecolor\": \"white\", \"zerolinewidth\": 2}, \"yaxis\": {\"automargin\": true, \"gridcolor\": \"white\", \"linecolor\": \"white\", \"ticks\": \"\", \"title\": {\"standoff\": 15}, \"zerolinecolor\": \"white\", \"zerolinewidth\": 2}}}, \"xaxis\": {\"anchor\": \"y2\", \"domain\": [0.0, 1.0], \"zeroline\": false}, \"yaxis\": {\"anchor\": \"free\", \"domain\": [0.35, 1], \"position\": 0.0}, \"yaxis2\": {\"anchor\": \"x\", \"domain\": [0, 0.25], \"dtick\": 1, \"showticklabels\": false}},\n",
              "                        {\"responsive\": true}\n",
              "                    ).then(function(){\n",
              "                            \n",
              "var gd = document.getElementById('578d09b5-0553-42d1-9366-45ff77ae23c2');\n",
              "var x = new MutationObserver(function (mutations, observer) {{\n",
              "        var display = window.getComputedStyle(gd).display;\n",
              "        if (!display || display === 'none') {{\n",
              "            console.log([gd, 'removed!']);\n",
              "            Plotly.purge(gd);\n",
              "            observer.disconnect();\n",
              "        }}\n",
              "}});\n",
              "\n",
              "// Listen for the removal of the full notebook cells\n",
              "var notebookContainer = gd.closest('#notebook-container');\n",
              "if (notebookContainer) {{\n",
              "    x.observe(notebookContainer, {childList: true});\n",
              "}}\n",
              "\n",
              "// Listen for the clearing of the current output cell\n",
              "var outputEl = gd.closest('.output');\n",
              "if (outputEl) {{\n",
              "    x.observe(outputEl, {childList: true});\n",
              "}}\n",
              "\n",
              "                        })\n",
              "                };\n",
              "                \n",
              "            </script>\n",
              "        </div>\n",
              "</body>\n",
              "</html>"
            ]
          },
          "metadata": {
            "tags": []
          }
        }
      ]
    },
    {
      "cell_type": "code",
      "metadata": {
        "id": "mWeb9z5p2Qx5",
        "colab_type": "code",
        "colab": {
          "base_uri": "https://localhost:8080/",
          "height": 302
        },
        "outputId": "e9f8013d-c260-4cf0-daf2-c8fdee579932"
      },
      "source": [
        "sns.distplot(df.EngineV)"
      ],
      "execution_count": 108,
      "outputs": [
        {
          "output_type": "execute_result",
          "data": {
            "text/plain": [
              "<matplotlib.axes._subplots.AxesSubplot at 0x7f124e63d908>"
            ]
          },
          "metadata": {
            "tags": []
          },
          "execution_count": 108
        },
        {
          "output_type": "display_data",
          "data": {
            "image/png": "[encoded data removed]",
            "text/plain": [
              "<Figure size 432x288 with 1 Axes>"
            ]
          },
          "metadata": {
            "tags": []
          }
        }
      ]
    },
    {
      "cell_type": "code",
      "metadata": {
        "id": "pxzCVFiB3tcw",
        "colab_type": "code",
        "colab": {}
      },
      "source": [
        "df = df[df.EngineV <6.5]"
      ],
      "execution_count": 109,
      "outputs": []
    },
    {
      "cell_type": "code",
      "metadata": {
        "id": "vXO2LFja4Hgt",
        "colab_type": "code",
        "colab": {
          "base_uri": "https://localhost:8080/",
          "height": 303
        },
        "outputId": "1828b50c-84b4-46c9-8f31-beae76253aba"
      },
      "source": [
        "sns.distplot(df.EngineV)"
      ],
      "execution_count": 110,
      "outputs": [
        {
          "output_type": "execute_result",
          "data": {
            "text/plain": [
              "<matplotlib.axes._subplots.AxesSubplot at 0x7f124c096550>"
            ]
          },
          "metadata": {
            "tags": []
          },
          "execution_count": 110
        },
        {
          "output_type": "display_data",
          "data": {
            "image/png": "[encoded data removed]",
            "text/plain": [
              "<Figure size 432x288 with 1 Axes>"
            ]
          },
          "metadata": {
            "tags": []
          }
        }
      ]
    },
    {
      "cell_type": "code",
      "metadata": {
        "id": "691-qicY4LeN",
        "colab_type": "code",
        "colab": {
          "base_uri": "https://localhost:8080/",
          "height": 302
        },
        "outputId": "4e9324ba-3caa-406b-ad4f-fc862baded8b"
      },
      "source": [
        "sns.distplot(df.Year)"
      ],
      "execution_count": 111,
      "outputs": [
        {
          "output_type": "execute_result",
          "data": {
            "text/plain": [
              "<matplotlib.axes._subplots.AxesSubplot at 0x7f124bf80fd0>"
            ]
          },
          "metadata": {
            "tags": []
          },
          "execution_count": 111
        },
        {
          "output_type": "display_data",
          "data": {
            "image/png": "[encoded data removed]",
            "text/plain": [
              "<Figure size 432x288 with 1 Axes>"
            ]
          },
          "metadata": {
            "tags": []
          }
        }
      ]
    },
    {
      "cell_type": "code",
      "metadata": {
        "id": "k9Eszm1T4V29",
        "colab_type": "code",
        "colab": {}
      },
      "source": [
        "q = df.Year.quantile(0.01)\n",
        "df = df[df.Year > q] "
      ],
      "execution_count": 112,
      "outputs": []
    },
    {
      "cell_type": "code",
      "metadata": {
        "id": "h8zlHqYu4gIs",
        "colab_type": "code",
        "colab": {
          "base_uri": "https://localhost:8080/",
          "height": 302
        },
        "outputId": "26a521eb-31aa-484e-cdb5-27a9bb0c07de"
      },
      "source": [
        "sns.distplot(df['Year'])"
      ],
      "execution_count": 113,
      "outputs": [
        {
          "output_type": "execute_result",
          "data": {
            "text/plain": [
              "<matplotlib.axes._subplots.AxesSubplot at 0x7f124bece6a0>"
            ]
          },
          "metadata": {
            "tags": []
          },
          "execution_count": 113
        },
        {
          "output_type": "display_data",
          "data": {
            "image/png": "[encoded data removed]",
            "text/plain": [
              "<Figure size 432x288 with 1 Axes>"
            ]
          },
          "metadata": {
            "tags": []
          }
        }
      ]
    },
    {
      "cell_type": "code",
      "metadata": {
        "id": "LWZ8OzVt4pCJ",
        "colab_type": "code",
        "colab": {}
      },
      "source": [
        "data_cleaned = df.reset_index(drop=True)"
      ],
      "execution_count": 114,
      "outputs": []
    },
    {
      "cell_type": "code",
      "metadata": {
        "id": "MWZpE_YP5fVA",
        "colab_type": "code",
        "colab": {
          "base_uri": "https://localhost:8080/",
          "height": 373
        },
        "outputId": "ddd20122-9d5c-4767-c53b-64e00190bb5f"
      },
      "source": [
        "data_cleaned.describe(include='all')"
      ],
      "execution_count": 119,
      "outputs": [
        {
          "output_type": "execute_result",
          "data": {
            "text/html": [
              "<div>\n",
              "<style scoped>\n",
              "    .dataframe tbody tr th:only-of-type {\n",
              "        vertical-align: middle;\n",
              "    }\n",
              "\n",
              "    .dataframe tbody tr th {\n",
              "        vertical-align: top;\n",
              "    }\n",
              "\n",
              "    .dataframe thead th {\n",
              "        text-align: right;\n",
              "    }\n",
              "</style>\n",
              "<table border=\"1\" class=\"dataframe\">\n",
              "  <thead>\n",
              "    <tr style=\"text-align: right;\">\n",
              "      <th></th>\n",
              "      <th>Brand</th>\n",
              "      <th>Price</th>\n",
              "      <th>Body</th>\n",
              "      <th>Mileage</th>\n",
              "      <th>EngineV</th>\n",
              "      <th>Engine Type</th>\n",
              "      <th>Registration</th>\n",
              "      <th>Year</th>\n",
              "    </tr>\n",
              "  </thead>\n",
              "  <tbody>\n",
              "    <tr>\n",
              "      <th>count</th>\n",
              "      <td>3867</td>\n",
              "      <td>3867.000000</td>\n",
              "      <td>3867</td>\n",
              "      <td>3867.000000</td>\n",
              "      <td>3867.000000</td>\n",
              "      <td>3867</td>\n",
              "      <td>3867</td>\n",
              "      <td>3867.000000</td>\n",
              "    </tr>\n",
              "    <tr>\n",
              "      <th>unique</th>\n",
              "      <td>7</td>\n",
              "      <td>NaN</td>\n",
              "      <td>6</td>\n",
              "      <td>NaN</td>\n",
              "      <td>NaN</td>\n",
              "      <td>4</td>\n",
              "      <td>2</td>\n",
              "      <td>NaN</td>\n",
              "    </tr>\n",
              "    <tr>\n",
              "      <th>top</th>\n",
              "      <td>Volkswagen</td>\n",
              "      <td>NaN</td>\n",
              "      <td>sedan</td>\n",
              "      <td>NaN</td>\n",
              "      <td>NaN</td>\n",
              "      <td>Diesel</td>\n",
              "      <td>yes</td>\n",
              "      <td>NaN</td>\n",
              "    </tr>\n",
              "    <tr>\n",
              "      <th>freq</th>\n",
              "      <td>848</td>\n",
              "      <td>NaN</td>\n",
              "      <td>1467</td>\n",
              "      <td>NaN</td>\n",
              "      <td>NaN</td>\n",
              "      <td>1807</td>\n",
              "      <td>3505</td>\n",
              "      <td>NaN</td>\n",
              "    </tr>\n",
              "    <tr>\n",
              "      <th>mean</th>\n",
              "      <td>NaN</td>\n",
              "      <td>18194.455679</td>\n",
              "      <td>NaN</td>\n",
              "      <td>160.542539</td>\n",
              "      <td>2.450440</td>\n",
              "      <td>NaN</td>\n",
              "      <td>NaN</td>\n",
              "      <td>2006.709853</td>\n",
              "    </tr>\n",
              "    <tr>\n",
              "      <th>std</th>\n",
              "      <td>NaN</td>\n",
              "      <td>19085.855165</td>\n",
              "      <td>NaN</td>\n",
              "      <td>95.633291</td>\n",
              "      <td>0.949366</td>\n",
              "      <td>NaN</td>\n",
              "      <td>NaN</td>\n",
              "      <td>6.103870</td>\n",
              "    </tr>\n",
              "    <tr>\n",
              "      <th>min</th>\n",
              "      <td>NaN</td>\n",
              "      <td>800.000000</td>\n",
              "      <td>NaN</td>\n",
              "      <td>0.000000</td>\n",
              "      <td>0.600000</td>\n",
              "      <td>NaN</td>\n",
              "      <td>NaN</td>\n",
              "      <td>1988.000000</td>\n",
              "    </tr>\n",
              "    <tr>\n",
              "      <th>25%</th>\n",
              "      <td>NaN</td>\n",
              "      <td>7200.000000</td>\n",
              "      <td>NaN</td>\n",
              "      <td>91.000000</td>\n",
              "      <td>1.800000</td>\n",
              "      <td>NaN</td>\n",
              "      <td>NaN</td>\n",
              "      <td>2003.000000</td>\n",
              "    </tr>\n",
              "    <tr>\n",
              "      <th>50%</th>\n",
              "      <td>NaN</td>\n",
              "      <td>11700.000000</td>\n",
              "      <td>NaN</td>\n",
              "      <td>157.000000</td>\n",
              "      <td>2.200000</td>\n",
              "      <td>NaN</td>\n",
              "      <td>NaN</td>\n",
              "      <td>2008.000000</td>\n",
              "    </tr>\n",
              "    <tr>\n",
              "      <th>75%</th>\n",
              "      <td>NaN</td>\n",
              "      <td>21700.000000</td>\n",
              "      <td>NaN</td>\n",
              "      <td>225.000000</td>\n",
              "      <td>3.000000</td>\n",
              "      <td>NaN</td>\n",
              "      <td>NaN</td>\n",
              "      <td>2012.000000</td>\n",
              "    </tr>\n",
              "    <tr>\n",
              "      <th>max</th>\n",
              "      <td>NaN</td>\n",
              "      <td>129222.000000</td>\n",
              "      <td>NaN</td>\n",
              "      <td>435.000000</td>\n",
              "      <td>6.300000</td>\n",
              "      <td>NaN</td>\n",
              "      <td>NaN</td>\n",
              "      <td>2016.000000</td>\n",
              "    </tr>\n",
              "  </tbody>\n",
              "</table>\n",
              "</div>"
            ],
            "text/plain": [
              "             Brand          Price   Body  ...  Engine Type  Registration         Year\n",
              "count         3867    3867.000000   3867  ...         3867          3867  3867.000000\n",
              "unique           7            NaN      6  ...            4             2          NaN\n",
              "top     Volkswagen            NaN  sedan  ...       Diesel           yes          NaN\n",
              "freq           848            NaN   1467  ...         1807          3505          NaN\n",
              "mean           NaN   18194.455679    NaN  ...          NaN           NaN  2006.709853\n",
              "std            NaN   19085.855165    NaN  ...          NaN           NaN     6.103870\n",
              "min            NaN     800.000000    NaN  ...          NaN           NaN  1988.000000\n",
              "25%            NaN    7200.000000    NaN  ...          NaN           NaN  2003.000000\n",
              "50%            NaN   11700.000000    NaN  ...          NaN           NaN  2008.000000\n",
              "75%            NaN   21700.000000    NaN  ...          NaN           NaN  2012.000000\n",
              "max            NaN  129222.000000    NaN  ...          NaN           NaN  2016.000000\n",
              "\n",
              "[11 rows x 8 columns]"
            ]
          },
          "metadata": {
            "tags": []
          },
          "execution_count": 119
        }
      ]
    },
    {
      "cell_type": "markdown",
      "metadata": {
        "id": "TkPGFnd66Yfr",
        "colab_type": "text"
      },
      "source": [
        "### Sprawdzanie założeń OLS"
      ]
    },
    {
      "cell_type": "code",
      "metadata": {
        "id": "cBXovzmF5gLE",
        "colab_type": "code",
        "colab": {}
      },
      "source": [
        "f, (ax1)"
      ],
      "execution_count": null,
      "outputs": []
    }
  ]
}