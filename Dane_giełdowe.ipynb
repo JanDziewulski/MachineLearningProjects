{
  "nbformat": 4,
  "nbformat_minor": 0,
  "metadata": {
    "colab": {
      "name": "Dane giełdowe.ipynb",
      "provenance": [],
      "collapsed_sections": [],
      "authorship_tag": "ABX9TyOVVImqCQ3ib4YG4UmT6gEQ",
      "include_colab_link": true
    },
    "kernelspec": {
      "name": "python3",
      "display_name": "Python 3"
    }
  },
  "cells": [
    {
      "cell_type": "markdown",
      "metadata": {
        "id": "view-in-github",
        "colab_type": "text"
      },
      "source": [
        "<a href=\"https://colab.research.google.com/github/JanDziewulski/MachineLearningProjects/blob/master/Dane_gie%C5%82dowe.ipynb\" target=\"_parent\"><img src=\"https://colab.research.google.com/assets/colab-badge.svg\" alt=\"Open In Colab\"/></a>"
      ]
    },
    {
      "cell_type": "code",
      "metadata": {
        "id": "KyMCVB1b28-p",
        "colab_type": "code",
        "colab": {
          "base_uri": "https://localhost:8080/",
          "height": 50
        },
        "outputId": "53c04a59-fc48-4e8c-d3b9-9ad2ca791ba1"
      },
      "source": [
        "#Import bibliotek\n",
        "\n",
        "import pandas as pd \n",
        "import numpy as np \n",
        "\n",
        "print(f\"Pandas wersja: {pd.__version__}\")\n",
        "print(f\"Numpy wersja: {np.__version__}\")"
      ],
      "execution_count": 1,
      "outputs": [
        {
          "output_type": "stream",
          "text": [
            "Pandas wersja: 1.0.4\n",
            "Numpy wersja: 1.18.5\n"
          ],
          "name": "stdout"
        }
      ]
    },
    {
      "cell_type": "code",
      "metadata": {
        "id": "s-ic0zRF3PaQ",
        "colab_type": "code",
        "colab": {}
      },
      "source": [
        "#Zaczytywanie danych \n",
        "\n",
        "def fetch_financial_data(company = 'AMZN'):\n",
        "  import pandas_datareader.data as web\n",
        "  return web.DataReader(name = company, data_source='stooq')\n"
      ],
      "execution_count": 2,
      "outputs": []
    },
    {
      "cell_type": "code",
      "metadata": {
        "id": "WPnJ7kIN6mVg",
        "colab_type": "code",
        "colab": {
          "base_uri": "https://localhost:8080/",
          "height": 70
        },
        "outputId": "791a4e7f-853b-480a-f3ac-ddd31ed86399"
      },
      "source": [
        "df = fetch_financial_data()"
      ],
      "execution_count": 3,
      "outputs": [
        {
          "output_type": "stream",
          "text": [
            "/usr/local/lib/python3.6/dist-packages/pandas_datareader/compat/__init__.py:7: FutureWarning: pandas.util.testing is deprecated. Use the functions in the public API at pandas.testing instead.\n",
            "  from pandas.util.testing import assert_frame_equal\n"
          ],
          "name": "stderr"
        }
      ]
    },
    {
      "cell_type": "code",
      "metadata": {
        "id": "UIdT4mCc6rnC",
        "colab_type": "code",
        "colab": {
          "base_uri": "https://localhost:8080/",
          "height": 218
        },
        "outputId": "ffe0f939-1ecf-4fe9-b549-f8fb18453173"
      },
      "source": [
        "df.info()"
      ],
      "execution_count": 4,
      "outputs": [
        {
          "output_type": "stream",
          "text": [
            "<class 'pandas.core.frame.DataFrame'>\n",
            "DatetimeIndex: 1257 entries, 2020-06-16 to 2015-06-19\n",
            "Data columns (total 5 columns):\n",
            " #   Column  Non-Null Count  Dtype  \n",
            "---  ------  --------------  -----  \n",
            " 0   Open    1257 non-null   float64\n",
            " 1   High    1257 non-null   float64\n",
            " 2   Low     1257 non-null   float64\n",
            " 3   Close   1257 non-null   float64\n",
            " 4   Volume  1257 non-null   int64  \n",
            "dtypes: float64(4), int64(1)\n",
            "memory usage: 58.9 KB\n"
          ],
          "name": "stdout"
        }
      ]
    },
    {
      "cell_type": "code",
      "metadata": {
        "id": "ruAy2knq6vAB",
        "colab_type": "code",
        "colab": {
          "base_uri": "https://localhost:8080/",
          "height": 225
        },
        "outputId": "a29d18aa-913d-4754-c444-7d2f8a58bd4a"
      },
      "source": [
        "df.head()"
      ],
      "execution_count": 5,
      "outputs": [
        {
          "output_type": "execute_result",
          "data": {
            "text/html": [
              "<div>\n",
              "<style scoped>\n",
              "    .dataframe tbody tr th:only-of-type {\n",
              "        vertical-align: middle;\n",
              "    }\n",
              "\n",
              "    .dataframe tbody tr th {\n",
              "        vertical-align: top;\n",
              "    }\n",
              "\n",
              "    .dataframe thead th {\n",
              "        text-align: right;\n",
              "    }\n",
              "</style>\n",
              "<table border=\"1\" class=\"dataframe\">\n",
              "  <thead>\n",
              "    <tr style=\"text-align: right;\">\n",
              "      <th></th>\n",
              "      <th>Open</th>\n",
              "      <th>High</th>\n",
              "      <th>Low</th>\n",
              "      <th>Close</th>\n",
              "      <th>Volume</th>\n",
              "    </tr>\n",
              "    <tr>\n",
              "      <th>Date</th>\n",
              "      <th></th>\n",
              "      <th></th>\n",
              "      <th></th>\n",
              "      <th></th>\n",
              "      <th></th>\n",
              "    </tr>\n",
              "  </thead>\n",
              "  <tbody>\n",
              "    <tr>\n",
              "      <th>2020-06-16</th>\n",
              "      <td>2620.00</td>\n",
              "      <td>2620.0000</td>\n",
              "      <td>2576.0000</td>\n",
              "      <td>2615.27</td>\n",
              "      <td>3595649</td>\n",
              "    </tr>\n",
              "    <tr>\n",
              "      <th>2020-06-15</th>\n",
              "      <td>2526.60</td>\n",
              "      <td>2584.0000</td>\n",
              "      <td>2508.0001</td>\n",
              "      <td>2572.68</td>\n",
              "      <td>3873335</td>\n",
              "    </tr>\n",
              "    <tr>\n",
              "      <th>2020-06-12</th>\n",
              "      <td>2601.21</td>\n",
              "      <td>2621.4766</td>\n",
              "      <td>2503.3500</td>\n",
              "      <td>2545.02</td>\n",
              "      <td>5436127</td>\n",
              "    </tr>\n",
              "    <tr>\n",
              "      <th>2020-06-11</th>\n",
              "      <td>2603.50</td>\n",
              "      <td>2671.3800</td>\n",
              "      <td>2536.2300</td>\n",
              "      <td>2557.96</td>\n",
              "      <td>5800107</td>\n",
              "    </tr>\n",
              "    <tr>\n",
              "      <th>2020-06-10</th>\n",
              "      <td>2645.00</td>\n",
              "      <td>2722.3500</td>\n",
              "      <td>2626.2600</td>\n",
              "      <td>2647.45</td>\n",
              "      <td>4946031</td>\n",
              "    </tr>\n",
              "  </tbody>\n",
              "</table>\n",
              "</div>"
            ],
            "text/plain": [
              "               Open       High        Low    Close   Volume\n",
              "Date                                                       \n",
              "2020-06-16  2620.00  2620.0000  2576.0000  2615.27  3595649\n",
              "2020-06-15  2526.60  2584.0000  2508.0001  2572.68  3873335\n",
              "2020-06-12  2601.21  2621.4766  2503.3500  2545.02  5436127\n",
              "2020-06-11  2603.50  2671.3800  2536.2300  2557.96  5800107\n",
              "2020-06-10  2645.00  2722.3500  2626.2600  2647.45  4946031"
            ]
          },
          "metadata": {
            "tags": []
          },
          "execution_count": 5
        }
      ]
    },
    {
      "cell_type": "code",
      "metadata": {
        "id": "ljKuEQah-xAz",
        "colab_type": "code",
        "colab": {
          "base_uri": "https://localhost:8080/",
          "height": 34
        },
        "outputId": "2263a2af-7998-4494-cb25-f79ce22e040d"
      },
      "source": [
        "df.shape"
      ],
      "execution_count": 6,
      "outputs": [
        {
          "output_type": "execute_result",
          "data": {
            "text/plain": [
              "(1257, 5)"
            ]
          },
          "metadata": {
            "tags": []
          },
          "execution_count": 6
        }
      ]
    },
    {
      "cell_type": "code",
      "metadata": {
        "id": "0mfgLO58-6Qg",
        "colab_type": "code",
        "colab": {
          "base_uri": "https://localhost:8080/",
          "height": 225
        },
        "outputId": "22f4353a-6aad-4b51-9e63-08c9cecc0df9"
      },
      "source": [
        "df.tail()"
      ],
      "execution_count": 7,
      "outputs": [
        {
          "output_type": "execute_result",
          "data": {
            "text/html": [
              "<div>\n",
              "<style scoped>\n",
              "    .dataframe tbody tr th:only-of-type {\n",
              "        vertical-align: middle;\n",
              "    }\n",
              "\n",
              "    .dataframe tbody tr th {\n",
              "        vertical-align: top;\n",
              "    }\n",
              "\n",
              "    .dataframe thead th {\n",
              "        text-align: right;\n",
              "    }\n",
              "</style>\n",
              "<table border=\"1\" class=\"dataframe\">\n",
              "  <thead>\n",
              "    <tr style=\"text-align: right;\">\n",
              "      <th></th>\n",
              "      <th>Open</th>\n",
              "      <th>High</th>\n",
              "      <th>Low</th>\n",
              "      <th>Close</th>\n",
              "      <th>Volume</th>\n",
              "    </tr>\n",
              "    <tr>\n",
              "      <th>Date</th>\n",
              "      <th></th>\n",
              "      <th></th>\n",
              "      <th></th>\n",
              "      <th></th>\n",
              "      <th></th>\n",
              "    </tr>\n",
              "  </thead>\n",
              "  <tbody>\n",
              "    <tr>\n",
              "      <th>2015-06-25</th>\n",
              "      <td>438.07</td>\n",
              "      <td>443.47</td>\n",
              "      <td>436.39</td>\n",
              "      <td>440.10</td>\n",
              "      <td>2237400</td>\n",
              "    </tr>\n",
              "    <tr>\n",
              "      <th>2015-06-24</th>\n",
              "      <td>444.97</td>\n",
              "      <td>446.47</td>\n",
              "      <td>440.23</td>\n",
              "      <td>440.84</td>\n",
              "      <td>2620800</td>\n",
              "    </tr>\n",
              "    <tr>\n",
              "      <th>2015-06-23</th>\n",
              "      <td>435.58</td>\n",
              "      <td>447.04</td>\n",
              "      <td>433.69</td>\n",
              "      <td>445.99</td>\n",
              "      <td>3245049</td>\n",
              "    </tr>\n",
              "    <tr>\n",
              "      <th>2015-06-22</th>\n",
              "      <td>437.03</td>\n",
              "      <td>439.24</td>\n",
              "      <td>434.18</td>\n",
              "      <td>436.29</td>\n",
              "      <td>1823500</td>\n",
              "    </tr>\n",
              "    <tr>\n",
              "      <th>2015-06-19</th>\n",
              "      <td>440.26</td>\n",
              "      <td>444.99</td>\n",
              "      <td>433.24</td>\n",
              "      <td>434.92</td>\n",
              "      <td>4495000</td>\n",
              "    </tr>\n",
              "  </tbody>\n",
              "</table>\n",
              "</div>"
            ],
            "text/plain": [
              "              Open    High     Low   Close   Volume\n",
              "Date                                               \n",
              "2015-06-25  438.07  443.47  436.39  440.10  2237400\n",
              "2015-06-24  444.97  446.47  440.23  440.84  2620800\n",
              "2015-06-23  435.58  447.04  433.69  445.99  3245049\n",
              "2015-06-22  437.03  439.24  434.18  436.29  1823500\n",
              "2015-06-19  440.26  444.99  433.24  434.92  4495000"
            ]
          },
          "metadata": {
            "tags": []
          },
          "execution_count": 7
        }
      ]
    },
    {
      "cell_type": "code",
      "metadata": {
        "id": "QvcMbpbl_R_s",
        "colab_type": "code",
        "colab": {
          "base_uri": "https://localhost:8080/",
          "height": 34
        },
        "outputId": "36968d91-1ed9-4a0f-f2f8-0d932a8cb69b"
      },
      "source": [
        "df.columns"
      ],
      "execution_count": 8,
      "outputs": [
        {
          "output_type": "execute_result",
          "data": {
            "text/plain": [
              "Index(['Open', 'High', 'Low', 'Close', 'Volume'], dtype='object')"
            ]
          },
          "metadata": {
            "tags": []
          },
          "execution_count": 8
        }
      ]
    },
    {
      "cell_type": "code",
      "metadata": {
        "id": "C2IZHr23_cPM",
        "colab_type": "code",
        "colab": {}
      },
      "source": [
        "df.columns = [col.lower() for col in df.columns]"
      ],
      "execution_count": 9,
      "outputs": []
    },
    {
      "cell_type": "code",
      "metadata": {
        "id": "1JJ2qhoi_oia",
        "colab_type": "code",
        "colab": {
          "base_uri": "https://localhost:8080/",
          "height": 195
        },
        "outputId": "dc87f687-d206-42d2-d31d-847f7608b3a3"
      },
      "source": [
        "df.describe().T"
      ],
      "execution_count": 11,
      "outputs": [
        {
          "output_type": "execute_result",
          "data": {
            "text/html": [
              "<div>\n",
              "<style scoped>\n",
              "    .dataframe tbody tr th:only-of-type {\n",
              "        vertical-align: middle;\n",
              "    }\n",
              "\n",
              "    .dataframe tbody tr th {\n",
              "        vertical-align: top;\n",
              "    }\n",
              "\n",
              "    .dataframe thead th {\n",
              "        text-align: right;\n",
              "    }\n",
              "</style>\n",
              "<table border=\"1\" class=\"dataframe\">\n",
              "  <thead>\n",
              "    <tr style=\"text-align: right;\">\n",
              "      <th></th>\n",
              "      <th>count</th>\n",
              "      <th>mean</th>\n",
              "      <th>std</th>\n",
              "      <th>min</th>\n",
              "      <th>25%</th>\n",
              "      <th>50%</th>\n",
              "      <th>75%</th>\n",
              "      <th>max</th>\n",
              "    </tr>\n",
              "  </thead>\n",
              "  <tbody>\n",
              "    <tr>\n",
              "      <th>open</th>\n",
              "      <td>1257.0</td>\n",
              "      <td>1.275714e+03</td>\n",
              "      <td>5.547595e+02</td>\n",
              "      <td>434.21</td>\n",
              "      <td>764.550</td>\n",
              "      <td>1173.85</td>\n",
              "      <td>1781.99</td>\n",
              "      <td>2645.00</td>\n",
              "    </tr>\n",
              "    <tr>\n",
              "      <th>high</th>\n",
              "      <td>1257.0</td>\n",
              "      <td>1.288319e+03</td>\n",
              "      <td>5.614266e+02</td>\n",
              "      <td>435.57</td>\n",
              "      <td>769.640</td>\n",
              "      <td>1182.75</td>\n",
              "      <td>1795.57</td>\n",
              "      <td>2722.35</td>\n",
              "    </tr>\n",
              "    <tr>\n",
              "      <th>low</th>\n",
              "      <td>1257.0</td>\n",
              "      <td>1.261642e+03</td>\n",
              "      <td>5.481109e+02</td>\n",
              "      <td>425.57</td>\n",
              "      <td>759.199</td>\n",
              "      <td>1167.50</td>\n",
              "      <td>1761.55</td>\n",
              "      <td>2626.26</td>\n",
              "    </tr>\n",
              "    <tr>\n",
              "      <th>close</th>\n",
              "      <td>1257.0</td>\n",
              "      <td>1.275719e+03</td>\n",
              "      <td>5.551037e+02</td>\n",
              "      <td>429.70</td>\n",
              "      <td>764.630</td>\n",
              "      <td>1176.75</td>\n",
              "      <td>1780.75</td>\n",
              "      <td>2647.45</td>\n",
              "    </tr>\n",
              "    <tr>\n",
              "      <th>volume</th>\n",
              "      <td>1257.0</td>\n",
              "      <td>4.235704e+06</td>\n",
              "      <td>2.209253e+06</td>\n",
              "      <td>881337.00</td>\n",
              "      <td>2779828.000</td>\n",
              "      <td>3677306.00</td>\n",
              "      <td>5026504.00</td>\n",
              "      <td>21909300.00</td>\n",
              "    </tr>\n",
              "  </tbody>\n",
              "</table>\n",
              "</div>"
            ],
            "text/plain": [
              "         count          mean           std  ...         50%         75%          max\n",
              "open    1257.0  1.275714e+03  5.547595e+02  ...     1173.85     1781.99      2645.00\n",
              "high    1257.0  1.288319e+03  5.614266e+02  ...     1182.75     1795.57      2722.35\n",
              "low     1257.0  1.261642e+03  5.481109e+02  ...     1167.50     1761.55      2626.26\n",
              "close   1257.0  1.275719e+03  5.551037e+02  ...     1176.75     1780.75      2647.45\n",
              "volume  1257.0  4.235704e+06  2.209253e+06  ...  3677306.00  5026504.00  21909300.00\n",
              "\n",
              "[5 rows x 8 columns]"
            ]
          },
          "metadata": {
            "tags": []
          },
          "execution_count": 11
        }
      ]
    },
    {
      "cell_type": "code",
      "metadata": {
        "id": "jjjaoTd9LE-Z",
        "colab_type": "code",
        "colab": {
          "base_uri": "https://localhost:8080/",
          "height": 235
        },
        "outputId": "15b1c6d2-420b-4e68-c453-e62d61d4c556"
      },
      "source": [
        "df['open']"
      ],
      "execution_count": 12,
      "outputs": [
        {
          "output_type": "execute_result",
          "data": {
            "text/plain": [
              "Date\n",
              "2020-06-16    2620.00\n",
              "2020-06-15    2526.60\n",
              "2020-06-12    2601.21\n",
              "2020-06-11    2603.50\n",
              "2020-06-10    2645.00\n",
              "               ...   \n",
              "2015-06-25     438.07\n",
              "2015-06-24     444.97\n",
              "2015-06-23     435.58\n",
              "2015-06-22     437.03\n",
              "2015-06-19     440.26\n",
              "Name: open, Length: 1257, dtype: float64"
            ]
          },
          "metadata": {
            "tags": []
          },
          "execution_count": 12
        }
      ]
    },
    {
      "cell_type": "code",
      "metadata": {
        "id": "0p9ApNvxGZNc",
        "colab_type": "code",
        "colab": {
          "base_uri": "https://localhost:8080/",
          "height": 431
        },
        "outputId": "1448f76b-5b64-4986-9684-1d4427bce56d"
      },
      "source": [
        "df[['open','close']]"
      ],
      "execution_count": 16,
      "outputs": [
        {
          "output_type": "execute_result",
          "data": {
            "text/html": [
              "<div>\n",
              "<style scoped>\n",
              "    .dataframe tbody tr th:only-of-type {\n",
              "        vertical-align: middle;\n",
              "    }\n",
              "\n",
              "    .dataframe tbody tr th {\n",
              "        vertical-align: top;\n",
              "    }\n",
              "\n",
              "    .dataframe thead th {\n",
              "        text-align: right;\n",
              "    }\n",
              "</style>\n",
              "<table border=\"1\" class=\"dataframe\">\n",
              "  <thead>\n",
              "    <tr style=\"text-align: right;\">\n",
              "      <th></th>\n",
              "      <th>open</th>\n",
              "      <th>close</th>\n",
              "    </tr>\n",
              "    <tr>\n",
              "      <th>Date</th>\n",
              "      <th></th>\n",
              "      <th></th>\n",
              "    </tr>\n",
              "  </thead>\n",
              "  <tbody>\n",
              "    <tr>\n",
              "      <th>2020-06-16</th>\n",
              "      <td>2620.00</td>\n",
              "      <td>2615.27</td>\n",
              "    </tr>\n",
              "    <tr>\n",
              "      <th>2020-06-15</th>\n",
              "      <td>2526.60</td>\n",
              "      <td>2572.68</td>\n",
              "    </tr>\n",
              "    <tr>\n",
              "      <th>2020-06-12</th>\n",
              "      <td>2601.21</td>\n",
              "      <td>2545.02</td>\n",
              "    </tr>\n",
              "    <tr>\n",
              "      <th>2020-06-11</th>\n",
              "      <td>2603.50</td>\n",
              "      <td>2557.96</td>\n",
              "    </tr>\n",
              "    <tr>\n",
              "      <th>2020-06-10</th>\n",
              "      <td>2645.00</td>\n",
              "      <td>2647.45</td>\n",
              "    </tr>\n",
              "    <tr>\n",
              "      <th>...</th>\n",
              "      <td>...</td>\n",
              "      <td>...</td>\n",
              "    </tr>\n",
              "    <tr>\n",
              "      <th>2015-06-25</th>\n",
              "      <td>438.07</td>\n",
              "      <td>440.10</td>\n",
              "    </tr>\n",
              "    <tr>\n",
              "      <th>2015-06-24</th>\n",
              "      <td>444.97</td>\n",
              "      <td>440.84</td>\n",
              "    </tr>\n",
              "    <tr>\n",
              "      <th>2015-06-23</th>\n",
              "      <td>435.58</td>\n",
              "      <td>445.99</td>\n",
              "    </tr>\n",
              "    <tr>\n",
              "      <th>2015-06-22</th>\n",
              "      <td>437.03</td>\n",
              "      <td>436.29</td>\n",
              "    </tr>\n",
              "    <tr>\n",
              "      <th>2015-06-19</th>\n",
              "      <td>440.26</td>\n",
              "      <td>434.92</td>\n",
              "    </tr>\n",
              "  </tbody>\n",
              "</table>\n",
              "<p>1257 rows × 2 columns</p>\n",
              "</div>"
            ],
            "text/plain": [
              "               open    close\n",
              "Date                        \n",
              "2020-06-16  2620.00  2615.27\n",
              "2020-06-15  2526.60  2572.68\n",
              "2020-06-12  2601.21  2545.02\n",
              "2020-06-11  2603.50  2557.96\n",
              "2020-06-10  2645.00  2647.45\n",
              "...             ...      ...\n",
              "2015-06-25   438.07   440.10\n",
              "2015-06-24   444.97   440.84\n",
              "2015-06-23   435.58   445.99\n",
              "2015-06-22   437.03   436.29\n",
              "2015-06-19   440.26   434.92\n",
              "\n",
              "[1257 rows x 2 columns]"
            ]
          },
          "metadata": {
            "tags": []
          },
          "execution_count": 16
        }
      ]
    },
    {
      "cell_type": "code",
      "metadata": {
        "id": "Nf_xo1HFGaZB",
        "colab_type": "code",
        "colab": {
          "base_uri": "https://localhost:8080/",
          "height": 284
        },
        "outputId": "dd1de696-8ab2-4754-8831-afb54f8aede9"
      },
      "source": [
        "df.loc['2019-12-10':'2019-12-02']"
      ],
      "execution_count": 22,
      "outputs": [
        {
          "output_type": "execute_result",
          "data": {
            "text/html": [
              "<div>\n",
              "<style scoped>\n",
              "    .dataframe tbody tr th:only-of-type {\n",
              "        vertical-align: middle;\n",
              "    }\n",
              "\n",
              "    .dataframe tbody tr th {\n",
              "        vertical-align: top;\n",
              "    }\n",
              "\n",
              "    .dataframe thead th {\n",
              "        text-align: right;\n",
              "    }\n",
              "</style>\n",
              "<table border=\"1\" class=\"dataframe\">\n",
              "  <thead>\n",
              "    <tr style=\"text-align: right;\">\n",
              "      <th></th>\n",
              "      <th>open</th>\n",
              "      <th>high</th>\n",
              "      <th>low</th>\n",
              "      <th>close</th>\n",
              "      <th>volume</th>\n",
              "    </tr>\n",
              "    <tr>\n",
              "      <th>Date</th>\n",
              "      <th></th>\n",
              "      <th></th>\n",
              "      <th></th>\n",
              "      <th></th>\n",
              "      <th></th>\n",
              "    </tr>\n",
              "  </thead>\n",
              "  <tbody>\n",
              "    <tr>\n",
              "      <th>2019-12-10</th>\n",
              "      <td>1747.40</td>\n",
              "      <td>1750.67</td>\n",
              "      <td>1735.00</td>\n",
              "      <td>1739.21</td>\n",
              "      <td>2515644</td>\n",
              "    </tr>\n",
              "    <tr>\n",
              "      <th>2019-12-09</th>\n",
              "      <td>1750.66</td>\n",
              "      <td>1766.89</td>\n",
              "      <td>1745.61</td>\n",
              "      <td>1749.42</td>\n",
              "      <td>2502489</td>\n",
              "    </tr>\n",
              "    <tr>\n",
              "      <th>2019-12-06</th>\n",
              "      <td>1751.20</td>\n",
              "      <td>1754.40</td>\n",
              "      <td>1740.13</td>\n",
              "      <td>1751.60</td>\n",
              "      <td>3119979</td>\n",
              "    </tr>\n",
              "    <tr>\n",
              "      <th>2019-12-05</th>\n",
              "      <td>1763.50</td>\n",
              "      <td>1763.50</td>\n",
              "      <td>1740.00</td>\n",
              "      <td>1740.48</td>\n",
              "      <td>2827852</td>\n",
              "    </tr>\n",
              "    <tr>\n",
              "      <th>2019-12-04</th>\n",
              "      <td>1774.01</td>\n",
              "      <td>1789.09</td>\n",
              "      <td>1760.22</td>\n",
              "      <td>1760.69</td>\n",
              "      <td>2680700</td>\n",
              "    </tr>\n",
              "    <tr>\n",
              "      <th>2019-12-03</th>\n",
              "      <td>1760.00</td>\n",
              "      <td>1772.87</td>\n",
              "      <td>1747.23</td>\n",
              "      <td>1769.96</td>\n",
              "      <td>3529582</td>\n",
              "    </tr>\n",
              "    <tr>\n",
              "      <th>2019-12-02</th>\n",
              "      <td>1804.40</td>\n",
              "      <td>1805.55</td>\n",
              "      <td>1762.68</td>\n",
              "      <td>1781.60</td>\n",
              "      <td>3931750</td>\n",
              "    </tr>\n",
              "  </tbody>\n",
              "</table>\n",
              "</div>"
            ],
            "text/plain": [
              "               open     high      low    close   volume\n",
              "Date                                                   \n",
              "2019-12-10  1747.40  1750.67  1735.00  1739.21  2515644\n",
              "2019-12-09  1750.66  1766.89  1745.61  1749.42  2502489\n",
              "2019-12-06  1751.20  1754.40  1740.13  1751.60  3119979\n",
              "2019-12-05  1763.50  1763.50  1740.00  1740.48  2827852\n",
              "2019-12-04  1774.01  1789.09  1760.22  1760.69  2680700\n",
              "2019-12-03  1760.00  1772.87  1747.23  1769.96  3529582\n",
              "2019-12-02  1804.40  1805.55  1762.68  1781.60  3931750"
            ]
          },
          "metadata": {
            "tags": []
          },
          "execution_count": 22
        }
      ]
    },
    {
      "cell_type": "code",
      "metadata": {
        "id": "RDI2QLI4Gyig",
        "colab_type": "code",
        "colab": {
          "base_uri": "https://localhost:8080/",
          "height": 218
        },
        "outputId": "43a63494-2e2a-49f4-906d-ea715847837f"
      },
      "source": [
        "#Obliczanie nowych kolumn\n",
        "\n",
        "df = fetch_financial_data('UBER')\n",
        "\n",
        "df.info()"
      ],
      "execution_count": 24,
      "outputs": [
        {
          "output_type": "stream",
          "text": [
            "<class 'pandas.core.frame.DataFrame'>\n",
            "DatetimeIndex: 278 entries, 2020-06-16 to 2019-05-10\n",
            "Data columns (total 5 columns):\n",
            " #   Column  Non-Null Count  Dtype  \n",
            "---  ------  --------------  -----  \n",
            " 0   Open    278 non-null    float64\n",
            " 1   High    278 non-null    float64\n",
            " 2   Low     278 non-null    float64\n",
            " 3   Close   278 non-null    float64\n",
            " 4   Volume  278 non-null    int64  \n",
            "dtypes: float64(4), int64(1)\n",
            "memory usage: 13.0 KB\n"
          ],
          "name": "stdout"
        }
      ]
    },
    {
      "cell_type": "code",
      "metadata": {
        "id": "1_TlJl2eIu1H",
        "colab_type": "code",
        "colab": {
          "base_uri": "https://localhost:8080/",
          "height": 225
        },
        "outputId": "21847d09-8f9d-4e87-d71e-f837785dc58a"
      },
      "source": [
        "df.head()"
      ],
      "execution_count": 25,
      "outputs": [
        {
          "output_type": "execute_result",
          "data": {
            "text/html": [
              "<div>\n",
              "<style scoped>\n",
              "    .dataframe tbody tr th:only-of-type {\n",
              "        vertical-align: middle;\n",
              "    }\n",
              "\n",
              "    .dataframe tbody tr th {\n",
              "        vertical-align: top;\n",
              "    }\n",
              "\n",
              "    .dataframe thead th {\n",
              "        text-align: right;\n",
              "    }\n",
              "</style>\n",
              "<table border=\"1\" class=\"dataframe\">\n",
              "  <thead>\n",
              "    <tr style=\"text-align: right;\">\n",
              "      <th></th>\n",
              "      <th>Open</th>\n",
              "      <th>High</th>\n",
              "      <th>Low</th>\n",
              "      <th>Close</th>\n",
              "      <th>Volume</th>\n",
              "    </tr>\n",
              "    <tr>\n",
              "      <th>Date</th>\n",
              "      <th></th>\n",
              "      <th></th>\n",
              "      <th></th>\n",
              "      <th></th>\n",
              "      <th></th>\n",
              "    </tr>\n",
              "  </thead>\n",
              "  <tbody>\n",
              "    <tr>\n",
              "      <th>2020-06-16</th>\n",
              "      <td>34.00</td>\n",
              "      <td>34.170</td>\n",
              "      <td>32.4300</td>\n",
              "      <td>33.49</td>\n",
              "      <td>21377119</td>\n",
              "    </tr>\n",
              "    <tr>\n",
              "      <th>2020-06-15</th>\n",
              "      <td>31.16</td>\n",
              "      <td>32.680</td>\n",
              "      <td>31.0201</td>\n",
              "      <td>32.67</td>\n",
              "      <td>21350290</td>\n",
              "    </tr>\n",
              "    <tr>\n",
              "      <th>2020-06-12</th>\n",
              "      <td>32.73</td>\n",
              "      <td>32.740</td>\n",
              "      <td>31.0400</td>\n",
              "      <td>32.24</td>\n",
              "      <td>27685169</td>\n",
              "    </tr>\n",
              "    <tr>\n",
              "      <th>2020-06-11</th>\n",
              "      <td>32.63</td>\n",
              "      <td>33.245</td>\n",
              "      <td>30.8904</td>\n",
              "      <td>31.10</td>\n",
              "      <td>45298714</td>\n",
              "    </tr>\n",
              "    <tr>\n",
              "      <th>2020-06-10</th>\n",
              "      <td>36.69</td>\n",
              "      <td>36.800</td>\n",
              "      <td>34.2650</td>\n",
              "      <td>34.83</td>\n",
              "      <td>43473719</td>\n",
              "    </tr>\n",
              "  </tbody>\n",
              "</table>\n",
              "</div>"
            ],
            "text/plain": [
              "             Open    High      Low  Close    Volume\n",
              "Date                                               \n",
              "2020-06-16  34.00  34.170  32.4300  33.49  21377119\n",
              "2020-06-15  31.16  32.680  31.0201  32.67  21350290\n",
              "2020-06-12  32.73  32.740  31.0400  32.24  27685169\n",
              "2020-06-11  32.63  33.245  30.8904  31.10  45298714\n",
              "2020-06-10  36.69  36.800  34.2650  34.83  43473719"
            ]
          },
          "metadata": {
            "tags": []
          },
          "execution_count": 25
        }
      ]
    },
    {
      "cell_type": "code",
      "metadata": {
        "id": "4II66RAoI6Ud",
        "colab_type": "code",
        "colab": {
          "base_uri": "https://localhost:8080/",
          "height": 373
        },
        "outputId": "b184530f-5e9e-4861-8376-3c7665100897"
      },
      "source": [
        "df.sample(10)"
      ],
      "execution_count": 26,
      "outputs": [
        {
          "output_type": "execute_result",
          "data": {
            "text/html": [
              "<div>\n",
              "<style scoped>\n",
              "    .dataframe tbody tr th:only-of-type {\n",
              "        vertical-align: middle;\n",
              "    }\n",
              "\n",
              "    .dataframe tbody tr th {\n",
              "        vertical-align: top;\n",
              "    }\n",
              "\n",
              "    .dataframe thead th {\n",
              "        text-align: right;\n",
              "    }\n",
              "</style>\n",
              "<table border=\"1\" class=\"dataframe\">\n",
              "  <thead>\n",
              "    <tr style=\"text-align: right;\">\n",
              "      <th></th>\n",
              "      <th>Open</th>\n",
              "      <th>High</th>\n",
              "      <th>Low</th>\n",
              "      <th>Close</th>\n",
              "      <th>Volume</th>\n",
              "    </tr>\n",
              "    <tr>\n",
              "      <th>Date</th>\n",
              "      <th></th>\n",
              "      <th></th>\n",
              "      <th></th>\n",
              "      <th></th>\n",
              "      <th></th>\n",
              "    </tr>\n",
              "  </thead>\n",
              "  <tbody>\n",
              "    <tr>\n",
              "      <th>2019-10-30</th>\n",
              "      <td>32.51</td>\n",
              "      <td>33.80</td>\n",
              "      <td>32.1100</td>\n",
              "      <td>33.75</td>\n",
              "      <td>10861056</td>\n",
              "    </tr>\n",
              "    <tr>\n",
              "      <th>2020-03-20</th>\n",
              "      <td>22.53</td>\n",
              "      <td>23.89</td>\n",
              "      <td>20.6100</td>\n",
              "      <td>21.33</td>\n",
              "      <td>76529684</td>\n",
              "    </tr>\n",
              "    <tr>\n",
              "      <th>2019-05-29</th>\n",
              "      <td>40.52</td>\n",
              "      <td>40.71</td>\n",
              "      <td>39.1473</td>\n",
              "      <td>39.94</td>\n",
              "      <td>14060447</td>\n",
              "    </tr>\n",
              "    <tr>\n",
              "      <th>2020-02-27</th>\n",
              "      <td>32.03</td>\n",
              "      <td>34.16</td>\n",
              "      <td>30.6700</td>\n",
              "      <td>32.45</td>\n",
              "      <td>66557245</td>\n",
              "    </tr>\n",
              "    <tr>\n",
              "      <th>2020-05-01</th>\n",
              "      <td>29.13</td>\n",
              "      <td>29.72</td>\n",
              "      <td>28.3250</td>\n",
              "      <td>28.39</td>\n",
              "      <td>19290192</td>\n",
              "    </tr>\n",
              "    <tr>\n",
              "      <th>2020-04-07</th>\n",
              "      <td>27.95</td>\n",
              "      <td>28.11</td>\n",
              "      <td>25.5000</td>\n",
              "      <td>25.74</td>\n",
              "      <td>36433762</td>\n",
              "    </tr>\n",
              "    <tr>\n",
              "      <th>2019-09-03</th>\n",
              "      <td>32.10</td>\n",
              "      <td>32.53</td>\n",
              "      <td>30.6650</td>\n",
              "      <td>30.70</td>\n",
              "      <td>12194312</td>\n",
              "    </tr>\n",
              "    <tr>\n",
              "      <th>2019-06-05</th>\n",
              "      <td>42.87</td>\n",
              "      <td>45.66</td>\n",
              "      <td>42.5000</td>\n",
              "      <td>45.00</td>\n",
              "      <td>28609604</td>\n",
              "    </tr>\n",
              "    <tr>\n",
              "      <th>2019-08-27</th>\n",
              "      <td>33.69</td>\n",
              "      <td>34.24</td>\n",
              "      <td>32.9800</td>\n",
              "      <td>33.11</td>\n",
              "      <td>6596129</td>\n",
              "    </tr>\n",
              "    <tr>\n",
              "      <th>2020-01-21</th>\n",
              "      <td>35.50</td>\n",
              "      <td>37.80</td>\n",
              "      <td>35.4100</td>\n",
              "      <td>37.60</td>\n",
              "      <td>48746661</td>\n",
              "    </tr>\n",
              "  </tbody>\n",
              "</table>\n",
              "</div>"
            ],
            "text/plain": [
              "             Open   High      Low  Close    Volume\n",
              "Date                                              \n",
              "2019-10-30  32.51  33.80  32.1100  33.75  10861056\n",
              "2020-03-20  22.53  23.89  20.6100  21.33  76529684\n",
              "2019-05-29  40.52  40.71  39.1473  39.94  14060447\n",
              "2020-02-27  32.03  34.16  30.6700  32.45  66557245\n",
              "2020-05-01  29.13  29.72  28.3250  28.39  19290192\n",
              "2020-04-07  27.95  28.11  25.5000  25.74  36433762\n",
              "2019-09-03  32.10  32.53  30.6650  30.70  12194312\n",
              "2019-06-05  42.87  45.66  42.5000  45.00  28609604\n",
              "2019-08-27  33.69  34.24  32.9800  33.11   6596129\n",
              "2020-01-21  35.50  37.80  35.4100  37.60  48746661"
            ]
          },
          "metadata": {
            "tags": []
          },
          "execution_count": 26
        }
      ]
    },
    {
      "cell_type": "code",
      "metadata": {
        "id": "__wqJoPtI8pt",
        "colab_type": "code",
        "colab": {
          "base_uri": "https://localhost:8080/",
          "height": 284
        },
        "outputId": "5a8d7281-dfb5-4c21-faf4-6cedcdf51af4"
      },
      "source": [
        "df.describe()"
      ],
      "execution_count": 33,
      "outputs": [
        {
          "output_type": "execute_result",
          "data": {
            "text/html": [
              "<div>\n",
              "<style scoped>\n",
              "    .dataframe tbody tr th:only-of-type {\n",
              "        vertical-align: middle;\n",
              "    }\n",
              "\n",
              "    .dataframe tbody tr th {\n",
              "        vertical-align: top;\n",
              "    }\n",
              "\n",
              "    .dataframe thead th {\n",
              "        text-align: right;\n",
              "    }\n",
              "</style>\n",
              "<table border=\"1\" class=\"dataframe\">\n",
              "  <thead>\n",
              "    <tr style=\"text-align: right;\">\n",
              "      <th></th>\n",
              "      <th>Open</th>\n",
              "      <th>High</th>\n",
              "      <th>Low</th>\n",
              "      <th>Close</th>\n",
              "      <th>Volume</th>\n",
              "    </tr>\n",
              "  </thead>\n",
              "  <tbody>\n",
              "    <tr>\n",
              "      <th>count</th>\n",
              "      <td>278.000000</td>\n",
              "      <td>278.000000</td>\n",
              "      <td>278.000000</td>\n",
              "      <td>278.000000</td>\n",
              "      <td>2.780000e+02</td>\n",
              "    </tr>\n",
              "    <tr>\n",
              "      <th>mean</th>\n",
              "      <td>34.143340</td>\n",
              "      <td>34.849587</td>\n",
              "      <td>33.308620</td>\n",
              "      <td>34.101691</td>\n",
              "      <td>2.577885e+07</td>\n",
              "    </tr>\n",
              "    <tr>\n",
              "      <th>std</th>\n",
              "      <td>6.152938</td>\n",
              "      <td>6.069302</td>\n",
              "      <td>6.180995</td>\n",
              "      <td>6.084742</td>\n",
              "      <td>2.169884e+07</td>\n",
              "    </tr>\n",
              "    <tr>\n",
              "      <th>min</th>\n",
              "      <td>15.960000</td>\n",
              "      <td>17.800000</td>\n",
              "      <td>13.710000</td>\n",
              "      <td>14.820000</td>\n",
              "      <td>3.380003e+06</td>\n",
              "    </tr>\n",
              "    <tr>\n",
              "      <th>25%</th>\n",
              "      <td>29.475000</td>\n",
              "      <td>30.132500</td>\n",
              "      <td>28.910000</td>\n",
              "      <td>29.570000</td>\n",
              "      <td>9.360834e+06</td>\n",
              "    </tr>\n",
              "    <tr>\n",
              "      <th>50%</th>\n",
              "      <td>33.305000</td>\n",
              "      <td>34.120000</td>\n",
              "      <td>32.445000</td>\n",
              "      <td>33.220000</td>\n",
              "      <td>2.138191e+07</td>\n",
              "    </tr>\n",
              "    <tr>\n",
              "      <th>75%</th>\n",
              "      <td>39.460000</td>\n",
              "      <td>40.200000</td>\n",
              "      <td>38.414375</td>\n",
              "      <td>39.690000</td>\n",
              "      <td>3.445374e+07</td>\n",
              "    </tr>\n",
              "    <tr>\n",
              "      <th>max</th>\n",
              "      <td>46.980000</td>\n",
              "      <td>47.080000</td>\n",
              "      <td>45.080000</td>\n",
              "      <td>46.380000</td>\n",
              "      <td>1.863225e+08</td>\n",
              "    </tr>\n",
              "  </tbody>\n",
              "</table>\n",
              "</div>"
            ],
            "text/plain": [
              "             Open        High         Low       Close        Volume\n",
              "count  278.000000  278.000000  278.000000  278.000000  2.780000e+02\n",
              "mean    34.143340   34.849587   33.308620   34.101691  2.577885e+07\n",
              "std      6.152938    6.069302    6.180995    6.084742  2.169884e+07\n",
              "min     15.960000   17.800000   13.710000   14.820000  3.380003e+06\n",
              "25%     29.475000   30.132500   28.910000   29.570000  9.360834e+06\n",
              "50%     33.305000   34.120000   32.445000   33.220000  2.138191e+07\n",
              "75%     39.460000   40.200000   38.414375   39.690000  3.445374e+07\n",
              "max     46.980000   47.080000   45.080000   46.380000  1.863225e+08"
            ]
          },
          "metadata": {
            "tags": []
          },
          "execution_count": 33
        }
      ]
    },
    {
      "cell_type": "code",
      "metadata": {
        "id": "_UXhxAu2JEr0",
        "colab_type": "code",
        "colab": {
          "base_uri": "https://localhost:8080/",
          "height": 166
        },
        "outputId": "2cc42571-541e-4bcd-c03c-6f9897da3b7b"
      },
      "source": [
        "df.head(3)"
      ],
      "execution_count": 34,
      "outputs": [
        {
          "output_type": "execute_result",
          "data": {
            "text/html": [
              "<div>\n",
              "<style scoped>\n",
              "    .dataframe tbody tr th:only-of-type {\n",
              "        vertical-align: middle;\n",
              "    }\n",
              "\n",
              "    .dataframe tbody tr th {\n",
              "        vertical-align: top;\n",
              "    }\n",
              "\n",
              "    .dataframe thead th {\n",
              "        text-align: right;\n",
              "    }\n",
              "</style>\n",
              "<table border=\"1\" class=\"dataframe\">\n",
              "  <thead>\n",
              "    <tr style=\"text-align: right;\">\n",
              "      <th></th>\n",
              "      <th>Open</th>\n",
              "      <th>High</th>\n",
              "      <th>Low</th>\n",
              "      <th>Close</th>\n",
              "      <th>Volume</th>\n",
              "    </tr>\n",
              "    <tr>\n",
              "      <th>Date</th>\n",
              "      <th></th>\n",
              "      <th></th>\n",
              "      <th></th>\n",
              "      <th></th>\n",
              "      <th></th>\n",
              "    </tr>\n",
              "  </thead>\n",
              "  <tbody>\n",
              "    <tr>\n",
              "      <th>2020-06-16</th>\n",
              "      <td>34.00</td>\n",
              "      <td>34.17</td>\n",
              "      <td>32.4300</td>\n",
              "      <td>33.49</td>\n",
              "      <td>21377119</td>\n",
              "    </tr>\n",
              "    <tr>\n",
              "      <th>2020-06-15</th>\n",
              "      <td>31.16</td>\n",
              "      <td>32.68</td>\n",
              "      <td>31.0201</td>\n",
              "      <td>32.67</td>\n",
              "      <td>21350290</td>\n",
              "    </tr>\n",
              "    <tr>\n",
              "      <th>2020-06-12</th>\n",
              "      <td>32.73</td>\n",
              "      <td>32.74</td>\n",
              "      <td>31.0400</td>\n",
              "      <td>32.24</td>\n",
              "      <td>27685169</td>\n",
              "    </tr>\n",
              "  </tbody>\n",
              "</table>\n",
              "</div>"
            ],
            "text/plain": [
              "             Open   High      Low  Close    Volume\n",
              "Date                                              \n",
              "2020-06-16  34.00  34.17  32.4300  33.49  21377119\n",
              "2020-06-15  31.16  32.68  31.0201  32.67  21350290\n",
              "2020-06-12  32.73  32.74  31.0400  32.24  27685169"
            ]
          },
          "metadata": {
            "tags": []
          },
          "execution_count": 34
        }
      ]
    },
    {
      "cell_type": "code",
      "metadata": {
        "id": "X2vOIX1OJqnu",
        "colab_type": "code",
        "colab": {}
      },
      "source": [
        "df['AVG'] = (df['Open'] + df['Close'])/2"
      ],
      "execution_count": 39,
      "outputs": []
    },
    {
      "cell_type": "code",
      "metadata": {
        "id": "u0FZLFPVJ34l",
        "colab_type": "code",
        "colab": {}
      },
      "source": [
        "df = df.sort_index()"
      ],
      "execution_count": 43,
      "outputs": []
    },
    {
      "cell_type": "code",
      "metadata": {
        "id": "5Y5e_IIIJ9I1",
        "colab_type": "code",
        "colab": {}
      },
      "source": [
        "df['Close_shift'] = df[['Close']].shift(1)"
      ],
      "execution_count": 45,
      "outputs": []
    },
    {
      "cell_type": "code",
      "metadata": {
        "id": "HZ3UOXKLK6ki",
        "colab_type": "code",
        "colab": {
          "base_uri": "https://localhost:8080/",
          "height": 431
        },
        "outputId": "a903a578-6ac8-4eb4-e710-62c6c4aae313"
      },
      "source": [
        "df"
      ],
      "execution_count": 46,
      "outputs": [
        {
          "output_type": "execute_result",
          "data": {
            "text/html": [
              "<div>\n",
              "<style scoped>\n",
              "    .dataframe tbody tr th:only-of-type {\n",
              "        vertical-align: middle;\n",
              "    }\n",
              "\n",
              "    .dataframe tbody tr th {\n",
              "        vertical-align: top;\n",
              "    }\n",
              "\n",
              "    .dataframe thead th {\n",
              "        text-align: right;\n",
              "    }\n",
              "</style>\n",
              "<table border=\"1\" class=\"dataframe\">\n",
              "  <thead>\n",
              "    <tr style=\"text-align: right;\">\n",
              "      <th></th>\n",
              "      <th>Open</th>\n",
              "      <th>High</th>\n",
              "      <th>Low</th>\n",
              "      <th>Close</th>\n",
              "      <th>Volume</th>\n",
              "      <th>nowa</th>\n",
              "      <th>AVG</th>\n",
              "      <th>Close_shift</th>\n",
              "    </tr>\n",
              "    <tr>\n",
              "      <th>Date</th>\n",
              "      <th></th>\n",
              "      <th></th>\n",
              "      <th></th>\n",
              "      <th></th>\n",
              "      <th></th>\n",
              "      <th></th>\n",
              "      <th></th>\n",
              "      <th></th>\n",
              "    </tr>\n",
              "  </thead>\n",
              "  <tbody>\n",
              "    <tr>\n",
              "      <th>2019-05-10</th>\n",
              "      <td>42.00</td>\n",
              "      <td>45.000</td>\n",
              "      <td>41.0600</td>\n",
              "      <td>41.57</td>\n",
              "      <td>186322536</td>\n",
              "      <td>41.785</td>\n",
              "      <td>41.785</td>\n",
              "      <td>NaN</td>\n",
              "    </tr>\n",
              "    <tr>\n",
              "      <th>2019-05-13</th>\n",
              "      <td>38.79</td>\n",
              "      <td>39.240</td>\n",
              "      <td>36.0800</td>\n",
              "      <td>37.10</td>\n",
              "      <td>79442420</td>\n",
              "      <td>37.945</td>\n",
              "      <td>37.945</td>\n",
              "      <td>41.57</td>\n",
              "    </tr>\n",
              "    <tr>\n",
              "      <th>2019-05-14</th>\n",
              "      <td>38.31</td>\n",
              "      <td>39.960</td>\n",
              "      <td>36.8500</td>\n",
              "      <td>39.96</td>\n",
              "      <td>46661147</td>\n",
              "      <td>39.135</td>\n",
              "      <td>39.135</td>\n",
              "      <td>37.10</td>\n",
              "    </tr>\n",
              "    <tr>\n",
              "      <th>2019-05-15</th>\n",
              "      <td>39.37</td>\n",
              "      <td>41.880</td>\n",
              "      <td>38.9500</td>\n",
              "      <td>41.29</td>\n",
              "      <td>36086065</td>\n",
              "      <td>40.330</td>\n",
              "      <td>40.330</td>\n",
              "      <td>39.96</td>\n",
              "    </tr>\n",
              "    <tr>\n",
              "      <th>2019-05-16</th>\n",
              "      <td>41.48</td>\n",
              "      <td>44.060</td>\n",
              "      <td>41.2500</td>\n",
              "      <td>43.00</td>\n",
              "      <td>38115524</td>\n",
              "      <td>42.240</td>\n",
              "      <td>42.240</td>\n",
              "      <td>41.29</td>\n",
              "    </tr>\n",
              "    <tr>\n",
              "      <th>...</th>\n",
              "      <td>...</td>\n",
              "      <td>...</td>\n",
              "      <td>...</td>\n",
              "      <td>...</td>\n",
              "      <td>...</td>\n",
              "      <td>...</td>\n",
              "      <td>...</td>\n",
              "      <td>...</td>\n",
              "    </tr>\n",
              "    <tr>\n",
              "      <th>2020-06-10</th>\n",
              "      <td>36.69</td>\n",
              "      <td>36.800</td>\n",
              "      <td>34.2650</td>\n",
              "      <td>34.83</td>\n",
              "      <td>43473719</td>\n",
              "      <td>35.760</td>\n",
              "      <td>35.760</td>\n",
              "      <td>36.59</td>\n",
              "    </tr>\n",
              "    <tr>\n",
              "      <th>2020-06-11</th>\n",
              "      <td>32.63</td>\n",
              "      <td>33.245</td>\n",
              "      <td>30.8904</td>\n",
              "      <td>31.10</td>\n",
              "      <td>45298714</td>\n",
              "      <td>31.865</td>\n",
              "      <td>31.865</td>\n",
              "      <td>34.83</td>\n",
              "    </tr>\n",
              "    <tr>\n",
              "      <th>2020-06-12</th>\n",
              "      <td>32.73</td>\n",
              "      <td>32.740</td>\n",
              "      <td>31.0400</td>\n",
              "      <td>32.24</td>\n",
              "      <td>27685169</td>\n",
              "      <td>32.485</td>\n",
              "      <td>32.485</td>\n",
              "      <td>31.10</td>\n",
              "    </tr>\n",
              "    <tr>\n",
              "      <th>2020-06-15</th>\n",
              "      <td>31.16</td>\n",
              "      <td>32.680</td>\n",
              "      <td>31.0201</td>\n",
              "      <td>32.67</td>\n",
              "      <td>21350290</td>\n",
              "      <td>31.915</td>\n",
              "      <td>31.915</td>\n",
              "      <td>32.24</td>\n",
              "    </tr>\n",
              "    <tr>\n",
              "      <th>2020-06-16</th>\n",
              "      <td>34.00</td>\n",
              "      <td>34.170</td>\n",
              "      <td>32.4300</td>\n",
              "      <td>33.49</td>\n",
              "      <td>21377119</td>\n",
              "      <td>33.745</td>\n",
              "      <td>33.745</td>\n",
              "      <td>32.67</td>\n",
              "    </tr>\n",
              "  </tbody>\n",
              "</table>\n",
              "<p>278 rows × 8 columns</p>\n",
              "</div>"
            ],
            "text/plain": [
              "             Open    High      Low  ...    nowa     AVG  Close_shift\n",
              "Date                                ...                             \n",
              "2019-05-10  42.00  45.000  41.0600  ...  41.785  41.785          NaN\n",
              "2019-05-13  38.79  39.240  36.0800  ...  37.945  37.945        41.57\n",
              "2019-05-14  38.31  39.960  36.8500  ...  39.135  39.135        37.10\n",
              "2019-05-15  39.37  41.880  38.9500  ...  40.330  40.330        39.96\n",
              "2019-05-16  41.48  44.060  41.2500  ...  42.240  42.240        41.29\n",
              "...           ...     ...      ...  ...     ...     ...          ...\n",
              "2020-06-10  36.69  36.800  34.2650  ...  35.760  35.760        36.59\n",
              "2020-06-11  32.63  33.245  30.8904  ...  31.865  31.865        34.83\n",
              "2020-06-12  32.73  32.740  31.0400  ...  32.485  32.485        31.10\n",
              "2020-06-15  31.16  32.680  31.0201  ...  31.915  31.915        32.24\n",
              "2020-06-16  34.00  34.170  32.4300  ...  33.745  33.745        32.67\n",
              "\n",
              "[278 rows x 8 columns]"
            ]
          },
          "metadata": {
            "tags": []
          },
          "execution_count": 46
        }
      ]
    },
    {
      "cell_type": "code",
      "metadata": {
        "id": "Qo1EVFZPLNcS",
        "colab_type": "code",
        "colab": {}
      },
      "source": [
        "df['Daily_change'] = df.Close / df.Close_shift  - 1 "
      ],
      "execution_count": 76,
      "outputs": []
    },
    {
      "cell_type": "code",
      "metadata": {
        "id": "8wVf12lqLoEq",
        "colab_type": "code",
        "colab": {
          "base_uri": "https://localhost:8080/",
          "height": 431
        },
        "outputId": "457b1dfb-d0e2-4ef8-f84d-2c0a7d5d7753"
      },
      "source": [
        "df"
      ],
      "execution_count": 77,
      "outputs": [
        {
          "output_type": "execute_result",
          "data": {
            "text/html": [
              "<div>\n",
              "<style scoped>\n",
              "    .dataframe tbody tr th:only-of-type {\n",
              "        vertical-align: middle;\n",
              "    }\n",
              "\n",
              "    .dataframe tbody tr th {\n",
              "        vertical-align: top;\n",
              "    }\n",
              "\n",
              "    .dataframe thead th {\n",
              "        text-align: right;\n",
              "    }\n",
              "</style>\n",
              "<table border=\"1\" class=\"dataframe\">\n",
              "  <thead>\n",
              "    <tr style=\"text-align: right;\">\n",
              "      <th></th>\n",
              "      <th>Open</th>\n",
              "      <th>High</th>\n",
              "      <th>Low</th>\n",
              "      <th>Close</th>\n",
              "      <th>Volume</th>\n",
              "      <th>nowa</th>\n",
              "      <th>AVG</th>\n",
              "      <th>Close_shift</th>\n",
              "      <th>Daily_change</th>\n",
              "      <th>Daily_change_%</th>\n",
              "    </tr>\n",
              "    <tr>\n",
              "      <th>Date</th>\n",
              "      <th></th>\n",
              "      <th></th>\n",
              "      <th></th>\n",
              "      <th></th>\n",
              "      <th></th>\n",
              "      <th></th>\n",
              "      <th></th>\n",
              "      <th></th>\n",
              "      <th></th>\n",
              "      <th></th>\n",
              "    </tr>\n",
              "  </thead>\n",
              "  <tbody>\n",
              "    <tr>\n",
              "      <th>2019-05-10</th>\n",
              "      <td>42.00</td>\n",
              "      <td>45.000</td>\n",
              "      <td>41.0600</td>\n",
              "      <td>41.57</td>\n",
              "      <td>186322536</td>\n",
              "      <td>41.785</td>\n",
              "      <td>41.785</td>\n",
              "      <td>NaN</td>\n",
              "      <td>NaN</td>\n",
              "      <td>NaN</td>\n",
              "    </tr>\n",
              "    <tr>\n",
              "      <th>2019-05-13</th>\n",
              "      <td>38.79</td>\n",
              "      <td>39.240</td>\n",
              "      <td>36.0800</td>\n",
              "      <td>37.10</td>\n",
              "      <td>79442420</td>\n",
              "      <td>37.945</td>\n",
              "      <td>37.945</td>\n",
              "      <td>41.57</td>\n",
              "      <td>-0.107529</td>\n",
              "      <td>-0.107529</td>\n",
              "    </tr>\n",
              "    <tr>\n",
              "      <th>2019-05-14</th>\n",
              "      <td>38.31</td>\n",
              "      <td>39.960</td>\n",
              "      <td>36.8500</td>\n",
              "      <td>39.96</td>\n",
              "      <td>46661147</td>\n",
              "      <td>39.135</td>\n",
              "      <td>39.135</td>\n",
              "      <td>37.10</td>\n",
              "      <td>0.077089</td>\n",
              "      <td>0.077089</td>\n",
              "    </tr>\n",
              "    <tr>\n",
              "      <th>2019-05-15</th>\n",
              "      <td>39.37</td>\n",
              "      <td>41.880</td>\n",
              "      <td>38.9500</td>\n",
              "      <td>41.29</td>\n",
              "      <td>36086065</td>\n",
              "      <td>40.330</td>\n",
              "      <td>40.330</td>\n",
              "      <td>39.96</td>\n",
              "      <td>0.033283</td>\n",
              "      <td>0.033283</td>\n",
              "    </tr>\n",
              "    <tr>\n",
              "      <th>2019-05-16</th>\n",
              "      <td>41.48</td>\n",
              "      <td>44.060</td>\n",
              "      <td>41.2500</td>\n",
              "      <td>43.00</td>\n",
              "      <td>38115524</td>\n",
              "      <td>42.240</td>\n",
              "      <td>42.240</td>\n",
              "      <td>41.29</td>\n",
              "      <td>0.041414</td>\n",
              "      <td>0.041414</td>\n",
              "    </tr>\n",
              "    <tr>\n",
              "      <th>...</th>\n",
              "      <td>...</td>\n",
              "      <td>...</td>\n",
              "      <td>...</td>\n",
              "      <td>...</td>\n",
              "      <td>...</td>\n",
              "      <td>...</td>\n",
              "      <td>...</td>\n",
              "      <td>...</td>\n",
              "      <td>...</td>\n",
              "      <td>...</td>\n",
              "    </tr>\n",
              "    <tr>\n",
              "      <th>2020-06-10</th>\n",
              "      <td>36.69</td>\n",
              "      <td>36.800</td>\n",
              "      <td>34.2650</td>\n",
              "      <td>34.83</td>\n",
              "      <td>43473719</td>\n",
              "      <td>35.760</td>\n",
              "      <td>35.760</td>\n",
              "      <td>36.59</td>\n",
              "      <td>-0.048101</td>\n",
              "      <td>-0.048101</td>\n",
              "    </tr>\n",
              "    <tr>\n",
              "      <th>2020-06-11</th>\n",
              "      <td>32.63</td>\n",
              "      <td>33.245</td>\n",
              "      <td>30.8904</td>\n",
              "      <td>31.10</td>\n",
              "      <td>45298714</td>\n",
              "      <td>31.865</td>\n",
              "      <td>31.865</td>\n",
              "      <td>34.83</td>\n",
              "      <td>-0.107092</td>\n",
              "      <td>-0.107092</td>\n",
              "    </tr>\n",
              "    <tr>\n",
              "      <th>2020-06-12</th>\n",
              "      <td>32.73</td>\n",
              "      <td>32.740</td>\n",
              "      <td>31.0400</td>\n",
              "      <td>32.24</td>\n",
              "      <td>27685169</td>\n",
              "      <td>32.485</td>\n",
              "      <td>32.485</td>\n",
              "      <td>31.10</td>\n",
              "      <td>0.036656</td>\n",
              "      <td>0.036656</td>\n",
              "    </tr>\n",
              "    <tr>\n",
              "      <th>2020-06-15</th>\n",
              "      <td>31.16</td>\n",
              "      <td>32.680</td>\n",
              "      <td>31.0201</td>\n",
              "      <td>32.67</td>\n",
              "      <td>21350290</td>\n",
              "      <td>31.915</td>\n",
              "      <td>31.915</td>\n",
              "      <td>32.24</td>\n",
              "      <td>0.013337</td>\n",
              "      <td>0.013337</td>\n",
              "    </tr>\n",
              "    <tr>\n",
              "      <th>2020-06-16</th>\n",
              "      <td>34.00</td>\n",
              "      <td>34.170</td>\n",
              "      <td>32.4300</td>\n",
              "      <td>33.49</td>\n",
              "      <td>21377119</td>\n",
              "      <td>33.745</td>\n",
              "      <td>33.745</td>\n",
              "      <td>32.67</td>\n",
              "      <td>0.025099</td>\n",
              "      <td>0.025099</td>\n",
              "    </tr>\n",
              "  </tbody>\n",
              "</table>\n",
              "<p>278 rows × 10 columns</p>\n",
              "</div>"
            ],
            "text/plain": [
              "             Open    High      Low  ...  Close_shift  Daily_change  Daily_change_%\n",
              "Date                                ...                                           \n",
              "2019-05-10  42.00  45.000  41.0600  ...          NaN           NaN             NaN\n",
              "2019-05-13  38.79  39.240  36.0800  ...        41.57     -0.107529       -0.107529\n",
              "2019-05-14  38.31  39.960  36.8500  ...        37.10      0.077089        0.077089\n",
              "2019-05-15  39.37  41.880  38.9500  ...        39.96      0.033283        0.033283\n",
              "2019-05-16  41.48  44.060  41.2500  ...        41.29      0.041414        0.041414\n",
              "...           ...     ...      ...  ...          ...           ...             ...\n",
              "2020-06-10  36.69  36.800  34.2650  ...        36.59     -0.048101       -0.048101\n",
              "2020-06-11  32.63  33.245  30.8904  ...        34.83     -0.107092       -0.107092\n",
              "2020-06-12  32.73  32.740  31.0400  ...        31.10      0.036656        0.036656\n",
              "2020-06-15  31.16  32.680  31.0201  ...        32.24      0.013337        0.013337\n",
              "2020-06-16  34.00  34.170  32.4300  ...        32.67      0.025099        0.025099\n",
              "\n",
              "[278 rows x 10 columns]"
            ]
          },
          "metadata": {
            "tags": []
          },
          "execution_count": 77
        }
      ]
    },
    {
      "cell_type": "code",
      "metadata": {
        "id": "ByCkO8n8McLB",
        "colab_type": "code",
        "colab": {}
      },
      "source": [
        "del df['Daily_change_%']"
      ],
      "execution_count": 79,
      "outputs": []
    },
    {
      "cell_type": "code",
      "metadata": {
        "id": "jYpGfCmEOM2Y",
        "colab_type": "code",
        "colab": {
          "base_uri": "https://localhost:8080/",
          "height": 431
        },
        "outputId": "9097e73e-d9f2-43b5-9bcb-d62814a69da6"
      },
      "source": [
        "df"
      ],
      "execution_count": 80,
      "outputs": [
        {
          "output_type": "execute_result",
          "data": {
            "text/html": [
              "<div>\n",
              "<style scoped>\n",
              "    .dataframe tbody tr th:only-of-type {\n",
              "        vertical-align: middle;\n",
              "    }\n",
              "\n",
              "    .dataframe tbody tr th {\n",
              "        vertical-align: top;\n",
              "    }\n",
              "\n",
              "    .dataframe thead th {\n",
              "        text-align: right;\n",
              "    }\n",
              "</style>\n",
              "<table border=\"1\" class=\"dataframe\">\n",
              "  <thead>\n",
              "    <tr style=\"text-align: right;\">\n",
              "      <th></th>\n",
              "      <th>Open</th>\n",
              "      <th>High</th>\n",
              "      <th>Low</th>\n",
              "      <th>Close</th>\n",
              "      <th>Volume</th>\n",
              "      <th>nowa</th>\n",
              "      <th>AVG</th>\n",
              "      <th>Close_shift</th>\n",
              "      <th>Daily_change</th>\n",
              "    </tr>\n",
              "    <tr>\n",
              "      <th>Date</th>\n",
              "      <th></th>\n",
              "      <th></th>\n",
              "      <th></th>\n",
              "      <th></th>\n",
              "      <th></th>\n",
              "      <th></th>\n",
              "      <th></th>\n",
              "      <th></th>\n",
              "      <th></th>\n",
              "    </tr>\n",
              "  </thead>\n",
              "  <tbody>\n",
              "    <tr>\n",
              "      <th>2019-05-10</th>\n",
              "      <td>42.00</td>\n",
              "      <td>45.000</td>\n",
              "      <td>41.0600</td>\n",
              "      <td>41.57</td>\n",
              "      <td>186322536</td>\n",
              "      <td>41.785</td>\n",
              "      <td>41.785</td>\n",
              "      <td>NaN</td>\n",
              "      <td>NaN</td>\n",
              "    </tr>\n",
              "    <tr>\n",
              "      <th>2019-05-13</th>\n",
              "      <td>38.79</td>\n",
              "      <td>39.240</td>\n",
              "      <td>36.0800</td>\n",
              "      <td>37.10</td>\n",
              "      <td>79442420</td>\n",
              "      <td>37.945</td>\n",
              "      <td>37.945</td>\n",
              "      <td>41.57</td>\n",
              "      <td>-0.107529</td>\n",
              "    </tr>\n",
              "    <tr>\n",
              "      <th>2019-05-14</th>\n",
              "      <td>38.31</td>\n",
              "      <td>39.960</td>\n",
              "      <td>36.8500</td>\n",
              "      <td>39.96</td>\n",
              "      <td>46661147</td>\n",
              "      <td>39.135</td>\n",
              "      <td>39.135</td>\n",
              "      <td>37.10</td>\n",
              "      <td>0.077089</td>\n",
              "    </tr>\n",
              "    <tr>\n",
              "      <th>2019-05-15</th>\n",
              "      <td>39.37</td>\n",
              "      <td>41.880</td>\n",
              "      <td>38.9500</td>\n",
              "      <td>41.29</td>\n",
              "      <td>36086065</td>\n",
              "      <td>40.330</td>\n",
              "      <td>40.330</td>\n",
              "      <td>39.96</td>\n",
              "      <td>0.033283</td>\n",
              "    </tr>\n",
              "    <tr>\n",
              "      <th>2019-05-16</th>\n",
              "      <td>41.48</td>\n",
              "      <td>44.060</td>\n",
              "      <td>41.2500</td>\n",
              "      <td>43.00</td>\n",
              "      <td>38115524</td>\n",
              "      <td>42.240</td>\n",
              "      <td>42.240</td>\n",
              "      <td>41.29</td>\n",
              "      <td>0.041414</td>\n",
              "    </tr>\n",
              "    <tr>\n",
              "      <th>...</th>\n",
              "      <td>...</td>\n",
              "      <td>...</td>\n",
              "      <td>...</td>\n",
              "      <td>...</td>\n",
              "      <td>...</td>\n",
              "      <td>...</td>\n",
              "      <td>...</td>\n",
              "      <td>...</td>\n",
              "      <td>...</td>\n",
              "    </tr>\n",
              "    <tr>\n",
              "      <th>2020-06-10</th>\n",
              "      <td>36.69</td>\n",
              "      <td>36.800</td>\n",
              "      <td>34.2650</td>\n",
              "      <td>34.83</td>\n",
              "      <td>43473719</td>\n",
              "      <td>35.760</td>\n",
              "      <td>35.760</td>\n",
              "      <td>36.59</td>\n",
              "      <td>-0.048101</td>\n",
              "    </tr>\n",
              "    <tr>\n",
              "      <th>2020-06-11</th>\n",
              "      <td>32.63</td>\n",
              "      <td>33.245</td>\n",
              "      <td>30.8904</td>\n",
              "      <td>31.10</td>\n",
              "      <td>45298714</td>\n",
              "      <td>31.865</td>\n",
              "      <td>31.865</td>\n",
              "      <td>34.83</td>\n",
              "      <td>-0.107092</td>\n",
              "    </tr>\n",
              "    <tr>\n",
              "      <th>2020-06-12</th>\n",
              "      <td>32.73</td>\n",
              "      <td>32.740</td>\n",
              "      <td>31.0400</td>\n",
              "      <td>32.24</td>\n",
              "      <td>27685169</td>\n",
              "      <td>32.485</td>\n",
              "      <td>32.485</td>\n",
              "      <td>31.10</td>\n",
              "      <td>0.036656</td>\n",
              "    </tr>\n",
              "    <tr>\n",
              "      <th>2020-06-15</th>\n",
              "      <td>31.16</td>\n",
              "      <td>32.680</td>\n",
              "      <td>31.0201</td>\n",
              "      <td>32.67</td>\n",
              "      <td>21350290</td>\n",
              "      <td>31.915</td>\n",
              "      <td>31.915</td>\n",
              "      <td>32.24</td>\n",
              "      <td>0.013337</td>\n",
              "    </tr>\n",
              "    <tr>\n",
              "      <th>2020-06-16</th>\n",
              "      <td>34.00</td>\n",
              "      <td>34.170</td>\n",
              "      <td>32.4300</td>\n",
              "      <td>33.49</td>\n",
              "      <td>21377119</td>\n",
              "      <td>33.745</td>\n",
              "      <td>33.745</td>\n",
              "      <td>32.67</td>\n",
              "      <td>0.025099</td>\n",
              "    </tr>\n",
              "  </tbody>\n",
              "</table>\n",
              "<p>278 rows × 9 columns</p>\n",
              "</div>"
            ],
            "text/plain": [
              "             Open    High      Low  ...     AVG  Close_shift  Daily_change\n",
              "Date                                ...                                   \n",
              "2019-05-10  42.00  45.000  41.0600  ...  41.785          NaN           NaN\n",
              "2019-05-13  38.79  39.240  36.0800  ...  37.945        41.57     -0.107529\n",
              "2019-05-14  38.31  39.960  36.8500  ...  39.135        37.10      0.077089\n",
              "2019-05-15  39.37  41.880  38.9500  ...  40.330        39.96      0.033283\n",
              "2019-05-16  41.48  44.060  41.2500  ...  42.240        41.29      0.041414\n",
              "...           ...     ...      ...  ...     ...          ...           ...\n",
              "2020-06-10  36.69  36.800  34.2650  ...  35.760        36.59     -0.048101\n",
              "2020-06-11  32.63  33.245  30.8904  ...  31.865        34.83     -0.107092\n",
              "2020-06-12  32.73  32.740  31.0400  ...  32.485        31.10      0.036656\n",
              "2020-06-15  31.16  32.680  31.0201  ...  31.915        32.24      0.013337\n",
              "2020-06-16  34.00  34.170  32.4300  ...  33.745        32.67      0.025099\n",
              "\n",
              "[278 rows x 9 columns]"
            ]
          },
          "metadata": {
            "tags": []
          },
          "execution_count": 80
        }
      ]
    },
    {
      "cell_type": "code",
      "metadata": {
        "id": "uAkD62SYOR5_",
        "colab_type": "code",
        "colab": {
          "base_uri": "https://localhost:8080/",
          "height": 34
        },
        "outputId": "b30b5bb1-ab8e-435c-fe8d-ef0d39318ab7"
      },
      "source": [
        "df['Daily_change'].min()"
      ],
      "execution_count": 86,
      "outputs": [
        {
          "output_type": "execute_result",
          "data": {
            "text/plain": [
              "-0.21628767847699626"
            ]
          },
          "metadata": {
            "tags": []
          },
          "execution_count": 86
        }
      ]
    },
    {
      "cell_type": "code",
      "metadata": {
        "id": "xjTM7k4fOZEQ",
        "colab_type": "code",
        "colab": {
          "base_uri": "https://localhost:8080/",
          "height": 34
        },
        "outputId": "8c4c2be2-0b1a-4970-d0c9-a708d90dccb2"
      },
      "source": [
        "df['Daily_change'].max()"
      ],
      "execution_count": 87,
      "outputs": [
        {
          "output_type": "execute_result",
          "data": {
            "text/plain": [
              "0.3825910931174088"
            ]
          },
          "metadata": {
            "tags": []
          },
          "execution_count": 87
        }
      ]
    },
    {
      "cell_type": "code",
      "metadata": {
        "id": "zMYm4IpyOoWH",
        "colab_type": "code",
        "colab": {
          "base_uri": "https://localhost:8080/",
          "height": 285
        },
        "outputId": "d517ce2e-62b4-4043-dfff-67022a310c36"
      },
      "source": [
        "import seaborn as sns \n",
        "sns.set()\n",
        "df.Daily_change.hist(bins=100)"
      ],
      "execution_count": 89,
      "outputs": [
        {
          "output_type": "execute_result",
          "data": {
            "text/plain": [
              "<matplotlib.axes._subplots.AxesSubplot at 0x7fe8d3706438>"
            ]
          },
          "metadata": {
            "tags": []
          },
          "execution_count": 89
        },
        {
          "output_type": "display_data",
          "data": {
            "image/png": "[encoded data removed]",
            "text/plain": [
              "<Figure size 432x288 with 1 Axes>"
            ]
          },
          "metadata": {
            "tags": []
          }
        }
      ]
    },
    {
      "cell_type": "code",
      "metadata": {
        "id": "9iumhP5BOvA2",
        "colab_type": "code",
        "colab": {
          "base_uri": "https://localhost:8080/",
          "height": 302
        },
        "outputId": "fe99421a-988e-4d09-d5d8-d1df65221539"
      },
      "source": [
        "df.Close.plot()"
      ],
      "execution_count": 90,
      "outputs": [
        {
          "output_type": "execute_result",
          "data": {
            "text/plain": [
              "<matplotlib.axes._subplots.AxesSubplot at 0x7fe8de671278>"
            ]
          },
          "metadata": {
            "tags": []
          },
          "execution_count": 90
        },
        {
          "output_type": "display_data",
          "data": {
            "image/png": "[encoded data removed]",
            "text/plain": [
              "<Figure size 432x288 with 1 Axes>"
            ]
          },
          "metadata": {
            "tags": []
          }
        }
      ]
    },
    {
      "cell_type": "code",
      "metadata": {
        "id": "i1Ngon85O94-",
        "colab_type": "code",
        "colab": {}
      },
      "source": [
        "df_positive = df[df.Daily_change > 0 ]"
      ],
      "execution_count": 103,
      "outputs": []
    },
    {
      "cell_type": "code",
      "metadata": {
        "id": "tSO_02UUQwNn",
        "colab_type": "code",
        "colab": {
          "base_uri": "https://localhost:8080/",
          "height": 34
        },
        "outputId": "4f62e165-36d9-4cbd-9a93-e0a32c99c7a1"
      },
      "source": [
        "df_positive.Daily_change.mean()"
      ],
      "execution_count": 106,
      "outputs": [
        {
          "output_type": "execute_result",
          "data": {
            "text/plain": [
              "0.03000675327378007"
            ]
          },
          "metadata": {
            "tags": []
          },
          "execution_count": 106
        }
      ]
    },
    {
      "cell_type": "code",
      "metadata": {
        "id": "AOkTC9a3ROZ8",
        "colab_type": "code",
        "colab": {}
      },
      "source": [
        "df_negative = df[df.Daily_change < 0 ]"
      ],
      "execution_count": 107,
      "outputs": []
    },
    {
      "cell_type": "code",
      "metadata": {
        "id": "BHpjDwuURPDT",
        "colab_type": "code",
        "colab": {
          "base_uri": "https://localhost:8080/",
          "height": 34
        },
        "outputId": "8d4c7698-baaa-4965-9300-59d753d05b45"
      },
      "source": [
        "df_negative.Daily_change.mean()"
      ],
      "execution_count": 108,
      "outputs": [
        {
          "output_type": "execute_result",
          "data": {
            "text/plain": [
              "-0.02628765253710118"
            ]
          },
          "metadata": {
            "tags": []
          },
          "execution_count": 108
        }
      ]
    },
    {
      "cell_type": "code",
      "metadata": {
        "id": "G4C3lvlKRhCz",
        "colab_type": "code",
        "colab": {
          "base_uri": "https://localhost:8080/",
          "height": 235
        },
        "outputId": "d75bf087-40dc-4eb7-f1ae-33362559f235"
      },
      "source": [
        "df.Close == df.High"
      ],
      "execution_count": 109,
      "outputs": [
        {
          "output_type": "execute_result",
          "data": {
            "text/plain": [
              "Date\n",
              "2019-05-10    False\n",
              "2019-05-13    False\n",
              "2019-05-14     True\n",
              "2019-05-15    False\n",
              "2019-05-16    False\n",
              "              ...  \n",
              "2020-06-10    False\n",
              "2020-06-11    False\n",
              "2020-06-12    False\n",
              "2020-06-15    False\n",
              "2020-06-16    False\n",
              "Length: 278, dtype: bool"
            ]
          },
          "metadata": {
            "tags": []
          },
          "execution_count": 109
        }
      ]
    },
    {
      "cell_type": "code",
      "metadata": {
        "id": "a-o14qXlSkpz",
        "colab_type": "code",
        "colab": {
          "base_uri": "https://localhost:8080/",
          "height": 136
        },
        "outputId": "55b2cbe9-ad6e-48b3-b773-5a4776fecb73"
      },
      "source": [
        "df[df.Close == df.High]"
      ],
      "execution_count": 110,
      "outputs": [
        {
          "output_type": "execute_result",
          "data": {
            "text/html": [
              "<div>\n",
              "<style scoped>\n",
              "    .dataframe tbody tr th:only-of-type {\n",
              "        vertical-align: middle;\n",
              "    }\n",
              "\n",
              "    .dataframe tbody tr th {\n",
              "        vertical-align: top;\n",
              "    }\n",
              "\n",
              "    .dataframe thead th {\n",
              "        text-align: right;\n",
              "    }\n",
              "</style>\n",
              "<table border=\"1\" class=\"dataframe\">\n",
              "  <thead>\n",
              "    <tr style=\"text-align: right;\">\n",
              "      <th></th>\n",
              "      <th>Open</th>\n",
              "      <th>High</th>\n",
              "      <th>Low</th>\n",
              "      <th>Close</th>\n",
              "      <th>Volume</th>\n",
              "      <th>nowa</th>\n",
              "      <th>AVG</th>\n",
              "      <th>Close_shift</th>\n",
              "      <th>Daily_change</th>\n",
              "    </tr>\n",
              "    <tr>\n",
              "      <th>Date</th>\n",
              "      <th></th>\n",
              "      <th></th>\n",
              "      <th></th>\n",
              "      <th></th>\n",
              "      <th></th>\n",
              "      <th></th>\n",
              "      <th></th>\n",
              "      <th></th>\n",
              "      <th></th>\n",
              "    </tr>\n",
              "  </thead>\n",
              "  <tbody>\n",
              "    <tr>\n",
              "      <th>2019-05-14</th>\n",
              "      <td>38.31</td>\n",
              "      <td>39.96</td>\n",
              "      <td>36.85</td>\n",
              "      <td>39.96</td>\n",
              "      <td>46661147</td>\n",
              "      <td>39.135</td>\n",
              "      <td>39.135</td>\n",
              "      <td>37.10</td>\n",
              "      <td>0.077089</td>\n",
              "    </tr>\n",
              "    <tr>\n",
              "      <th>2019-05-24</th>\n",
              "      <td>41.28</td>\n",
              "      <td>41.51</td>\n",
              "      <td>40.50</td>\n",
              "      <td>41.51</td>\n",
              "      <td>8786751</td>\n",
              "      <td>41.395</td>\n",
              "      <td>41.395</td>\n",
              "      <td>40.47</td>\n",
              "      <td>0.025698</td>\n",
              "    </tr>\n",
              "  </tbody>\n",
              "</table>\n",
              "</div>"
            ],
            "text/plain": [
              "             Open   High    Low  ...     AVG  Close_shift  Daily_change\n",
              "Date                             ...                                   \n",
              "2019-05-14  38.31  39.96  36.85  ...  39.135        37.10      0.077089\n",
              "2019-05-24  41.28  41.51  40.50  ...  41.395        40.47      0.025698\n",
              "\n",
              "[2 rows x 9 columns]"
            ]
          },
          "metadata": {
            "tags": []
          },
          "execution_count": 110
        }
      ]
    },
    {
      "cell_type": "code",
      "metadata": {
        "id": "YawB9M0_SpHP",
        "colab_type": "code",
        "colab": {
          "base_uri": "https://localhost:8080/",
          "height": 431
        },
        "outputId": "d5386986-6a18-417b-b25f-557168a92687"
      },
      "source": [
        "df[df.index > '2019-11-01']"
      ],
      "execution_count": 112,
      "outputs": [
        {
          "output_type": "execute_result",
          "data": {
            "text/html": [
              "<div>\n",
              "<style scoped>\n",
              "    .dataframe tbody tr th:only-of-type {\n",
              "        vertical-align: middle;\n",
              "    }\n",
              "\n",
              "    .dataframe tbody tr th {\n",
              "        vertical-align: top;\n",
              "    }\n",
              "\n",
              "    .dataframe thead th {\n",
              "        text-align: right;\n",
              "    }\n",
              "</style>\n",
              "<table border=\"1\" class=\"dataframe\">\n",
              "  <thead>\n",
              "    <tr style=\"text-align: right;\">\n",
              "      <th></th>\n",
              "      <th>Open</th>\n",
              "      <th>High</th>\n",
              "      <th>Low</th>\n",
              "      <th>Close</th>\n",
              "      <th>Volume</th>\n",
              "      <th>nowa</th>\n",
              "      <th>AVG</th>\n",
              "      <th>Close_shift</th>\n",
              "      <th>Daily_change</th>\n",
              "    </tr>\n",
              "    <tr>\n",
              "      <th>Date</th>\n",
              "      <th></th>\n",
              "      <th></th>\n",
              "      <th></th>\n",
              "      <th></th>\n",
              "      <th></th>\n",
              "      <th></th>\n",
              "      <th></th>\n",
              "      <th></th>\n",
              "      <th></th>\n",
              "    </tr>\n",
              "  </thead>\n",
              "  <tbody>\n",
              "    <tr>\n",
              "      <th>2019-11-04</th>\n",
              "      <td>31.45</td>\n",
              "      <td>31.750</td>\n",
              "      <td>30.1200</td>\n",
              "      <td>31.08</td>\n",
              "      <td>32330121</td>\n",
              "      <td>31.265</td>\n",
              "      <td>31.265</td>\n",
              "      <td>31.37</td>\n",
              "      <td>-0.009245</td>\n",
              "    </tr>\n",
              "    <tr>\n",
              "      <th>2019-11-05</th>\n",
              "      <td>29.13</td>\n",
              "      <td>29.300</td>\n",
              "      <td>27.9700</td>\n",
              "      <td>28.02</td>\n",
              "      <td>52180615</td>\n",
              "      <td>28.575</td>\n",
              "      <td>28.575</td>\n",
              "      <td>31.08</td>\n",
              "      <td>-0.098456</td>\n",
              "    </tr>\n",
              "    <tr>\n",
              "      <th>2019-11-06</th>\n",
              "      <td>26.06</td>\n",
              "      <td>27.550</td>\n",
              "      <td>25.5800</td>\n",
              "      <td>26.94</td>\n",
              "      <td>133569790</td>\n",
              "      <td>26.500</td>\n",
              "      <td>26.500</td>\n",
              "      <td>28.02</td>\n",
              "      <td>-0.038544</td>\n",
              "    </tr>\n",
              "    <tr>\n",
              "      <th>2019-11-07</th>\n",
              "      <td>26.80</td>\n",
              "      <td>27.420</td>\n",
              "      <td>26.4500</td>\n",
              "      <td>27.38</td>\n",
              "      <td>65949472</td>\n",
              "      <td>27.090</td>\n",
              "      <td>27.090</td>\n",
              "      <td>26.94</td>\n",
              "      <td>0.016333</td>\n",
              "    </tr>\n",
              "    <tr>\n",
              "      <th>2019-11-08</th>\n",
              "      <td>27.48</td>\n",
              "      <td>27.620</td>\n",
              "      <td>26.9150</td>\n",
              "      <td>27.01</td>\n",
              "      <td>45263118</td>\n",
              "      <td>27.245</td>\n",
              "      <td>27.245</td>\n",
              "      <td>27.38</td>\n",
              "      <td>-0.013514</td>\n",
              "    </tr>\n",
              "    <tr>\n",
              "      <th>...</th>\n",
              "      <td>...</td>\n",
              "      <td>...</td>\n",
              "      <td>...</td>\n",
              "      <td>...</td>\n",
              "      <td>...</td>\n",
              "      <td>...</td>\n",
              "      <td>...</td>\n",
              "      <td>...</td>\n",
              "      <td>...</td>\n",
              "    </tr>\n",
              "    <tr>\n",
              "      <th>2020-06-10</th>\n",
              "      <td>36.69</td>\n",
              "      <td>36.800</td>\n",
              "      <td>34.2650</td>\n",
              "      <td>34.83</td>\n",
              "      <td>43473719</td>\n",
              "      <td>35.760</td>\n",
              "      <td>35.760</td>\n",
              "      <td>36.59</td>\n",
              "      <td>-0.048101</td>\n",
              "    </tr>\n",
              "    <tr>\n",
              "      <th>2020-06-11</th>\n",
              "      <td>32.63</td>\n",
              "      <td>33.245</td>\n",
              "      <td>30.8904</td>\n",
              "      <td>31.10</td>\n",
              "      <td>45298714</td>\n",
              "      <td>31.865</td>\n",
              "      <td>31.865</td>\n",
              "      <td>34.83</td>\n",
              "      <td>-0.107092</td>\n",
              "    </tr>\n",
              "    <tr>\n",
              "      <th>2020-06-12</th>\n",
              "      <td>32.73</td>\n",
              "      <td>32.740</td>\n",
              "      <td>31.0400</td>\n",
              "      <td>32.24</td>\n",
              "      <td>27685169</td>\n",
              "      <td>32.485</td>\n",
              "      <td>32.485</td>\n",
              "      <td>31.10</td>\n",
              "      <td>0.036656</td>\n",
              "    </tr>\n",
              "    <tr>\n",
              "      <th>2020-06-15</th>\n",
              "      <td>31.16</td>\n",
              "      <td>32.680</td>\n",
              "      <td>31.0201</td>\n",
              "      <td>32.67</td>\n",
              "      <td>21350290</td>\n",
              "      <td>31.915</td>\n",
              "      <td>31.915</td>\n",
              "      <td>32.24</td>\n",
              "      <td>0.013337</td>\n",
              "    </tr>\n",
              "    <tr>\n",
              "      <th>2020-06-16</th>\n",
              "      <td>34.00</td>\n",
              "      <td>34.170</td>\n",
              "      <td>32.4300</td>\n",
              "      <td>33.49</td>\n",
              "      <td>21377119</td>\n",
              "      <td>33.745</td>\n",
              "      <td>33.745</td>\n",
              "      <td>32.67</td>\n",
              "      <td>0.025099</td>\n",
              "    </tr>\n",
              "  </tbody>\n",
              "</table>\n",
              "<p>155 rows × 9 columns</p>\n",
              "</div>"
            ],
            "text/plain": [
              "             Open    High      Low  ...     AVG  Close_shift  Daily_change\n",
              "Date                                ...                                   \n",
              "2019-11-04  31.45  31.750  30.1200  ...  31.265        31.37     -0.009245\n",
              "2019-11-05  29.13  29.300  27.9700  ...  28.575        31.08     -0.098456\n",
              "2019-11-06  26.06  27.550  25.5800  ...  26.500        28.02     -0.038544\n",
              "2019-11-07  26.80  27.420  26.4500  ...  27.090        26.94      0.016333\n",
              "2019-11-08  27.48  27.620  26.9150  ...  27.245        27.38     -0.013514\n",
              "...           ...     ...      ...  ...     ...          ...           ...\n",
              "2020-06-10  36.69  36.800  34.2650  ...  35.760        36.59     -0.048101\n",
              "2020-06-11  32.63  33.245  30.8904  ...  31.865        34.83     -0.107092\n",
              "2020-06-12  32.73  32.740  31.0400  ...  32.485        31.10      0.036656\n",
              "2020-06-15  31.16  32.680  31.0201  ...  31.915        32.24      0.013337\n",
              "2020-06-16  34.00  34.170  32.4300  ...  33.745        32.67      0.025099\n",
              "\n",
              "[155 rows x 9 columns]"
            ]
          },
          "metadata": {
            "tags": []
          },
          "execution_count": 112
        }
      ]
    },
    {
      "cell_type": "code",
      "metadata": {
        "id": "SOmCx_rSS-22",
        "colab_type": "code",
        "colab": {
          "base_uri": "https://localhost:8080/",
          "height": 431
        },
        "outputId": "2a58abca-ac03-410c-9f28-5b8ae94d3f4c"
      },
      "source": [
        "df[(df.index >= '2019-11-01') & (df.index >= '2019-11-15')]"
      ],
      "execution_count": 113,
      "outputs": [
        {
          "output_type": "execute_result",
          "data": {
            "text/html": [
              "<div>\n",
              "<style scoped>\n",
              "    .dataframe tbody tr th:only-of-type {\n",
              "        vertical-align: middle;\n",
              "    }\n",
              "\n",
              "    .dataframe tbody tr th {\n",
              "        vertical-align: top;\n",
              "    }\n",
              "\n",
              "    .dataframe thead th {\n",
              "        text-align: right;\n",
              "    }\n",
              "</style>\n",
              "<table border=\"1\" class=\"dataframe\">\n",
              "  <thead>\n",
              "    <tr style=\"text-align: right;\">\n",
              "      <th></th>\n",
              "      <th>Open</th>\n",
              "      <th>High</th>\n",
              "      <th>Low</th>\n",
              "      <th>Close</th>\n",
              "      <th>Volume</th>\n",
              "      <th>nowa</th>\n",
              "      <th>AVG</th>\n",
              "      <th>Close_shift</th>\n",
              "      <th>Daily_change</th>\n",
              "    </tr>\n",
              "    <tr>\n",
              "      <th>Date</th>\n",
              "      <th></th>\n",
              "      <th></th>\n",
              "      <th></th>\n",
              "      <th></th>\n",
              "      <th></th>\n",
              "      <th></th>\n",
              "      <th></th>\n",
              "      <th></th>\n",
              "      <th></th>\n",
              "    </tr>\n",
              "  </thead>\n",
              "  <tbody>\n",
              "    <tr>\n",
              "      <th>2019-11-15</th>\n",
              "      <td>26.18</td>\n",
              "      <td>26.800</td>\n",
              "      <td>25.9550</td>\n",
              "      <td>26.79</td>\n",
              "      <td>41372771</td>\n",
              "      <td>26.485</td>\n",
              "      <td>26.485</td>\n",
              "      <td>25.99</td>\n",
              "      <td>0.030781</td>\n",
              "    </tr>\n",
              "    <tr>\n",
              "      <th>2019-11-18</th>\n",
              "      <td>26.80</td>\n",
              "      <td>27.000</td>\n",
              "      <td>26.3000</td>\n",
              "      <td>26.75</td>\n",
              "      <td>37309667</td>\n",
              "      <td>26.775</td>\n",
              "      <td>26.775</td>\n",
              "      <td>26.79</td>\n",
              "      <td>-0.001493</td>\n",
              "    </tr>\n",
              "    <tr>\n",
              "      <th>2019-11-19</th>\n",
              "      <td>26.77</td>\n",
              "      <td>27.220</td>\n",
              "      <td>26.6100</td>\n",
              "      <td>27.05</td>\n",
              "      <td>34115865</td>\n",
              "      <td>26.910</td>\n",
              "      <td>26.910</td>\n",
              "      <td>26.75</td>\n",
              "      <td>0.011215</td>\n",
              "    </tr>\n",
              "    <tr>\n",
              "      <th>2019-11-20</th>\n",
              "      <td>27.06</td>\n",
              "      <td>28.400</td>\n",
              "      <td>26.9450</td>\n",
              "      <td>28.03</td>\n",
              "      <td>54075774</td>\n",
              "      <td>27.545</td>\n",
              "      <td>27.545</td>\n",
              "      <td>27.05</td>\n",
              "      <td>0.036229</td>\n",
              "    </tr>\n",
              "    <tr>\n",
              "      <th>2019-11-21</th>\n",
              "      <td>28.67</td>\n",
              "      <td>29.600</td>\n",
              "      <td>28.5000</td>\n",
              "      <td>29.46</td>\n",
              "      <td>55658629</td>\n",
              "      <td>29.065</td>\n",
              "      <td>29.065</td>\n",
              "      <td>28.03</td>\n",
              "      <td>0.051017</td>\n",
              "    </tr>\n",
              "    <tr>\n",
              "      <th>...</th>\n",
              "      <td>...</td>\n",
              "      <td>...</td>\n",
              "      <td>...</td>\n",
              "      <td>...</td>\n",
              "      <td>...</td>\n",
              "      <td>...</td>\n",
              "      <td>...</td>\n",
              "      <td>...</td>\n",
              "      <td>...</td>\n",
              "    </tr>\n",
              "    <tr>\n",
              "      <th>2020-06-10</th>\n",
              "      <td>36.69</td>\n",
              "      <td>36.800</td>\n",
              "      <td>34.2650</td>\n",
              "      <td>34.83</td>\n",
              "      <td>43473719</td>\n",
              "      <td>35.760</td>\n",
              "      <td>35.760</td>\n",
              "      <td>36.59</td>\n",
              "      <td>-0.048101</td>\n",
              "    </tr>\n",
              "    <tr>\n",
              "      <th>2020-06-11</th>\n",
              "      <td>32.63</td>\n",
              "      <td>33.245</td>\n",
              "      <td>30.8904</td>\n",
              "      <td>31.10</td>\n",
              "      <td>45298714</td>\n",
              "      <td>31.865</td>\n",
              "      <td>31.865</td>\n",
              "      <td>34.83</td>\n",
              "      <td>-0.107092</td>\n",
              "    </tr>\n",
              "    <tr>\n",
              "      <th>2020-06-12</th>\n",
              "      <td>32.73</td>\n",
              "      <td>32.740</td>\n",
              "      <td>31.0400</td>\n",
              "      <td>32.24</td>\n",
              "      <td>27685169</td>\n",
              "      <td>32.485</td>\n",
              "      <td>32.485</td>\n",
              "      <td>31.10</td>\n",
              "      <td>0.036656</td>\n",
              "    </tr>\n",
              "    <tr>\n",
              "      <th>2020-06-15</th>\n",
              "      <td>31.16</td>\n",
              "      <td>32.680</td>\n",
              "      <td>31.0201</td>\n",
              "      <td>32.67</td>\n",
              "      <td>21350290</td>\n",
              "      <td>31.915</td>\n",
              "      <td>31.915</td>\n",
              "      <td>32.24</td>\n",
              "      <td>0.013337</td>\n",
              "    </tr>\n",
              "    <tr>\n",
              "      <th>2020-06-16</th>\n",
              "      <td>34.00</td>\n",
              "      <td>34.170</td>\n",
              "      <td>32.4300</td>\n",
              "      <td>33.49</td>\n",
              "      <td>21377119</td>\n",
              "      <td>33.745</td>\n",
              "      <td>33.745</td>\n",
              "      <td>32.67</td>\n",
              "      <td>0.025099</td>\n",
              "    </tr>\n",
              "  </tbody>\n",
              "</table>\n",
              "<p>146 rows × 9 columns</p>\n",
              "</div>"
            ],
            "text/plain": [
              "             Open    High      Low  ...     AVG  Close_shift  Daily_change\n",
              "Date                                ...                                   \n",
              "2019-11-15  26.18  26.800  25.9550  ...  26.485        25.99      0.030781\n",
              "2019-11-18  26.80  27.000  26.3000  ...  26.775        26.79     -0.001493\n",
              "2019-11-19  26.77  27.220  26.6100  ...  26.910        26.75      0.011215\n",
              "2019-11-20  27.06  28.400  26.9450  ...  27.545        27.05      0.036229\n",
              "2019-11-21  28.67  29.600  28.5000  ...  29.065        28.03      0.051017\n",
              "...           ...     ...      ...  ...     ...          ...           ...\n",
              "2020-06-10  36.69  36.800  34.2650  ...  35.760        36.59     -0.048101\n",
              "2020-06-11  32.63  33.245  30.8904  ...  31.865        34.83     -0.107092\n",
              "2020-06-12  32.73  32.740  31.0400  ...  32.485        31.10      0.036656\n",
              "2020-06-15  31.16  32.680  31.0201  ...  31.915        32.24      0.013337\n",
              "2020-06-16  34.00  34.170  32.4300  ...  33.745        32.67      0.025099\n",
              "\n",
              "[146 rows x 9 columns]"
            ]
          },
          "metadata": {
            "tags": []
          },
          "execution_count": 113
        }
      ]
    },
    {
      "cell_type": "code",
      "metadata": {
        "id": "6joURYyzTUco",
        "colab_type": "code",
        "colab": {}
      },
      "source": [
        ""
      ],
      "execution_count": null,
      "outputs": []
    }
  ]
}