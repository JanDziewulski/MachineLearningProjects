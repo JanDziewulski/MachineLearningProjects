{
  "nbformat": 4,
  "nbformat_minor": 0,
  "metadata": {
    "colab": {
      "name": "Energy Star Score - supervised regression.ipynb",
      "provenance": [],
      "toc_visible": true,
      "authorship_tag": "ABX9TyMoWqrh3nkby61ajWH/x6j4",
      "include_colab_link": true
    },
    "kernelspec": {
      "name": "python3",
      "display_name": "Python 3"
    }
  },
  "cells": [
    {
      "cell_type": "markdown",
      "metadata": {
        "id": "view-in-github",
        "colab_type": "text"
      },
      "source": [
        "<a href=\"https://colab.research.google.com/github/JanDziewulski/MachineLearningProjects/blob/master/Energy_Star_Score_supervised_regression.ipynb\" target=\"_parent\"><img src=\"https://colab.research.google.com/assets/colab-badge.svg\" alt=\"Open In Colab\"/></a>"
      ]
    },
    {
      "cell_type": "markdown",
      "metadata": {
        "id": "ys7lL88i0qnV",
        "colab_type": "text"
      },
      "source": [
        "##Definicja problemu:\n",
        "Celem jest wykorzystanie danych dotyczących energii do zbudowania modelu, który może przewidzieć wynik Energy Star budynku i zinterpretować wyniki, aby znaleźć czynniki, które wpływają na wynik."
      ]
    },
    {
      "cell_type": "code",
      "metadata": {
        "id": "XIZRDPdL09Fi",
        "colab_type": "code",
        "colab": {}
      },
      "source": [
        ""
      ],
      "execution_count": null,
      "outputs": []
    }
  ]
}